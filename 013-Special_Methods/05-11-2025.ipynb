{
 "cells": [
  {
   "cell_type": "markdown",
   "id": "f3008739",
   "metadata": {},
   "source": [
    "# Special Methods"
   ]
  },
  {
   "cell_type": "markdown",
   "id": "8834dacd",
   "metadata": {},
   "source": [
    "1. init\n",
    "2. str\n",
    "3. repr"
   ]
  },
  {
   "cell_type": "code",
   "execution_count": null,
   "id": "7d5804a9",
   "metadata": {},
   "outputs": [
    {
     "name": "stdout",
     "output_type": "stream",
     "text": [
      "1984\n"
     ]
    }
   ],
   "source": [
    "#1. init method: __init__ – Constructor\n",
    "# Called automatically when an object is created\n",
    "class Book:\n",
    "    def __init__(self, title, author):\n",
    "        self.title = title\n",
    "        self.author = author\n",
    "\n",
    "b = Book(\"1984\", \"George Orwell\")\n",
    "print(b.title)  # Output: 1984\n"
   ]
  },
  {
   "cell_type": "code",
   "execution_count": 4,
   "id": "ce609801",
   "metadata": {},
   "outputs": [
    {
     "name": "stdout",
     "output_type": "stream",
     "text": [
      "Planet: Mars\n"
     ]
    }
   ],
   "source": [
    "# 2. str method: __str__ – User-Friendly String Representation\n",
    "# Called by print() and str()\n",
    "\n",
    "class Planet:\n",
    "    def __init__(self, name):\n",
    "        self.name = name\n",
    "\n",
    "    def __str__(self):\n",
    "        return f\"Planet: {self.name}\"\n",
    "\n",
    "print(Planet(\"Mars\"))  # Output: Planet: Mars"
   ]
  },
  {
   "cell_type": "code",
   "execution_count": 5,
   "id": "75b54ba6",
   "metadata": {},
   "outputs": [
    {
     "name": "stdout",
     "output_type": "stream",
     "text": [
      "Animal('Tiger')\n"
     ]
    }
   ],
   "source": [
    "# 3. __repr__ – Official String Representation (for developers)\n",
    "# Used in the console and repr().\n",
    "class Animal:\n",
    "    def __init__(self, species):\n",
    "        self.species = species\n",
    "\n",
    "    def __repr__(self):\n",
    "        return f\"Animal('{self.species}')\"\n",
    "\n",
    "a = Animal(\"Tiger\")\n",
    "print(repr(a))  # Output: Animal('Tiger')\n"
   ]
  },
  {
   "cell_type": "code",
   "execution_count": 7,
   "id": "94f6c38b",
   "metadata": {},
   "outputs": [
    {
     "name": "stdout",
     "output_type": "stream",
     "text": [
      "800\n"
     ]
    }
   ],
   "source": [
    "# 4. __add__ – Defines + Operator\n",
    "class Budget:\n",
    "    def __init__(self, amount):\n",
    "        self.amount = amount\n",
    "\n",
    "    def __add__(self, other):\n",
    "        return Budget(self.amount + other.amount)\n",
    "\n",
    "b1 = Budget(500)\n",
    "b2 = Budget(300)\n",
    "print((b1 + b2).amount)  # Output: 800\n"
   ]
  },
  {
   "cell_type": "code",
   "execution_count": null,
   "id": "5a0dd4a6",
   "metadata": {},
   "outputs": [
    {
     "name": "stdout",
     "output_type": "stream",
     "text": [
      "Budget(total=500)\n",
      "Budget(total=300)\n",
      "Budget(total=800)\n"
     ]
    }
   ],
   "source": [
    "# ✅ Modified Example with __add__ and __repr__\n",
    "class Budget:\n",
    "    def __init__(self, val1, val2):\n",
    "        self.amount = val1 + val2\n",
    "\n",
    "    def __add__(self, other):\n",
    "        return Budget(self.amount, other.amount)\n",
    "\n",
    "    def __repr__(self):\n",
    "        return f\"Budget(total={self.amount})\"\n",
    "\n",
    "# Usage\n",
    "b1 = Budget(300, 200)\n",
    "b2 = Budget(150, 150)\n",
    "b3 = b1 + b2\n",
    "\n",
    "print(b1)  # Output: Budget(total=500)\n",
    "print(b2)  # Output: Budget(total=300)\n",
    "print(b3)  # Output: Budget(total=800)\n",
    "\n",
    "''''\n",
    "What’s Happening Here?\n",
    "__init__ sums two initial values.\n",
    "\n",
    "__add__ reuses __init__ by passing total amounts as new inputs.\n",
    "\n",
    "__repr__ makes the object print nicely.\n",
    "\n",
    "'''\n"
   ]
  },
  {
   "cell_type": "code",
   "execution_count": 9,
   "id": "822cc52a",
   "metadata": {},
   "outputs": [
    {
     "name": "stdout",
     "output_type": "stream",
     "text": [
      "3\n"
     ]
    }
   ],
   "source": [
    "# 5. __len__ – Called by len()\n",
    "class Playlist:\n",
    "    def __init__(self, songs):\n",
    "        self.songs = songs\n",
    "\n",
    "    def __len__(self):\n",
    "        return len(self.songs)\n",
    "\n",
    "p = Playlist([\"Song1\", \"Song2\", \"Song3\"])\n",
    "print(len(p))  # Output: 3\n"
   ]
  },
  {
   "cell_type": "code",
   "execution_count": null,
   "id": "e6312557",
   "metadata": {},
   "outputs": [
    {
     "name": "stdout",
     "output_type": "stream",
     "text": [
      "Green\n"
     ]
    }
   ],
   "source": [
    "# 6. __getitem__ – Enables Indexing (like lists)\n",
    "class Colors:\n",
    "    def __init__(self):\n",
    "        self.palette = ['Red', 'Green', 'Blue']\n",
    "\n",
    "    def __getitem__(self, index):\n",
    "        return self.palette[index]\n",
    "\n",
    "c = Colors()\n",
    "print(c[1])  # Output: Green\n"
   ]
  },
  {
   "cell_type": "code",
   "execution_count": 11,
   "id": "c451bfc3",
   "metadata": {},
   "outputs": [
    {
     "name": "stdout",
     "output_type": "stream",
     "text": [
      "True\n"
     ]
    }
   ],
   "source": [
    "#7. __eq__ – Equality Operator ==\n",
    "\n",
    "class Box:\n",
    "    def __init__(self, volume):\n",
    "        self.volume = volume\n",
    "\n",
    "    def __eq__(self, other):\n",
    "        return self.volume == other.volume\n",
    "\n",
    "b1 = Box(10)\n",
    "b2 = Box(10)\n",
    "print(b1 == b2)  # Output: True\n"
   ]
  },
  {
   "cell_type": "code",
   "execution_count": 12,
   "id": "1c8430d3",
   "metadata": {},
   "outputs": [
    {
     "name": "stdout",
     "output_type": "stream",
     "text": [
      "Hello, Alice!\n"
     ]
    }
   ],
   "source": [
    "# 8. __call__ – Makes an Object Callable\n",
    "class Greeter:\n",
    "    def __call__(self, name):\n",
    "        return f\"Hello, {name}!\"\n",
    "\n",
    "g = Greeter()\n",
    "print(g(\"Alice\"))  # Output: Hello, Alice!\n"
   ]
  },
  {
   "cell_type": "code",
   "execution_count": null,
   "id": "787386a5",
   "metadata": {},
   "outputs": [
    {
     "name": "stdout",
     "output_type": "stream",
     "text": [
      "Cleaning up...\n"
     ]
    }
   ],
   "source": [
    "# 9. __del__ – Destructor (called when object is deleted)\n",
    "class TempFile:\n",
    "    def __del__(self):\n",
    "        print(\"Cleaning up...\")\n",
    "\n",
    "t = TempFile()\n",
    "del t  # Output: Cleaning up...\n"
   ]
  },
  {
   "cell_type": "code",
   "execution_count": 14,
   "id": "12946da0",
   "metadata": {},
   "outputs": [
    {
     "name": "stdout",
     "output_type": "stream",
     "text": [
      "True\n"
     ]
    }
   ],
   "source": [
    "# 10. __contains__ – Supports in Operator\n",
    "class Library:\n",
    "    def __init__(self, books):\n",
    "        self.books = books\n",
    "\n",
    "    def __contains__(self, book):\n",
    "        return book in self.books\n",
    "\n",
    "lib = Library([\"1984\", \"Brave New World\"])\n",
    "print(\"1984\" in lib)  # Output: True\n",
    "\n"
   ]
  },
  {
   "cell_type": "code",
   "execution_count": null,
   "id": "e6651f35",
   "metadata": {},
   "outputs": [],
   "source": [
    "# Other Special Methods and their Reverse Methods\n",
    "| Operator | Method         | Reverse         |\n",
    "|----------|----------------|-----------------|\n",
    "| `+`      | `__add__`      | `__radd__`      |\n",
    "| `-`      | `__sub__`      | `__rsub__`      |\n",
    "| `*`      | `__mul__`      | `__rmul__`      |\n",
    "| `/`      | `__truediv__`  | `__rtruediv__`  |\n",
    "| `//`     | `__floordiv__` | `__rfloordiv__` |\n",
    "| `%`      | `__mod__`      | `__rmod__`      |\n",
    "| `**`     | `__pow__`      | `__rpow__`      |"
   ]
  },
  {
   "cell_type": "code",
   "execution_count": null,
   "id": "e5e5dbbe",
   "metadata": {},
   "outputs": [],
   "source": [
    "# 🔁 __radd__ – Reverse Addition\n",
    "# ✅ Why it’s needed:\n",
    "\n",
    "'''\n",
    " If you write 100 + b1, Python tries:\n",
    "\n",
    "int.__add__(100, b1) → fails (doesn't know how to add a Budget)\n",
    "\n",
    "Then: Budget.__radd__(b1, 100) → your class handles it'\n",
    "\n",
    "'''"
   ]
  },
  {
   "cell_type": "code",
   "execution_count": 16,
   "id": "c2655b07",
   "metadata": {},
   "outputs": [
    {
     "name": "stdout",
     "output_type": "stream",
     "text": [
      "Budget(total=650)\n",
      "Budget(total=600)\n",
      "Budget(total=600)\n"
     ]
    }
   ],
   "source": [
    "# Enhanced Budget Example with __radd__\n",
    "\n",
    "class Budget:\n",
    "    def __init__(self, val1, val2=0):\n",
    "        self.amount = val1 + val2\n",
    "\n",
    "    def __add__(self, other):\n",
    "        if isinstance(other, Budget):\n",
    "            return Budget(self.amount + other.amount)\n",
    "        elif isinstance(other, (int, float)):\n",
    "            return Budget(self.amount + other)\n",
    "        else:\n",
    "            return NotImplemented\n",
    "\n",
    "    def __radd__(self, other):\n",
    "        # Called when: int + Budget\n",
    "        return self.__add__(other)\n",
    "\n",
    "    def __repr__(self):\n",
    "        return f\"Budget(total={self.amount})\"\n",
    "\n",
    "# Examples\n",
    "b1 = Budget(200, 300)     # Budget(total=500)\n",
    "b2 = Budget(100, 50)      # Budget(total=150)\n",
    "\n",
    "print(b1 + b2)            # Budget(total=650)\n",
    "print(b1 + 100)           # Budget(total=600)\n",
    "print(100 + b1)           # Budget(total=600) ← __radd__ handles this\n"
   ]
  },
  {
   "cell_type": "code",
   "execution_count": null,
   "id": "2a4d2be0",
   "metadata": {},
   "outputs": [],
   "source": [
    "# Enhanced Budget Example with __radd__\n",
    "''''\n",
    " Enhanced Budget Class Explained\n",
    "\n",
    "class Budget:\n",
    "    def __init__(self, val1, val2=0):\n",
    "        self.amount = val1 + val2\n",
    "🔹 __init__:\n",
    "Accepts two arguments.\n",
    "\n",
    "Defaults val2 to 0 to allow both: Budget(300, 200) or Budget(500).\n",
    "\n",
    "Stores their sum in self.amount.\n",
    "\n",
    "\n",
    "    def __add__(self, other):\n",
    "        if isinstance(other, Budget):\n",
    "            return Budget(self.amount + other.amount)\n",
    "        elif isinstance(other, (int, float)):\n",
    "            return Budget(self.amount + other)\n",
    "        else:\n",
    "            return NotImplemented\n",
    "🔹 __add__:\n",
    "Handles Budget + Budget by adding their amounts.\n",
    "\n",
    "Handles Budget + int/float by adding directly.\n",
    "\n",
    "Returns NotImplemented if the type is unsupported.\n",
    "\n",
    "\n",
    "    def __radd__(self, other):\n",
    "        return self.__add__(other)\n",
    "🔹 __radd__:\n",
    "Handles int/float + Budget\n",
    "\n",
    "Delegates back to __add__ for shared logic.\n",
    "\n",
    "Allows expressions like 100 + b1 to work!\n",
    "\n",
    "\n",
    "    def __repr__(self):\n",
    "        return f\"Budget(total={self.amount})\"\n",
    "🔹 __repr__:\n",
    "Controls how the object is displayed in the console/debugging.\n",
    "\n",
    "Returns a neat string showing the budget total.\n",
    "'''\n",
    "'\n"
   ]
  },
  {
   "cell_type": "code",
   "execution_count": 17,
   "id": "6604c2db",
   "metadata": {},
   "outputs": [
    {
     "name": "stdout",
     "output_type": "stream",
     "text": [
      "Budget(total=650)\n",
      "Budget(total=600)\n",
      "Budget(total=600)\n"
     ]
    }
   ],
   "source": [
    "b1 = Budget(200, 300)     # total = 500\n",
    "b2 = Budget(100, 50)      # total = 150\n",
    "\n",
    "print(b1 + b2)            # Budget(total=650)    → __add__(Budget)\n",
    "print(b1 + 100)           # Budget(total=600)    → __add__(int)\n",
    "print(100 + b1)           # Budget(total=600)    → __radd__(int)\n"
   ]
  },
  {
   "cell_type": "code",
   "execution_count": null,
   "id": "cf7def67",
   "metadata": {},
   "outputs": [],
   "source": [
    "# Summary\n",
    "'''\n",
    "Expression\t          Method Called\t         Result\n",
    "b1 + b2\t              b1.__add__(b2)\t     Combines two budgets\n",
    "b1 + 100\t          b1.__add__(100)\t     Adds 100 to the budget\n",
    "100 + b1\t          b1.__radd__(100)\t     Reverse add handled\n",
    "\n",
    "'''"
   ]
  },
  {
   "cell_type": "markdown",
   "id": "d38644dd",
   "metadata": {},
   "source": [
    "# Getter and Setter Methods"
   ]
  },
  {
   "cell_type": "code",
   "execution_count": 18,
   "id": "4196becf",
   "metadata": {},
   "outputs": [],
   "source": [
    "class Person:\n",
    "    def __init__(self, name):\n",
    "        self.__name = name  # Private attribute\n",
    "\n",
    "    # Getter\n",
    "    def get_name(self):\n",
    "        return self.__name\n",
    "\n",
    "    # Setter\n",
    "    def set_name(self, new_name):\n",
    "        if not new_name:\n",
    "            raise ValueError(\"Name cannot be empty.\")\n",
    "        self.__name = new_name\n",
    "\n",
    "    # Deleter\n",
    "    def delete_name(self):\n",
    "        print(\"Deleting name...\")\n",
    "        del self.__name\n"
   ]
  },
  {
   "cell_type": "code",
   "execution_count": 19,
   "id": "8825a27e",
   "metadata": {},
   "outputs": [
    {
     "name": "stdout",
     "output_type": "stream",
     "text": [
      "Alice\n",
      "Bob\n",
      "Error: Name cannot be empty.\n",
      "Deleting name...\n"
     ]
    }
   ],
   "source": [
    "p = Person(\"Alice\")\n",
    "\n",
    "# Getter\n",
    "print(p.get_name())  # Output: Alice\n",
    "\n",
    "# Setter\n",
    "p.set_name(\"Bob\")\n",
    "print(p.get_name())  # Output: Bob\n",
    "\n",
    "# Setter with invalid input\n",
    "try:\n",
    "    p.set_name(\"\")   # Raises ValueError\n",
    "except ValueError as e:\n",
    "    print(\"Error:\", e)\n",
    "\n",
    "# Deleter\n",
    "p.delete_name()\n"
   ]
  },
  {
   "cell_type": "code",
   "execution_count": null,
   "id": "7d7b0081",
   "metadata": {},
   "outputs": [],
   "source": [
    "''''\n",
    "'Let's break down the non-decorator-based getter/setter example step-by-step so you fully '\n",
    "'understand what’s happening and why each piece is important.\n",
    "\n",
    "✅ Step-by-Step Explanation\n",
    "🔹 Step 1: Define the Class and Initialize\n",
    "\n",
    "\n",
    "class Person:\n",
    "    def __init__(self, name):\n",
    "        self.__name = name  # Private attribute\n",
    "__init__ is the constructor, called when you create a new Person.\n",
    "\n",
    "self.__name is a private attribute (denoted by double underscore __) to prevent direct access from outside.\n",
    "\n",
    "\n",
    "p = Person(\"Alice\")\n",
    "🔹 Step 2: Define the Getter Method\n",
    "\n",
    "\n",
    "def get_name(self):\n",
    "    return self.__name\n",
    "This getter returns the private value __name.\n",
    "\n",
    "It allows controlled read-access to the attribute.\n",
    "\n",
    "\n",
    "\n",
    "print(p.get_name())  # Output: Alice\n",
    "🔹 Step 3: Define the Setter Method\n",
    "\n",
    "\n",
    "\n",
    "def set_name(self, new_name):\n",
    "    if not new_name:\n",
    "        raise ValueError(\"Name cannot be empty.\")\n",
    "    self.__name = new_name\n",
    "The setter provides a safe way to modify the private attribute.\n",
    "\n",
    "It checks that new_name is not empty — otherwise, it raises a ValueError.\n",
    "\n",
    "\n",
    "\n",
    "p.set_name(\"Bob\")\n",
    "print(p.get_name())  # Output: Bob\n",
    "🔹 Step 4: Handle Invalid Input\n",
    "\n",
    "\n",
    "try:\n",
    "    p.set_name(\"\")   # Invalid, triggers ValueError\n",
    "except ValueError as e:\n",
    "    print(\"Error:\", e)\n",
    "If you pass an empty string, the setter blocks it using:\n",
    "\n",
    "\n",
    "raise ValueError(\"Name cannot be empty.\")\n",
    "🔹 Step 5: Define the Deleter Method\n",
    "\n",
    "\n",
    "def delete_name(self):\n",
    "    print(\"Deleting name...\")\n",
    "    del self.__name\n",
    "This method removes the attribute from the object.\n",
    "\n",
    "\n",
    "p.delete_name()  # Removes __name from memory\n",
    "After this, trying to access p.get_name() will raise an AttributeError.'\n",
    "\n",
    "'''"
   ]
  },
  {
   "cell_type": "code",
   "execution_count": null,
   "id": "3cb0d45d",
   "metadata": {},
   "outputs": [],
   "source": [
    "'''\n",
    "🔚 Summary\n",
    "\n",
    "Method\t         Purpose\t                   Called As\n",
    "__init__\t     Sets initial value\t           p = Person(\"Alice\")\n",
    "get_name()\t     Reads value of __name\t       p.get_name()\n",
    "set_name()\t     Validates & sets a new name   p.set_name(\"Bob\")\n",
    "delete_name()\t Deletes the attribute\t       p.delete_name()"
   ]
  },
  {
   "cell_type": "code",
   "execution_count": null,
   "id": "a55aa284",
   "metadata": {},
   "outputs": [],
   "source": [
    "# ✅ Person Class with Decorators\n",
    "\n",
    "class Person:\n",
    "    def __init__(self, name):\n",
    "        self.__name = name  # Private attribute\n",
    "\n",
    "    # Getter: allows access with obj.name\n",
    "    @property\n",
    "    def name(self):\n",
    "        return self.__name\n",
    "\n",
    "    # Setter: allows assignment with obj.name = \"...\"\n",
    "    @name.setter\n",
    "    def name(self, new_name):\n",
    "        if not new_name:\n",
    "            raise ValueError(\"Name cannot be empty.\")\n",
    "        self.__name = new_name\n",
    "\n",
    "    # Deleter: allows deletion with del obj.name\n",
    "    @name.deleter\n",
    "    def name(self):\n",
    "        print(\"Deleting name...\")\n",
    "        del self.__name\n"
   ]
  },
  {
   "cell_type": "code",
   "execution_count": null,
   "id": "ef857300",
   "metadata": {},
   "outputs": [],
   "source": [
    "# Example Usage\n",
    "\n",
    "p = Person(\"Alice\")\n",
    "\n",
    "# Getter: cleaner access\n",
    "print(p.name)  # Output: Alice\n",
    "\n",
    "# Setter: looks like assignment, but triggers validation\n",
    "p.name = \"Bob\"\n",
    "print(p.name)  # Output: Bob\n",
    "\n",
    "# Invalid setter: triggers ValueError\n",
    "try:\n",
    "    p.name = \"\"\n",
    "except ValueError as e:\n",
    "    print(\"Error:\", e)\n",
    "\n",
    "# Deleter\n",
    "del p.name\n"
   ]
  },
  {
   "cell_type": "code",
   "execution_count": null,
   "id": "c329072f",
   "metadata": {},
   "outputs": [],
   "source": [
    "# 🎯 Advantages of Decorator Version\n",
    "# Cleaner syntax:\n",
    "\n",
    "p.name instead of p.get_name()\n",
    "\n",
    "p.name = \"Bob\" instead of p.set_name(\"Bob\")\n",
    "\n",
    "# Encourages encapsulation without giving up convenience\n",
    "\n",
    "# Works seamlessly with IDEs and autocomplete"
   ]
  },
  {
   "cell_type": "markdown",
   "id": "43fe6089",
   "metadata": {},
   "source": []
  }
 ],
 "metadata": {
  "kernelspec": {
   "display_name": "Python 3",
   "language": "python",
   "name": "python3"
  },
  "language_info": {
   "codemirror_mode": {
    "name": "ipython",
    "version": 3
   },
   "file_extension": ".py",
   "mimetype": "text/x-python",
   "name": "python",
   "nbconvert_exporter": "python",
   "pygments_lexer": "ipython3",
   "version": "3.12.0"
  }
 },
 "nbformat": 4,
 "nbformat_minor": 5
}
