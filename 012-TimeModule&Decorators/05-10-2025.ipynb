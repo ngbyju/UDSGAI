{
 "cells": [
  {
   "cell_type": "markdown",
   "id": "446b1191",
   "metadata": {},
   "source": [
    "## Time Module"
   ]
  },
  {
   "cell_type": "code",
   "execution_count": null,
   "id": "f96ee2a9",
   "metadata": {},
   "outputs": [],
   "source": [
    "'''\n",
    "The time module in Python provides various time-related functions. It's a built-in module that allows you to work with time in your programs.\n",
    "Key functions include:\n",
    "\n",
    "time.time(): Returns current time as floating-point seconds since epoch\n",
    "time.sleep(seconds): Suspends execution for specified seconds\n",
    "time.ctime(): Converts time in seconds to a readable string\n",
    "time.strftime(): Formats time according to specified format\n",
    "time.strptime(): Parses a string representation of time\n",
    "\n",
    "Common applications include measuring code execution time, adding delays in programs, and formatting timestamps for display or logging.\n",
    "To use it, simply import the module with import time at the beginning of your Python script.'\n",
    "\n",
    "'''"
   ]
  },
  {
   "cell_type": "code",
   "execution_count": null,
   "id": "0b06e33c",
   "metadata": {},
   "outputs": [],
   "source": [
    "''''\n",
    "Function\tDescription\n",
    "time.time()\tReturns the current time in seconds since the Epoch (Unix time).\n",
    "time.sleep(seconds)\tPauses execution for the given number of seconds.\n",
    "time.ctime([secs])\tConverts a time in seconds to a human-readable string.\n",
    "time.localtime([secs])\tConverts seconds since Epoch to a struct_time in local time.\n",
    "time.gmtime([secs])\tConverts seconds since Epoch to struct_time in UTC.\n",
    "time.strftime(format[, t])\tConverts a struct_time into a formatted string.\n",
    "time.strptime(string, format)\tParses a string into struct_time using the given format.\n",
    "time.perf_counter()\tHigh-resolution timer (good for benchmarking).\n",
    "time.process_time()\tCPU process time (ignores sleep and I/O wait).\n",
    "'''"
   ]
  },
  {
   "cell_type": "markdown",
   "id": "5b02de2d",
   "metadata": {},
   "source": []
  },
  {
   "cell_type": "code",
   "execution_count": 4,
   "id": "6955b590",
   "metadata": {},
   "outputs": [
    {
     "name": "stdout",
     "output_type": "stream",
     "text": [
      "Unix timestamp: 1746889543.1888394\n",
      "Readable time: Sat May 10 10:05:43 2025\n",
      "Sleeping for 2 seconds...\n",
      "Awake!\n",
      "Formatted time: 2025-05-10 10:05:45\n",
      "Parsed: time.struct_time(tm_year=2025, tm_mon=5, tm_mday=9, tm_hour=10, tm_min=0, tm_sec=0, tm_wday=4, tm_yday=129, tm_isdst=-1)\n",
      "Elapsed time: 0.0392186000244692\n"
     ]
    }
   ],
   "source": [
    "import time\n",
    "\n",
    "# Get current time\n",
    "now = time.time()\n",
    "print(\"Unix timestamp:\", now)\n",
    "\n",
    "# Convert to readable format\n",
    "print(\"Readable time:\", time.ctime(now))\n",
    "\n",
    "# Sleep for 2 seconds\n",
    "print(\"Sleeping for 2 seconds...\")\n",
    "time.sleep(2)\n",
    "print(\"Awake!\")\n",
    "\n",
    "# Format current time\n",
    "formatted = time.strftime(\"%Y-%m-%d %H:%M:%S\", time.localtime())\n",
    "print(\"Formatted time:\", formatted)\n",
    "\n",
    "# Parse a time string\n",
    "t_struct = time.strptime(\"2025-05-09 10:00:00\", \"%Y-%m-%d %H:%M:%S\")\n",
    "print(\"Parsed:\", t_struct)\n",
    "\n",
    "# Benchmarking example\n",
    "start = time.perf_counter()\n",
    "for i in range(1000000):\n",
    "    pass\n",
    "end = time.perf_counter()\n",
    "print(\"Elapsed time:\", end - start)\n"
   ]
  },
  {
   "cell_type": "code",
   "execution_count": null,
   "id": "78ed9214",
   "metadata": {},
   "outputs": [],
   "source": [
    "'''\n",
    "What is time.struct_time?\n",
    "time.struct_time is a named tuple used by the time module to represent time in a structured and human-readable format.\n",
    "\n",
    "It's returned by functions like:\n",
    "\n",
    "time.localtime()\n",
    "\n",
    "time.gmtime()\n",
    "\n",
    "time.strptime()\n",
    "'''"
   ]
  },
  {
   "cell_type": "code",
   "execution_count": null,
   "id": "1a27a56e",
   "metadata": {},
   "outputs": [],
   "source": [
    "''''\n",
    "'time.struct_time(tm_year, tm_mon, tm_mday, tm_hour, tm_min, tm_sec,\n",
    "                 tm_wday, tm_yday, tm_isdst)'\n",
    "\n",
    "\n",
    "| Field     | Meaning                              | Example |\n",
    "|-----------|--------------------------------------|---------|\n",
    "| `tm_year` | Year                                 | 2025    |\n",
    "| `tm_mon`  | Month (1–12)                         | 5       |\n",
    "| `tm_mday` | Day of the month (1–31)              | 9       |\n",
    "| `tm_hour` | Hour (0–23)                          | 14      |\n",
    "| `tm_min`  | Minutes (0–59)                       | 30      |\n",
    "| `tm_sec`  | Seconds (0–61)                       | 15      |\n",
    "| `tm_wday` | Day of week (0=Monday, 6=Sunday)     | 4       |\n",
    "| `tm_yday` | Day of year (1–366)                  | 129     |\n",
    "| `tm_isdst`| Daylight Saving Time flag (-1, 0, 1) | 1       |\n",
    "\n",
    "'''\n"
   ]
  },
  {
   "cell_type": "code",
   "execution_count": 5,
   "id": "1eef6035",
   "metadata": {},
   "outputs": [
    {
     "name": "stdout",
     "output_type": "stream",
     "text": [
      "time.struct_time(tm_year=2025, tm_mon=5, tm_mday=10, tm_hour=10, tm_min=15, tm_sec=6, tm_wday=5, tm_yday=130, tm_isdst=1)\n",
      "Year: 2025\n",
      "Month: 5\n",
      "Hour: 10\n"
     ]
    }
   ],
   "source": [
    "import time\n",
    "\n",
    "t = time.localtime()\n",
    "print(t)\n",
    "print(\"Year:\", t.tm_year)\n",
    "print(\"Month:\", t.tm_mon)\n",
    "print(\"Hour:\", t.tm_hour)\n"
   ]
  },
  {
   "cell_type": "code",
   "execution_count": null,
   "id": "bf9bb623",
   "metadata": {},
   "outputs": [],
   "source": [
    "''''\n",
    "The breakdown of the formatting codes used in time.strftime() and time.strptime()'\n",
    "\n",
    "Date Formatting Codes\n",
    "\n",
    "| Code | Meaning | Example |\n",
    "|------|---------|---------|\n",
    "| `%Y` | Year with century | `2025` |\n",
    "| `%y` | Year without century (00–99) | `25` |\n",
    "| `%m` | Month (01–12) | `05` |\n",
    "| `%B` | Full month name | `May` |\n",
    "| `%b` | Abbreviated month name | `May` |\n",
    "| `%d` | Day of the month (01–31) | `09` |\n",
    "| `%j` | Day of the year (001–366) | `129` |\n",
    "\n",
    "\n",
    " Time Formatting Codes\n",
    "\n",
    " | Code | Meaning | Example |\n",
    "|------|---------|---------|\n",
    "| `%H` | Hour (00–23) | `14` |\n",
    "| `%I` | Hour (01–12) | `02` |\n",
    "| `%p` | AM/PM | `PM` |\n",
    "| `%M` | Minute (00–59) | `30` |\n",
    "| `%S` | Second (00–59) | `45` |\n",
    "| `%f` | Microsecond (000000–999999) | `123456` *(only in `datetime` module)*\n",
    "\n",
    "\n",
    "\n",
    "Weekday Formatting Codes\n",
    "\n",
    "| Code | Meaning | Example |\n",
    "|------|---------|---------|\n",
    "| `%A` | Full weekday name | `Friday` |\n",
    "| `%a` | Abbreviated weekday name | `Fri` |\n",
    "| `%w` | Weekday as a decimal (0=Sunday) | `5` |\n",
    "| `%u` | ISO weekday (1=Monday, 7=Sunday) | `5` |\n",
    "\n",
    "\n",
    "\n",
    "Other Useful Codes\n",
    "\n",
    "| Code | Meaning | Example |\n",
    "|------|---------|---------|\n",
    "| `%Z` | Time zone name | `UTC` or `CDT` |\n",
    "| `%z` | UTC offset | `+0000`, `-0500` |\n",
    "| `%%` | Literal `%` | `%` |\n",
    "\n",
    "\n",
    "\n",
    "'''"
   ]
  },
  {
   "cell_type": "code",
   "execution_count": 6,
   "id": "8717863c",
   "metadata": {},
   "outputs": [
    {
     "name": "stdout",
     "output_type": "stream",
     "text": [
      "Formatted: 2025-05-10 10:20:18\n",
      "Parsed struct_time: time.struct_time(tm_year=2025, tm_mon=5, tm_mday=9, tm_hour=14, tm_min=30, tm_sec=45, tm_wday=4, tm_yday=129, tm_isdst=-1)\n"
     ]
    }
   ],
   "source": [
    "import time\n",
    "\n",
    "t = time.localtime()\n",
    "\n",
    "formatted = time.strftime(\"%Y-%m-%d %H:%M:%S\", t)\n",
    "print(\"Formatted:\", formatted)\n",
    "\n",
    "parsed = time.strptime(\"2025-05-09 14:30:45\", \"%Y-%m-%d %H:%M:%S\")\n",
    "print(\"Parsed struct_time:\", parsed)\n"
   ]
  },
  {
   "cell_type": "code",
   "execution_count": null,
   "id": "063a6fdc",
   "metadata": {},
   "outputs": [],
   "source": [
    "''''\n",
    "The datetime module is more powerful and flexible than time, especially for date arithmetic, timezone handling, and microsecond precision.'\n",
    "\n",
    "\n",
    "datetime Module Overview\n",
    "\n",
    "# Usage of datetime: \n",
    "from datetime import datetime, date, time, timedelta\n",
    "\n",
    "\n",
    "| Feature                  | `time` module              | `datetime` module                  |\n",
    "|--------------------------|------------------------    |--------------------------          |\n",
    "| Data Structure           | `struct_time` (tuple-like) | `datetime`, `date`, `time` objects |\n",
    "| Microsecond Support      | ❌ No                      |✅ Yes                             |\n",
    "| Date Arithmetic          | Limited                    | Powerful via `timedelta`           |\n",
    "| Timezone Handling        | Limited                    | Available (`pytz`, `zoneinfo`)     |\n",
    "| Recommended for new apps | ❌ No                      | ✅ Yes                            |\n",
    "\n",
    "'''"
   ]
  },
  {
   "cell_type": "code",
   "execution_count": 8,
   "id": "5c66df10",
   "metadata": {},
   "outputs": [
    {
     "name": "stdout",
     "output_type": "stream",
     "text": [
      "Now: 2025-05-10 10:28:29.793319\n",
      "Formatted: 2025-05-10 10:28:29.793319\n",
      "Parsed: 2025-05-09 14:30:45\n",
      "5 days and 2 hours later: 2025-05-15 12:28:29.793319\n",
      "1 week ago: 2025-05-03 10:28:29.793319\n",
      "Chicago Time: 2025-05-10 10:28:29.872576-05:00\n",
      "UTC Time: 2025-05-10 15:28:29.872576+00:00\n"
     ]
    }
   ],
   "source": [
    "# Example: Getting and Formatting Current Time\n",
    "\n",
    "from datetime import datetime\n",
    "\n",
    "now = datetime.now()\n",
    "print(\"Now:\", now)\n",
    "\n",
    "# Formatting\n",
    "formatted = now.strftime(\"%Y-%m-%d %H:%M:%S.%f\")\n",
    "print(\"Formatted:\", formatted)\n",
    "\n",
    "# Parsing\n",
    "parsed = datetime.strptime(\"2025-05-09 14:30:45\", \"%Y-%m-%d %H:%M:%S\")\n",
    "print(\"Parsed:\", parsed)\n",
    "\n",
    "\n",
    "\n",
    "\n",
    "# ⏳ Time Arithmetic with timedelta\n",
    "\n",
    "from datetime import timedelta\n",
    "\n",
    "future = now + timedelta(days=5, hours=2)\n",
    "print(\"5 days and 2 hours later:\", future)\n",
    "\n",
    "past = now - timedelta(weeks=1)\n",
    "print(\"1 week ago:\", past)\n",
    "\n",
    "\n",
    "\n",
    "# 🕰️ Timezone Support (Python 3.9+)\n",
    "\n",
    "from datetime import datetime\n",
    "from zoneinfo import ZoneInfo  # Python 3.9+\n",
    "\n",
    "dt = datetime.now(ZoneInfo(\"America/Chicago\"))\n",
    "print(\"Chicago Time:\", dt)\n",
    "\n",
    "utc = dt.astimezone(ZoneInfo(\"UTC\"))\n",
    "print(\"UTC Time:\", utc)"
   ]
  },
  {
   "cell_type": "markdown",
   "id": "7d33ee13",
   "metadata": {},
   "source": [
    "## 🌀 Python Decorators\n"
   ]
  },
  {
   "cell_type": "code",
   "execution_count": null,
   "id": "d52676ad",
   "metadata": {},
   "outputs": [],
   "source": [
    "'''\n",
    "💡 What is a Decorator?\n",
    "A decorator is a function that takes another function and extends or alters its behavior without modifying its actual code.\n",
    "\n",
    "They’re commonly used for:\n",
    "\n",
    "Logging\n",
    "\n",
    "Timing\n",
    "\n",
    "Access control\n",
    "\n",
    "Memoization\n",
    "\n",
    "'''"
   ]
  },
  {
   "cell_type": "markdown",
   "id": "afba54ab",
   "metadata": {},
   "source": [
    "# Basic Decorator Example"
   ]
  },
  {
   "cell_type": "markdown",
   "id": "c1639758",
   "metadata": {},
   "source": []
  },
  {
   "cell_type": "code",
   "execution_count": 9,
   "id": "cb82206c",
   "metadata": {},
   "outputs": [
    {
     "name": "stdout",
     "output_type": "stream",
     "text": [
      "Before the function runs.\n",
      "Hello!\n",
      "After the function runs.\n"
     ]
    }
   ],
   "source": [
    "def my_decorator(func):\n",
    "    def wrapper():\n",
    "        print(\"Before the function runs.\")\n",
    "        func()\n",
    "        print(\"After the function runs.\")\n",
    "    return wrapper\n",
    "\n",
    "@my_decorator\n",
    "def say_hello():\n",
    "    print(\"Hello!\")\n",
    "\n",
    "say_hello()\n"
   ]
  },
  {
   "cell_type": "code",
   "execution_count": 17,
   "id": "0e5c733b",
   "metadata": {},
   "outputs": [
    {
     "name": "stdout",
     "output_type": "stream",
     "text": [
      "Time before the function runs is: 1746963550.40\n",
      "Hello!\n",
      "Time after the function runs is: 1746963560.40\n",
      "Time taken for the function to run is: 10.00 seconds\n"
     ]
    }
   ],
   "source": [
    "import time\n",
    "\n",
    "def time_decorator(func):\n",
    "    def wrapper():\n",
    "        t1 = time.time()\n",
    "        print(f\"Time before the function runs is: {t1:.2f}\")\n",
    "        func()\n",
    "        time.sleep(10)\n",
    "        t2 = time.time()\n",
    "        print(f\"Time after the function runs is: {t2:.2f}\")\n",
    "        t = t2 - t1\n",
    "        print(f\"Time taken for the function to run is: {t:.2f} seconds\")\n",
    "    return wrapper\n",
    "\n",
    "@time_decorator\n",
    "def say_hello():\n",
    "    print(\"Hello!\")\n",
    "\n",
    "say_hello()\n",
    "\n"
   ]
  },
  {
   "cell_type": "markdown",
   "id": "bcd8bec7",
   "metadata": {},
   "source": [
    "# @my_decorator is shorthand for\n",
    "# say_hello = my_decorator(say_hello)"
   ]
  },
  {
   "cell_type": "markdown",
   "id": "b3519347",
   "metadata": {},
   "source": [
    "#🎯 Decorators with Arguments"
   ]
  },
  {
   "cell_type": "code",
   "execution_count": 19,
   "id": "d226e3a1",
   "metadata": {},
   "outputs": [
    {
     "name": "stdout",
     "output_type": "stream",
     "text": [
      "🌟\n",
      "Hello, Alice!\n",
      "🌟\n"
     ]
    }
   ],
   "source": [
    "def greet(name):\n",
    "    print(f\"Hello, {name}!\")\n",
    "\n",
    "def emphasize(func):\n",
    "    def wrapper(*args, **kwargs):\n",
    "        print(\"🌟\")\n",
    "        func(*args, **kwargs)\n",
    "        print(\"🌟\")\n",
    "    return wrapper\n",
    "\n",
    "@emphasize\n",
    "def greet(name):\n",
    "    print(f\"Hello, {name}!\")\n",
    "\n",
    "greet(\"Alice\")\n"
   ]
  },
  {
   "cell_type": "code",
   "execution_count": null,
   "id": "269d2276",
   "metadata": {},
   "outputs": [],
   "source": [
    "''''\n",
    "The *args and **kwargs in the wrapper function are used to make the decorator flexible and compatible with any function it decorates, regardless of the number or type of arguments.\n",
    "Let me explain what's happening in your script:\n",
    "\n",
    "The emphasize decorator takes a function func as input.\n",
    "Inside the decorator, the wrapper function uses *args and **kwargs to collect any positional and keyword arguments.\n",
    "When you decorate greet with @emphasize, it's equivalent to greet = emphasize(greet).\n",
    "When greet(\"Alice\") is called, it actually calls wrapper(\"Alice\").\n",
    "The wrapper function forwards all arguments (\"Alice\") to the original greet function using *args and **kwargs.\n",
    "\n",
    "Even though greet only takes one positional argument, the decorator's wrapper needs to be able to handle any number of arguments to be reusable with other functions that might have different parameter requirements.\n",
    "If you changed the decorator to only accept one argument, it would work for this specific case but wouldn't be a general-purpose decorator that could be applied to other functions.'\n",
    "\n",
    "'''"
   ]
  },
  {
   "cell_type": "code",
   "execution_count": 22,
   "id": "2a324f0a",
   "metadata": {},
   "outputs": [
    {
     "name": "stdout",
     "output_type": "stream",
     "text": [
      "Testing greet():\n",
      "🌟\n",
      "Hello, Alice!\n",
      "🌟\n",
      "\n",
      "Testing add():\n",
      "🌟\n",
      "5 + 3 = 8\n",
      "🌟\n",
      "\n",
      "Testing describe_person():\n",
      "🌟\n",
      "Bob is 30 years old\n",
      "- hobby: coding\n",
      "- favorite_color: blue\n",
      "🌟\n",
      "\n",
      "Testing welcome():\n",
      "🌟\n",
      "Welcome to Python decorators!\n",
      "🌟\n"
     ]
    }
   ],
   "source": [
    "# Let us extend the example to demonstrate how the same decorator can be applied to functions with different parameter requirements:\n",
    "\n",
    "def emphasize(func):\n",
    "    def wrapper(*args, **kwargs):\n",
    "        print(\"🌟\")\n",
    "        func(*args, **kwargs)\n",
    "        print(\"🌟\")\n",
    "    return wrapper\n",
    "\n",
    "# Function with 1 positional argument\n",
    "@emphasize\n",
    "def greet(name):\n",
    "    print(f\"Hello, {name}!\")\n",
    "\n",
    "# Function with 2 positional arguments\n",
    "@emphasize\n",
    "def add(a, b):\n",
    "    result = a + b\n",
    "    print(f\"{a} + {b} = {result}\")\n",
    "\n",
    "# Function with positional and keyword arguments\n",
    "@emphasize\n",
    "def describe_person(name, age, **characteristics):\n",
    "    print(f\"{name} is {age} years old\")\n",
    "    for trait, value in characteristics.items():\n",
    "        print(f\"- {trait}: {value}\")\n",
    "\n",
    "# Function with no arguments\n",
    "@emphasize\n",
    "def welcome():\n",
    "    print(\"Welcome to Python decorators!\")\n",
    "\n",
    "# Testing all decorated functions\n",
    "print(\"Testing greet():\")\n",
    "greet(\"Alice\")\n",
    "\n",
    "print(\"\\nTesting add():\")\n",
    "add(5, 3)\n",
    "\n",
    "print(\"\\nTesting describe_person():\")\n",
    "describe_person(\"Bob\", 30, hobby=\"coding\", favorite_color=\"blue\")\n",
    "\n",
    "print(\"\\nTesting welcome():\")\n",
    "welcome()"
   ]
  },
  {
   "cell_type": "code",
   "execution_count": null,
   "id": "b91a7ba9",
   "metadata": {},
   "outputs": [],
   "source": [
    "''''\n",
    "'This example shows how the same emphasize decorator works with:\n",
    "\n",
    "A function that takes one argument (greet)\n",
    "A function that takes two arguments (add)\n",
    "A function with required positional and variable keyword arguments (describe_person)\n",
    "A function with no arguments (welcome)\n",
    "\n",
    "Because the wrapper function uses *args and **kwargs, it can capture and forward any combination of arguments to the original function, making the decorator universally applicable.\n",
    "If the wrapper function were defined with a fixed parameter like wrapper(name), it would only work for the greet function but would fail with all the other functions in this example.'\n",
    "\n",
    "'''"
   ]
  },
  {
   "cell_type": "markdown",
   "id": "6e3b741a",
   "metadata": {},
   "source": [
    "#🍭 Python Syntactic Sugar"
   ]
  },
  {
   "cell_type": "markdown",
   "id": "debd6a56",
   "metadata": {},
   "source": [
    "\n",
    "# Syntactic sugar refers to syntax that makes code easier to read or write, but doesn’t add new functionality. It’s like a shortcut.\n",
    "\n",
    "Examples:\n",
    "\n",
    "# Sugar\t                                                                            Under the Hood\n",
    "#=============================================================================================================================\n",
    "\n",
    "@decorator\t                                                                        func = decorator(func)\n",
    "List comprehension: [x*x for x in range(5)]\t                                        for loop with append()\n",
    "with open(...) as f:\t                                                            try-finally block with manual f.close()\n",
    "a += 1\t                                                                            a = a + 1\n",
    "class A(B):\t                                                                        A = type('A', (B,), {})\n",
    "\n",
    "# Syntactic sugar is what makes Python expressive and elegant."
   ]
  },
  {
   "cell_type": "markdown",
   "id": "4f2aee37",
   "metadata": {},
   "source": [
    "# ✅ Generalized time_decorator with Arguments Support"
   ]
  },
  {
   "cell_type": "code",
   "execution_count": 25,
   "id": "30691990",
   "metadata": {},
   "outputs": [
    {
     "name": "stdout",
     "output_type": "stream",
     "text": [
      "Time before the function runs is: 1746967849.78\n",
      "Hello, Alice!\n",
      "Time after the function runs is: 1746967859.78\n",
      "Time taken for the function to run is: 10.00 seconds\n"
     ]
    }
   ],
   "source": [
    "import time\n",
    "\n",
    "def time_decorator(func):\n",
    "    def wrapper(*args, **kwargs):\n",
    "        t1 = time.time()\n",
    "        print(f\"Time before the function runs is: {t1:.2f}\")\n",
    "        result = func(*args, **kwargs)\n",
    "        time.sleep(10)  # Simulated delay\n",
    "        t2 = time.time()\n",
    "        print(f\"Time after the function runs is: {t2:.2f}\")\n",
    "        t = t2 - t1\n",
    "        print(f\"Time taken for the function to run is: {t:.2f} seconds\")\n",
    "        return result\n",
    "    return wrapper\n",
    "\n",
    "\n",
    "# Example Usage\n",
    "@time_decorator\n",
    "def greet(name):\n",
    "    print(f\"Hello, {name}!\")\n",
    "\n",
    "greet(\"Alice\")\n"
   ]
  },
  {
   "cell_type": "code",
   "execution_count": 36,
   "id": "51fe49aa",
   "metadata": {},
   "outputs": [
    {
     "name": "stdout",
     "output_type": "stream",
     "text": [
      "Time before the function runs is: 1746968971.06\n",
      "Hello, Alice!\n",
      "Hello, ['Byju', 'Aathmika', 'Aathmiya']!\n",
      "Time after the function runs is: 1746968981.06\n",
      "Time taken for the function to run is: 10.00 seconds\n"
     ]
    }
   ],
   "source": [
    "# Example Usage\n",
    "@time_decorator\n",
    "def greet2(name, name2_list):\n",
    "    print(f\"Hello, {name}!\")\n",
    "    print(f\"Hello, {name2_list}!\")\n",
    "    \n",
    "greet2(\"Alice\", [\"Byju\", \"Aathmika\", \"Aathmiya\"])"
   ]
  },
  {
   "cell_type": "code",
   "execution_count": 34,
   "id": "19020914",
   "metadata": {},
   "outputs": [
    {
     "name": "stdout",
     "output_type": "stream",
     "text": [
      "Time before the function runs is: 1746968926.29\n",
      "Hello, Alice!\n",
      "Hello, Byju!\n",
      "Hello, Aathmika!\n",
      "Hello, Aathmiya!\n",
      "Time after the function runs is: 1746968936.29\n",
      "Time taken for the function to run is: 10.00 seconds\n"
     ]
    }
   ],
   "source": [
    "# Example Usage\n",
    "# Example Usage\n",
    "@time_decorator\n",
    "def greet3(name, name2_list):\n",
    "    print(f\"Hello, {name}!\")\n",
    "    for person in name2_list:\n",
    "        print(f\"Hello, {person}!\")\n",
    "\n",
    "greet3(\"Alice\", [\"Byju\", \"Aathmika\", \"Aathmiya\"])"
   ]
  },
  {
   "cell_type": "markdown",
   "id": "72110167",
   "metadata": {},
   "source": [
    "## @staticmethod"
   ]
  },
  {
   "cell_type": "code",
   "execution_count": null,
   "id": "3c476788",
   "metadata": {},
   "outputs": [],
   "source": [
    "\n",
    "''' ✅ What is it?\n",
    "A method that does not take the instance (self) or class (cls) as the first argument.\n",
    "\n",
    "Behaves like a plain function but lives in the class's namespace.\n",
    "\n",
    "Cannot access or modify class or instance attributes.\n",
    "\n",
    "🔧 Use case:\n",
    "When the method logically belongs to the class but doesn’t depend on instance or class data.\n",
    "\n",
    "'''"
   ]
  },
  {
   "cell_type": "code",
   "execution_count": 38,
   "id": "fae95f1f",
   "metadata": {},
   "outputs": [
    {
     "name": "stdout",
     "output_type": "stream",
     "text": [
      "8\n"
     ]
    }
   ],
   "source": [
    "# Example of @staticmethod\n",
    "class MathUtils:\n",
    "    @staticmethod\n",
    "    def add(a, b):\n",
    "        return a + b\n",
    "\n",
    "print(MathUtils.add(3, 5))  # ✅ Output: 8\n"
   ]
  },
  {
   "cell_type": "markdown",
   "id": "0fe3ad49",
   "metadata": {},
   "source": [
    "# @classmethod"
   ]
  },
  {
   "cell_type": "code",
   "execution_count": null,
   "id": "7a06c1d2",
   "metadata": {},
   "outputs": [],
   "source": [
    "'''\n",
    "✅ What is it?\n",
    "A method that takes the class (cls) as the first argument.\n",
    "\n",
    "Can access or modify class variables.\n",
    "\n",
    "Useful for alternative constructors or class-wide operations.'\n",
    "\n",
    "'''"
   ]
  },
  {
   "cell_type": "code",
   "execution_count": 39,
   "id": "fe52eb6d",
   "metadata": {},
   "outputs": [
    {
     "name": "stdout",
     "output_type": "stream",
     "text": [
      "Alice\n",
      "Homo sapiens\n",
      "Homo futuris\n"
     ]
    }
   ],
   "source": [
    "class Person:\n",
    "    species = \"Homo sapiens\"\n",
    "\n",
    "    def __init__(self, name):\n",
    "        self.name = name\n",
    "\n",
    "    @classmethod\n",
    "    def from_string(cls, data):\n",
    "        name = data.split(\",\")[0]\n",
    "        return cls(name)\n",
    "\n",
    "    @classmethod\n",
    "    def change_species(cls, new_species):\n",
    "        cls.species = new_species\n",
    "\n",
    "p1 = Person.from_string(\"Alice,25\")\n",
    "print(p1.name)          # Alice\n",
    "print(p1.species)       # Homo sapiens\n",
    "\n",
    "Person.change_species(\"Homo futuris\")\n",
    "print(p1.species)       # Homo futuris\n"
   ]
  },
  {
   "cell_type": "code",
   "execution_count": null,
   "id": "8d812847",
   "metadata": {},
   "outputs": [],
   "source": [
    "# ✅ Summary Table\n",
    "\n",
    "| Feature            | `@staticmethod`        | `@classmethod`                         |\n",
    "|--------------------|------------------------|----------------------------------------|\n",
    "| First argument     | None                   | `cls` (the class itself)               |\n",
    "| Access to instance | ❌ No                  | ❌ No                                 |\n",
    "| Access to class    | ❌ No                  | ✅ Yes                                |\n",
    "| Typical use        | Utility/helper methods | Alternative constructors, class config |"
   ]
  }
 ],
 "metadata": {
  "kernelspec": {
   "display_name": "Python 3",
   "language": "python",
   "name": "python3"
  },
  "language_info": {
   "codemirror_mode": {
    "name": "ipython",
    "version": 3
   },
   "file_extension": ".py",
   "mimetype": "text/x-python",
   "name": "python",
   "nbconvert_exporter": "python",
   "pygments_lexer": "ipython3",
   "version": "3.12.0"
  }
 },
 "nbformat": 4,
 "nbformat_minor": 5
}
