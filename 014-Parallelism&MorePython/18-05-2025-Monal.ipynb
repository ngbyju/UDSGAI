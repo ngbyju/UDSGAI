{
 "cells": [
  {
   "cell_type": "code",
   "execution_count": 5,
   "id": "c051b627",
   "metadata": {},
   "outputs": [
    {
     "name": "stdout",
     "output_type": "stream",
     "text": [
      "Requirement already satisfied: requests in c:\\users\\byju\\dropbox\\kna\\udsgai\\venv\\lib\\site-packages (2.32.3)\n",
      "Requirement already satisfied: charset-normalizer<4,>=2 in c:\\users\\byju\\dropbox\\kna\\udsgai\\venv\\lib\\site-packages (from requests) (3.4.2)\n",
      "Requirement already satisfied: idna<4,>=2.5 in c:\\users\\byju\\dropbox\\kna\\udsgai\\venv\\lib\\site-packages (from requests) (3.10)\n",
      "Requirement already satisfied: urllib3<3,>=1.21.1 in c:\\users\\byju\\dropbox\\kna\\udsgai\\venv\\lib\\site-packages (from requests) (2.4.0)\n",
      "Requirement already satisfied: certifi>=2017.4.17 in c:\\users\\byju\\dropbox\\kna\\udsgai\\venv\\lib\\site-packages (from requests) (2025.4.26)\n",
      "Note: you may need to restart the kernel to use updated packages.\n"
     ]
    }
   ],
   "source": [
    "pip install requests\n"
   ]
  },
  {
   "cell_type": "code",
   "execution_count": 6,
   "id": "54d0b592",
   "metadata": {},
   "outputs": [],
   "source": [
    "import requests\n",
    "import time\n",
    "import threading\n",
    "import os"
   ]
  },
  {
   "cell_type": "code",
   "execution_count": 7,
   "id": "efcc9a98",
   "metadata": {},
   "outputs": [],
   "source": [
    "def download_file(process_name, url, file_path):\n",
    "    try:\n",
    "        print(f\"Download process name started : {process_name}\")\n",
    "        response = requests.get(url)\n",
    "        with open(file_path, \"wb\") as file:\n",
    "            for chunk in response.iter_content(chunk_size=8192):\n",
    "                if chunk:\n",
    "                    file.write(chunk)\n",
    "        print(\"File downloaded successfully\")\n",
    "    except Exception as e :\n",
    "        print(f\"Error downloading file : {e}\")\n",
    "    print(f\"Process name completed : {process_name}\")"
   ]
  },
  {
   "cell_type": "code",
   "execution_count": 8,
   "id": "a19c1fff",
   "metadata": {},
   "outputs": [],
   "source": [
    "url = \"https://raw.githubusercontent.com/Monalsingh/VideoBroadcaster/refs/heads/main/static/default-office-animated.png\""
   ]
  },
  {
   "cell_type": "code",
   "execution_count": 11,
   "id": "4e771100",
   "metadata": {},
   "outputs": [
    {
     "name": "stdout",
     "output_type": "stream",
     "text": [
      "Download process name started : abc_1\n",
      "File downloaded successfully\n",
      "Process name completed : abc_1\n",
      "Process completed\n"
     ]
    }
   ],
   "source": [
    "t1_wd = threading.Thread(target=download_file, args=(\"abc_1\", url, \"a.png\"), daemon=True)\n",
    "\n",
    "t1_wd.start()\n",
    "\n",
    "t1_wd.join()\n",
    "\n",
    "print(\"Process completed\")"
   ]
  },
  {
   "cell_type": "markdown",
   "id": "4ca0cd2b",
   "metadata": {},
   "source": [
    "# Close manually"
   ]
  },
  {
   "cell_type": "code",
   "execution_count": 12,
   "id": "dad4d097",
   "metadata": {},
   "outputs": [
    {
     "name": "stdout",
     "output_type": "stream",
     "text": [
      "Watching a.txt\n",
      "Watch exiting cleanly..\n",
      "Main program exited cleanly.\n"
     ]
    }
   ],
   "source": [
    "\n",
    "stop_signal = threading.Event() # bydefault it is false\n",
    "\n",
    "def watch_file(file_path):\n",
    "    count = 0\n",
    "    print(f\"Watching {file_path}\")\n",
    "    while not stop_signal.is_set():\n",
    "        print(\"Watching file ....\")\n",
    "        time.sleep(2)\n",
    "    print(\"Watch exiting cleanly..\")\n",
    "\n",
    "\n",
    "t1_wd = threading.Thread(target=watch_file, args=(\"a.txt\",))\n",
    "t1_wd.start()\n",
    "\n",
    "stop_signal.set() # Event value to be true\n",
    "\n",
    "t1_wd.join()\n",
    "\n",
    "time.sleep(5)\n",
    "\n",
    "print(\"Main program exited cleanly.\")"
   ]
  },
  {
   "cell_type": "code",
   "execution_count": 13,
   "id": "6b993e83",
   "metadata": {},
   "outputs": [
    {
     "name": "stdout",
     "output_type": "stream",
     "text": [
      "Watching a.txtWatching b.txt\n",
      "Watching file ....\n",
      "\n",
      "Watching file ....\n",
      "Watching c.txt\n",
      "Watching file ....\n",
      "Watching file ....Watching file ....\n",
      "\n",
      "Watching file ....\n",
      "Watching file ....Watching file ....\n",
      "Watching file ....\n",
      "\n",
      "Watching file ....\n",
      "Watching file ....\n",
      "Watch thread id : 1 exiting cleanly..\n",
      "Watching file ....Watching file ....\n",
      "\n",
      "Watching file ....\n",
      "Watch thread id : 2 exiting cleanly..\n",
      "Watching file ....\n",
      "Watching file ....\n",
      "Watch thread id : 3 exiting cleanly..\n",
      "Main program exited cleanly.\n"
     ]
    }
   ],
   "source": [
    "\n",
    "stop_signal_1 = threading.Event() # bydefault it is false\n",
    "stop_signal_2 = threading.Event()\n",
    "stop_signal_3 = threading.Event()\n",
    "\n",
    "\n",
    "def watch_file(thread_id, file_path, event_signal):\n",
    "    print(f\"Watching {file_path}\")\n",
    "    while not event_signal.is_set():\n",
    "        print(\"Watching file ....\")\n",
    "        time.sleep(2)\n",
    "    print(f\"Watch thread id : {thread_id } exiting cleanly..\")\n",
    "\n",
    "\n",
    "t1_wd = threading.Thread(target=watch_file, args=(1 ,\"a.txt\",stop_signal_1,))\n",
    "t2_wd = threading.Thread(target=watch_file, args=(2 ,\"b.txt\",stop_signal_2,))\n",
    "t3_wd = threading.Thread(target=watch_file, args=(3, \"c.txt\",stop_signal_3,))\n",
    "\n",
    "t1_wd.start()\n",
    "t2_wd.start()\n",
    "t3_wd.start()\n",
    "\n",
    "\n",
    "time.sleep(5)\n",
    "stop_signal_1.set() # Event value to be true\n",
    "\n",
    "time.sleep(5)\n",
    "stop_signal_2.set() # Event value to be true\n",
    "\n",
    "time.sleep(5)\n",
    "stop_signal_3.set() # Event value to be true\n",
    "\n",
    "\n",
    "t1_wd.join()\n",
    "t2_wd.join()\n",
    "t3_wd.join()\n",
    "\n",
    "time.sleep(5)\n",
    "\n",
    "print(\"Main program exited cleanly.\")"
   ]
  },
  {
   "cell_type": "code",
   "execution_count": 14,
   "id": "3b2ec7b3",
   "metadata": {},
   "outputs": [
    {
     "name": "stdout",
     "output_type": "stream",
     "text": [
      "Watching a.txt\n",
      "Watching file ....\n",
      "Watching b.txt\n",
      "Watching file ....\n",
      "Watching c.txt\n",
      "Watching file ....\n",
      "Watching file ....\n",
      "Watching file ....\n",
      "Watching file ....\n",
      "Watching file ....\n",
      "Watching file ....\n",
      "Watching file ....\n",
      "Watch thread id : 1 exiting cleanly..Watching file ....\n",
      "Watching file ....\n",
      "\n",
      "Watching file ....\n",
      "Watching file ....\n",
      "Watching file ....Watch thread id : 2 exiting cleanly..\n",
      "\n",
      "Watching file ....\n",
      "Watching file ....\n",
      "Watch thread id : 3 exiting cleanly..\n",
      "Main program exited cleanly.\n"
     ]
    }
   ],
   "source": [
    "\n",
    "stop_event = {\"thread_1\": False, \"thread_2\": False, \"thread_3\": False}\n",
    "\n",
    "\n",
    "def watch_file(thread_id, file_path, thread_name):\n",
    "    print(f\"Watching {file_path}\")\n",
    "    while not stop_event[thread_name]:\n",
    "        print(\"Watching file ....\")\n",
    "        time.sleep(2)\n",
    "    print(f\"Watch thread id : {thread_id } exiting cleanly..\")\n",
    "\n",
    "\n",
    "t1_wd = threading.Thread(target=watch_file, args=(1 ,\"a.txt\",\"thread_1\",))\n",
    "t2_wd = threading.Thread(target=watch_file, args=(2 ,\"b.txt\",\"thread_2\",))\n",
    "t3_wd = threading.Thread(target=watch_file, args=(3, \"c.txt\",\"thread_3\",))\n",
    "\n",
    "t1_wd.start()\n",
    "t2_wd.start()\n",
    "t3_wd.start()\n",
    "\n",
    "\n",
    "time.sleep(5)\n",
    "stop_event[\"thread_1\"] = True # Event value to be true\n",
    "\n",
    "time.sleep(5)\n",
    "stop_event[\"thread_2\"] = True # Event value to be true\n",
    "\n",
    "time.sleep(5)\n",
    "stop_event[\"thread_3\"] = True# Event value to be true\n",
    "\n",
    "\n",
    "t1_wd.join()\n",
    "t2_wd.join()\n",
    "t3_wd.join()\n",
    "\n",
    "time.sleep(5)\n",
    "\n",
    "print(\"Main program exited cleanly.\")"
   ]
  },
  {
   "cell_type": "code",
   "execution_count": null,
   "id": "d8de21fa",
   "metadata": {},
   "outputs": [],
   "source": []
  }
 ],
 "metadata": {
  "kernelspec": {
   "display_name": "Python 3",
   "language": "python",
   "name": "python3"
  },
  "language_info": {
   "codemirror_mode": {
    "name": "ipython",
    "version": 3
   },
   "file_extension": ".py",
   "mimetype": "text/x-python",
   "name": "python",
   "nbconvert_exporter": "python",
   "pygments_lexer": "ipython3",
   "version": "3.12.0"
  }
 },
 "nbformat": 4,
 "nbformat_minor": 5
}
