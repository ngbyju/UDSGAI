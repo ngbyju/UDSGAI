{
 "cells": [
  {
   "cell_type": "code",
   "execution_count": null,
   "id": "f4f5a323",
   "metadata": {},
   "outputs": [],
   "source": [
    "pip install requests\n",
    " \n",
    "import requests\n",
    "import time"
   ]
  },
  {
   "cell_type": "code",
   "execution_count": null,
   "id": "251ed916",
   "metadata": {},
   "outputs": [],
   "source": [
    "def download_file(process_name, url, file_path):\n",
    "    try:\n",
    "        print(f\"Download process name started : {process_name}\")\n",
    "        response = requests.get(url)\n",
    "        with open(file_path, \"wb\") as file:\n",
    "            for chunk in response.iter_content(chunk_size=8192):\n",
    "                if chunk:\n",
    "                    file.write(chunk)\n",
    "        print(\"File downloaded successfully\")\n",
    "    except Exception as e :\n",
    "        print(f\"Error downloading file : {e}\")\n",
    "    print(f\"Process name completed : {process_name}\")"
   ]
  },
  {
   "cell_type": "code",
   "execution_count": null,
   "id": "7cef8626",
   "metadata": {},
   "outputs": [],
   "source": [
    "url = \"https://raw.githubusercontent.com/Monalsingh/VideoBroadcaster/refs/heads/main/static/default-office-animated.png\""
   ]
  }
 ],
 "metadata": {
  "language_info": {
   "name": "python"
  }
 },
 "nbformat": 4,
 "nbformat_minor": 5
}
