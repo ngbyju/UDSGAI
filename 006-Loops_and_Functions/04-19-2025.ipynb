{
 "cells": [
  {
   "cell_type": "markdown",
   "id": "cdcc7103",
   "metadata": {},
   "source": [
    "##Functions"
   ]
  },
  {
   "cell_type": "code",
   "execution_count": null,
   "id": "49f24f67",
   "metadata": {},
   "outputs": [
    {
     "name": "stdout",
     "output_type": "stream",
     "text": [
      "15\n"
     ]
    }
   ],
   "source": [
    "# simple function with no parameters:\n",
    "# \n",
    "def add():\n",
    "    a = int(input(\"Enter a value: \")) # pass 5\n",
    "    b = int(input(\"Enter a value: \")) # pass 10\n",
    "    print(a + b)  # Sum is 15\n",
    "\n",
    "output = add()"
   ]
  },
  {
   "cell_type": "code",
   "execution_count": null,
   "id": "56d7db22",
   "metadata": {},
   "outputs": [
    {
     "name": "stdout",
     "output_type": "stream",
     "text": [
      "17\n"
     ]
    }
   ],
   "source": [
    "# simple function with parameters:\n",
    "# Here a and b are positional arguments or positional parameters\n",
    "def add(a, b):\n",
    "    print(a + b)\n",
    "\n",
    "a = int(input(\"Enter a value: \"))  # pass 5 \n",
    "b = int(input(\"Enter a value: \"))  # pass 12\n",
    "output = add(a, b)  # The sum is 17"
   ]
  },
  {
   "cell_type": "code",
   "execution_count": null,
   "id": "eaac1ac8",
   "metadata": {},
   "outputs": [],
   "source": [
    "# function with non-keyword arguments\n",
    "def add_multiple_values(*args):\n",
    "    sum = 0\n",
    "    for val in args:\n",
    "        sum += val\n",
    "    print(sum)"
   ]
  },
  {
   "cell_type": "code",
   "execution_count": 6,
   "id": "40efe0a6",
   "metadata": {},
   "outputs": [
    {
     "name": "stdout",
     "output_type": "stream",
     "text": [
      "15\n"
     ]
    }
   ],
   "source": [
    "add_multiple_values(1,2,3,4,5)"
   ]
  },
  {
   "cell_type": "code",
   "execution_count": 16,
   "id": "1e60fe5e",
   "metadata": {},
   "outputs": [],
   "source": [
    "def get_names(name_1 = \"krish\", *args):\n",
    "    for i in args:\n",
    "        print(i)\n"
   ]
  },
  {
   "cell_type": "code",
   "execution_count": 17,
   "id": "bf662c19",
   "metadata": {},
   "outputs": [
    {
     "name": "stdout",
     "output_type": "stream",
     "text": [
      "krish\n",
      "mohammed\n",
      "mayank\n"
     ]
    }
   ],
   "source": [
    "get_names(\"monal\", \"krish\", \"mohammed\",\"mayank\")\n",
    "# here monal replaces the first default argument \"krish\" in the function\n",
    "# The remaining values in function call are passed to *args as tuple \n",
    "# we are only printing here the items in the tuple passed to *args\n",
    "# tuple is an iterable"
   ]
  },
  {
   "cell_type": "code",
   "execution_count": 18,
   "id": "29797b25",
   "metadata": {},
   "outputs": [],
   "source": [
    "def get_mynames(name_1 = \"krish\", *args):\n",
    "    print(name_1)\n",
    "    for i in args:\n",
    "        print(i)"
   ]
  },
  {
   "cell_type": "code",
   "execution_count": 19,
   "id": "cc821ded",
   "metadata": {},
   "outputs": [
    {
     "name": "stdout",
     "output_type": "stream",
     "text": [
      "monal\n",
      "krish\n",
      "mohammed\n",
      "mayank\n"
     ]
    }
   ],
   "source": [
    "get_mynames(\"monal\", \"krish\", \"mohammed\",\"mayank\")\n",
    "# prints first parameter and then remaining items in the tuple passed to *args"
   ]
  },
  {
   "cell_type": "code",
   "execution_count": 20,
   "id": "36d4cd3a",
   "metadata": {},
   "outputs": [],
   "source": [
    "def greet_names(greeting, *args):\n",
    "    for i in args:\n",
    "        print(greeting, i)\n",
    "\n"
   ]
  },
  {
   "cell_type": "code",
   "execution_count": 24,
   "id": "5fa0c48a",
   "metadata": {},
   "outputs": [
    {
     "name": "stdout",
     "output_type": "stream",
     "text": [
      " Namaste krish\n",
      " Namaste raj\n",
      " Namaste mohit\n"
     ]
    }
   ],
   "source": [
    "greeting = \" Namaste\"\n",
    "greet_names(greeting, \"krish\", \"raj\", \"mohit\")"
   ]
  },
  {
   "cell_type": "code",
   "execution_count": 26,
   "id": "d224f7cf",
   "metadata": {},
   "outputs": [],
   "source": [
    "# key word arguments\n",
    "\n",
    "def add(**kwargs):\n",
    "    pass # Python will throw error if you do not include a statement\n",
    "          # we add pass, assuming we donot know what is to be done inside function\n",
    "add(a=1,b=2,c=3,d=4,e=5)\n"
   ]
  },
  {
   "cell_type": "code",
   "execution_count": 29,
   "id": "a9cdbd1c",
   "metadata": {},
   "outputs": [
    {
     "name": "stdout",
     "output_type": "stream",
     "text": [
      "<class 'dict'>\n",
      "{'a': 2, 'b': 3, 'c': 4, 'd': 5, 'e': 6}\n",
      "9\n",
      "9\n"
     ]
    }
   ],
   "source": [
    "def add(**kwargs):\n",
    "    print(type(kwargs))\n",
    "    print(kwargs)\n",
    "    print(kwargs[\"a\"] + kwargs[\"c\"] + kwargs[\"b\"])\n",
    "    print(kwargs.get(\"a\") + kwargs.get(\"c\") + kwargs.get(\"b\"))\n",
    "add(a=2,b=3,c=4,d=5,e=6)"
   ]
  },
  {
   "cell_type": "code",
   "execution_count": null,
   "id": "8ff5c669",
   "metadata": {},
   "outputs": [],
   "source": [
    "#*args is tuple\n",
    "# **args is a dictionary"
   ]
  },
  {
   "cell_type": "code",
   "execution_count": 30,
   "id": "ec88d1f3",
   "metadata": {},
   "outputs": [
    {
     "name": "stdout",
     "output_type": "stream",
     "text": [
      "<class 'tuple'>\n",
      "(2, 3)\n",
      "<class 'dict'>\n",
      "{'c': 4, 'd': 5, 'e': 6}\n",
      "15\n",
      "15\n"
     ]
    }
   ],
   "source": [
    "def add(*args, **kwargs):\n",
    "    print(type(args))\n",
    "    print(args)\n",
    "    print(type(kwargs))\n",
    "    print(kwargs)\n",
    "    print(kwargs[\"c\"] + kwargs[\"d\"] + kwargs[\"e\"])\n",
    "    print(kwargs.get(\"c\") + kwargs.get(\"d\") + kwargs.get(\"e\"))\n",
    "add(2,3,c=4,d=5,e=6)"
   ]
  },
  {
   "cell_type": "code",
   "execution_count": null,
   "id": "7bd0037f",
   "metadata": {},
   "outputs": [
    {
     "name": "stdout",
     "output_type": "stream",
     "text": [
      "0\n",
      "0\n",
      "5\n",
      "10\n",
      "15\n",
      "0\n",
      "0\n"
     ]
    },
    {
     "ename": "NameError",
     "evalue": "name 'c' is not defined",
     "output_type": "error",
     "traceback": [
      "\u001b[31m---------------------------------------------------------------------------\u001b[39m",
      "\u001b[31mNameError\u001b[39m                                 Traceback (most recent call last)",
      "\u001b[36mCell\u001b[39m\u001b[36m \u001b[39m\u001b[32mIn[31]\u001b[39m\u001b[32m, line 13\u001b[39m\n\u001b[32m     11\u001b[39m \u001b[38;5;28mprint\u001b[39m(a)\n\u001b[32m     12\u001b[39m \u001b[38;5;28mprint\u001b[39m(b)\n\u001b[32m---> \u001b[39m\u001b[32m13\u001b[39m \u001b[38;5;28mprint\u001b[39m(\u001b[43mc\u001b[49m)\n",
      "\u001b[31mNameError\u001b[39m: name 'c' is not defined"
     ]
    }
   ],
   "source": [
    "# Code to better appreciate how parameter values are passed to a function \n",
    "b= 0\n",
    "print(a)\n",
    "print(b)\n",
    "def add(a =1, b = 1):\n",
    "    print(a)\n",
    "    print(b)\n",
    "    c = a + b\n",
    "    print(c)\n",
    "add(5, 10)\n",
    "print(a)\n",
    "print(b)\n",
    "print(c)"
   ]
  },
  {
   "cell_type": "code",
   "execution_count": 11,
   "id": "e10ae26a",
   "metadata": {},
   "outputs": [],
   "source": [
    "# Assume that a hospital receptionist needs to enter into database \n",
    "# patient first name, lastname, today's date, weight, height, country'\n",
    "# If country is India, measure tempertaure in Celsius, otherwise store in Fahrenheit\n",
    "# Patient admission completed with above steps\n",
    "\n",
    "# To get pateint details for OPD (Out-Patient Department)\n",
    "   # we need to pull patient_full_name, temperature and BMI\n",
    "\n",
    "# Ideally, creating a dictionary feels like an ideal solution\n",
    "\n",
    "\n",
    "id = 1\n",
    "patient_info ={}"
   ]
  },
  {
   "cell_type": "code",
   "execution_count": 12,
   "id": "e3fb403a",
   "metadata": {},
   "outputs": [],
   "source": [
    "def calculate_bmi(weight_kg, height_cm):\n",
    "    bmi = (weight_kg / ((height_cm/100)**2))\n",
    "    return bmi\n"
   ]
  },
  {
   "cell_type": "code",
   "execution_count": 13,
   "id": "0973f865",
   "metadata": {},
   "outputs": [],
   "source": [
    "def patient_admission(f_name, l_name, date_ddmmyy, weight_kg, height_cm, country_lower_case):\n",
    "    global id\n",
    "    global patient_info\n",
    "\n",
    "    patient_info[id] = {}\n",
    "\n",
    "    patient_info[id][\"f_name\"]= f_name\n",
    "    patient_info[id][\"l_name\"]= l_name\n",
    "    patient_info[id][\"date_ddmmyy\"]= date_ddmmyy\n",
    "    patient_info[id][\"weight_kg\"]= weight_kg\n",
    "    patient_info[id][\"height_cm\"]= height_cm\n",
    "    patient_info[id][\"country\"]= country_lower_case\n",
    "    patient_info[id][\"temp_ind\"]= None\n",
    "    patient_info[id][\"temp_others\"]= None\n",
    "    patient_info[id][\"bmi\"]= calculate_bmi(weight_kg, height_cm)\n",
    "\n",
    "    if country_lower_case == \"india\":\n",
    "        patient_info[id][\"temp_ind\"] = float(input(\"Enter patient temperature in celsius : \"))\n",
    "    else :\n",
    "        patient_info[id][\"temp_others\"] = float(input(\"Enter patient temperature in fahrenheit: \"))\n",
    "\n",
    "    # increamenet the id\n",
    "    id+=1"
   ]
  },
  {
   "cell_type": "code",
   "execution_count": 14,
   "id": "39e4fd2c",
   "metadata": {},
   "outputs": [],
   "source": [
    "def get_patient_details_for_opd(patient_id):\n",
    "    temp = None\n",
    "\n",
    "    if patient_info[patient_id][\"temp_ind\"] is not None:\n",
    "        temp = patient_info[patient_id][\"temp_ind\"]\n",
    "    else :\n",
    "        temp = patient_info[patient_id][\"temp_others\"]\n",
    "\n",
    "    print(\"Patient_id\", list(patient_info.keys())[patient_id-1], \" Patient full_name is : \", patient_info[patient_id][\"f_name\"] + \" \" + patient_info[patient_id][\"l_name\"], \"Patient temperate is : \", temp, \"Patient BMI is : \", patient_info[patient_id][\"bmi\"])"
   ]
  },
  {
   "cell_type": "code",
   "execution_count": 17,
   "id": "25b12396",
   "metadata": {},
   "outputs": [],
   "source": [
    "f_name = input(\"Enter first name : \")\n",
    "l_name = input(\"Enter last name : \")\n",
    "date_ddmmyy = input(\"Enter date in ddmmyy format : \")\n",
    "weight_kg = float(input(\"Enter weight in kg : \"))\n",
    "height_cm = float(input(\"Enter height in cm : \"))\n",
    "country_lower_case = input(\"Enter country in lowercase : \")\n",
    "\n",
    "patient_admission(f_name, l_name, date_ddmmyy, weight_kg, height_cm, country_lower_case)\n"
   ]
  },
  {
   "cell_type": "code",
   "execution_count": 18,
   "id": "f2e1c7a0",
   "metadata": {},
   "outputs": [
    {
     "name": "stdout",
     "output_type": "stream",
     "text": [
      "Patient_id 1  Patient full_name is :  BYJU  H Patient temperate is :  37.0 Patient BMI is :  24.653739612188367\n"
     ]
    }
   ],
   "source": [
    "get_patient_details_for_opd(1)\n"
   ]
  },
  {
   "cell_type": "code",
   "execution_count": 19,
   "id": "ee2e0497",
   "metadata": {},
   "outputs": [
    {
     "name": "stdout",
     "output_type": "stream",
     "text": [
      "Patient_id 2  Patient full_name is :  Rugma Poduval Patient temperate is :  36.0 Patient BMI is :  22.59814049586777\n"
     ]
    }
   ],
   "source": [
    "get_patient_details_for_opd(2)"
   ]
  },
  {
   "cell_type": "code",
   "execution_count": null,
   "id": "30cc01d5",
   "metadata": {},
   "outputs": [],
   "source": []
  }
 ],
 "metadata": {
  "kernelspec": {
   "display_name": "Python 3",
   "language": "python",
   "name": "python3"
  },
  "language_info": {
   "codemirror_mode": {
    "name": "ipython",
    "version": 3
   },
   "file_extension": ".py",
   "mimetype": "text/x-python",
   "name": "python",
   "nbconvert_exporter": "python",
   "pygments_lexer": "ipython3",
   "version": "3.12.0"
  }
 },
 "nbformat": 4,
 "nbformat_minor": 5
}
