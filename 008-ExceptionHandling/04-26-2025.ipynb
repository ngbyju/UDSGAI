{
 "cells": [
  {
   "cell_type": "code",
   "execution_count": 6,
   "id": "55147d1d",
   "metadata": {},
   "outputs": [
    {
     "data": {
      "text/plain": [
       "\" \\n\\nPython has a rich hierarchy of built-in exceptions. Here are the main categories and important specific exceptions:\\n\\n\\nBase Exception Classes\\n\\nBaseException: The root class for all built-in exceptions\\nException: Base class for most built-in non-system-exiting exceptions\\nStandardError: Legacy base class (removed in Python 3)\\n\\nCommon Built-in Exceptions\\n\\nTypeError: When an operation is performed on an inappropriate type\\nValueError: When a function receives an argument of the correct type but inappropriate value\\nNameError: When a local or global name is not found\\nAttributeError: When an attribute reference or assignment fails\\nKeyError: When a dictionary key is not found\\nIndexError: When a sequence index is out of range\\nFileNotFoundError: When a file or directory is requested but doesn't exist\\nIOError/OSError: For input/output and operating system related errors\\nImportError: When an import statement fails to find a module\\nModuleNotFoundError: When a module could not be located (subclass of ImportError)\\nZeroDivisionError: When division or modulo by zero is encountered\\nSyntaxError: When the parser encounters a syntax error\\nRuntimeError: When an error doesn't fall into any other category\\nStopIteration: Raised by next() when an iterator is exhausted\\nOverflowError: When an arithmetic operation is too large for the type\\nAssertionError: When an assert statement fails\\nPermissionError: When trying to run an operation without adequate permissions\\nTimeoutError: When a system function times out\\nMemoryError: When an operation runs out of memory\\n\\nSystem-Related Exceptions\\n\\nSystemExit: Raised by sys.exit()\\nKeyboardInterrupt: Raised when the user presses Ctrl+C\\nGeneratorExit: When a generator or coroutine is closed\\n\\n\""
      ]
     },
     "execution_count": 6,
     "metadata": {},
     "output_type": "execute_result"
    }
   ],
   "source": [
    "# Python Exception Types\n",
    "\n",
    "\"\"\" \n",
    "\n",
    "Python has a rich hierarchy of built-in exceptions. Here are the main categories and important specific exceptions:\n",
    "\n",
    "\n",
    "Base Exception Classes\n",
    "\n",
    "BaseException: The root class for all built-in exceptions\n",
    "Exception: Base class for most built-in non-system-exiting exceptions\n",
    "StandardError: Legacy base class (removed in Python 3)\n",
    "\n",
    "Common Built-in Exceptions\n",
    "\n",
    "TypeError: When an operation is performed on an inappropriate type\n",
    "ValueError: When a function receives an argument of the correct type but inappropriate value\n",
    "NameError: When a local or global name is not found\n",
    "AttributeError: When an attribute reference or assignment fails\n",
    "KeyError: When a dictionary key is not found\n",
    "IndexError: When a sequence index is out of range\n",
    "FileNotFoundError: When a file or directory is requested but doesn't exist\n",
    "IOError/OSError: For input/output and operating system related errors\n",
    "ImportError: When an import statement fails to find a module\n",
    "ModuleNotFoundError: When a module could not be located (subclass of ImportError)\n",
    "ZeroDivisionError: When division or modulo by zero is encountered\n",
    "SyntaxError: When the parser encounters a syntax error\n",
    "RuntimeError: When an error doesn't fall into any other category\n",
    "StopIteration: Raised by next() when an iterator is exhausted\n",
    "OverflowError: When an arithmetic operation is too large for the type\n",
    "AssertionError: When an assert statement fails\n",
    "PermissionError: When trying to run an operation without adequate permissions\n",
    "TimeoutError: When a system function times out\n",
    "MemoryError: When an operation runs out of memory\n",
    "\n",
    "System-Related Exceptions\n",
    "\n",
    "SystemExit: Raised by sys.exit()\n",
    "KeyboardInterrupt: Raised when the user presses Ctrl+C\n",
    "GeneratorExit: When a generator or coroutine is closed\n",
    "\n",
    "\"\"\""
   ]
  },
  {
   "cell_type": "code",
   "execution_count": 4,
   "id": "27790a5b",
   "metadata": {},
   "outputs": [
    {
     "ename": "ZeroDivisionError",
     "evalue": "division by zero",
     "output_type": "error",
     "traceback": [
      "\u001b[31m---------------------------------------------------------------------------\u001b[39m",
      "\u001b[31mZeroDivisionError\u001b[39m                         Traceback (most recent call last)",
      "\u001b[36mCell\u001b[39m\u001b[36m \u001b[39m\u001b[32mIn[4]\u001b[39m\u001b[32m, line 3\u001b[39m\n\u001b[32m      1\u001b[39m \u001b[38;5;66;03m# Zero division Error:\u001b[39;00m\n\u001b[32m      2\u001b[39m X = \u001b[32m2\u001b[39m\n\u001b[32m----> \u001b[39m\u001b[32m3\u001b[39m Y = \u001b[43mX\u001b[49m\u001b[43m/\u001b[49m\u001b[32;43m0\u001b[39;49m\n",
      "\u001b[31mZeroDivisionError\u001b[39m: division by zero"
     ]
    }
   ],
   "source": [
    "# Zero division Error:\n",
    "X = 2\n",
    "Y = X/0\n",
    "\n",
    "\n"
   ]
  },
  {
   "cell_type": "code",
   "execution_count": 7,
   "id": "dbe2d987",
   "metadata": {},
   "outputs": [
    {
     "name": "stdout",
     "output_type": "stream",
     "text": [
      "1\n",
      "2\n",
      "3\n",
      "4\n"
     ]
    },
    {
     "ename": "ValueError",
     "evalue": "invalid literal for int() with base 10: 'hello'",
     "output_type": "error",
     "traceback": [
      "\u001b[31m---------------------------------------------------------------------------\u001b[39m",
      "\u001b[31mValueError\u001b[39m                                Traceback (most recent call last)",
      "\u001b[36mCell\u001b[39m\u001b[36m \u001b[39m\u001b[32mIn[7]\u001b[39m\u001b[32m, line 3\u001b[39m\n\u001b[32m      1\u001b[39m \u001b[38;5;28;01mfor\u001b[39;00m i \u001b[38;5;129;01min\u001b[39;00m \u001b[38;5;28mrange\u001b[39m(\u001b[32m5\u001b[39m):\n\u001b[32m      2\u001b[39m     a = \u001b[38;5;28minput\u001b[39m(\u001b[33m\"\u001b[39m\u001b[33mEnter a number:\u001b[39m\u001b[33m\"\u001b[39m)\n\u001b[32m----> \u001b[39m\u001b[32m3\u001b[39m     a = \u001b[38;5;28;43mint\u001b[39;49m\u001b[43m(\u001b[49m\u001b[43ma\u001b[49m\u001b[43m)\u001b[49m\n\u001b[32m      4\u001b[39m     \u001b[38;5;28mprint\u001b[39m (a)\n\u001b[32m      5\u001b[39m \u001b[38;5;28mprint\u001b[39m (\u001b[33m\"\u001b[39m\u001b[33mHello How are you?\u001b[39m\u001b[33m\"\u001b[39m)\n",
      "\u001b[31mValueError\u001b[39m: invalid literal for int() with base 10: 'hello'"
     ]
    }
   ],
   "source": [
    "for i in range(5):\n",
    "    a = input(\"Enter a number:\")\n",
    "    a = int(a)\n",
    "    print (a)\n",
    "print (\"Hello How are you?\")"
   ]
  },
  {
   "cell_type": "code",
   "execution_count": null,
   "id": "66602e23",
   "metadata": {},
   "outputs": [],
   "source": [
    "# Note that user inputs 1, 2,3,4 and \"hello\". Error occurs in execution,\n",
    "# execution does not proceed to further steps and nor exception is handled adequately. "
   ]
  },
  {
   "cell_type": "code",
   "execution_count": null,
   "id": "94dc5ee9",
   "metadata": {},
   "outputs": [
    {
     "name": "stdout",
     "output_type": "stream",
     "text": [
      "1\n",
      "2\n",
      "3\n",
      "4\n",
      "Issue with the program)\n",
      "Hello How are you?\n"
     ]
    }
   ],
   "source": [
    "try: \n",
    "    for i in range(5):\n",
    "        a = input(\"Enter a number:\")\n",
    "        a = int(a)\n",
    "        print (a)\n",
    "except ValueError as e:\n",
    "    print(\"Issue with the program)\")\n",
    "print (\"Hello How are you?\")  \n",
    "# Enter 1, 2,3,4 and hello. Now see that exception is handled and the program executes to process next steps.  "
   ]
  },
  {
   "cell_type": "code",
   "execution_count": null,
   "id": "babc7540",
   "metadata": {},
   "outputs": [
    {
     "name": "stdout",
     "output_type": "stream",
     "text": [
      "10.0\n",
      "Hello How are you?\n"
     ]
    }
   ],
   "source": [
    "try:\n",
    "    a = input(\"Enter a value:\")\n",
    "    a = int(a)\n",
    "    b = input(\"Enter a value to convert:\")\n",
    "    print(10/a)\n",
    "    int(b)\n",
    "except ValueError as e:\n",
    "    print(\"Issue with program.\")\n",
    "print (\"Hello How are you?\")\n",
    "# input scenario 1: 10, 2      ----> code executes\n",
    "# input scenario 2: 10, 3.4    ----> code breaks and handles exception\n",
    "# input scenario 3: 10.5, 2    ----> code executes \n",
    "# input scenario 4: 0, 2       ----> code executes but not handle first exception\n",
    "# input scenario 5: 10, abc    ---> code breaks and handles exception\n",
    "# input sceanrio 6: hello, abc ---> code breaks and do not handle exception\n",
    "\n",
    "\n",
    "\n"
   ]
  },
  {
   "cell_type": "code",
   "execution_count": null,
   "id": "b794b176",
   "metadata": {},
   "outputs": [],
   "source": [
    "try:\n",
    "    a = input(\"Enter a value:\")\n",
    "    a = int(a)\n",
    "    b = input(\"Enter a value to convert:\")\n",
    "    print(10/a)\n",
    "    int(b)\n",
    "except (ValueError, ZeroDivisionError) as e:\n",
    "    print(\"Issue with program.\")\n",
    "print (\"Hello How are you?\")\n",
    "\n",
    "# input scenario 1: 10, 2      ----> code executes\n",
    "# input scenario 2: 10, 3.4    ----> code breaks and handles exception\n",
    "# input scenario 3: 10.5, 2    ----> code executes \n",
    "# input scenario 4: 0, 2       ----> code executes but handles first exception\n",
    "# input scenario 5: 10, abc    ---> code breaks and handles exception\n",
    "# input sceanrio 6: hello, abc ---> code breaks and handles exception\n"
   ]
  },
  {
   "cell_type": "code",
   "execution_count": null,
   "id": "c30fb545",
   "metadata": {},
   "outputs": [],
   "source": [
    "try:\n",
    "    a = input(\"Enter a value:\")\n",
    "    a = int(a)\n",
    "    b = input(\"Enter a value to convert:\")\n",
    "    print(10/a)\n",
    "    int(b)\n",
    "# except (ValueError, ZeroDivisionError) as e:\n",
    "except Exception as e:\n",
    "    print(\"Issue with program.\")\n",
    "print (\"Hello How are you?\")\n",
    "\n",
    "# input scenario 1: 10, 2      ----> code executes\n",
    "# input scenario 2: 10, 3.4    ----> code breaks and handles exception\n",
    "# input scenario 3: 10.5, 2    ----> code executes \n",
    "# input scenario 4: 0, 2       ----> code executes but handles first exception\n",
    "# input scenario 5: 10, abc    ---> code breaks and handles exception\n",
    "# input sceanrio 6: hello, abc ---> code breaks and handles exception\n"
   ]
  },
  {
   "cell_type": "code",
   "execution_count": 10,
   "id": "e77289f5",
   "metadata": {},
   "outputs": [
    {
     "name": "stdout",
     "output_type": "stream",
     "text": [
      "10.0\n",
      "User is trying to cast alpha-numeric character to integer\n",
      "Hello How are you?\n"
     ]
    }
   ],
   "source": [
    "try:\n",
    "    a = input(\"Enter a value:\")\n",
    "    a = int(a)\n",
    "    b = input(\"Enter a value to convert:\")\n",
    "    print(10/a)\n",
    "    int(b)\n",
    "except (ValueError) as e:\n",
    "    print(\"User is trying to cast alpha-numeric character to integer\")\n",
    "except (ZeroDivisionError) as e:\n",
    "    print(\"User is trying to divide by zero\")\n",
    "except Exception as e:\n",
    "    print(\"Some exceptions other than ValueError or ZeroDivisionError\")\n",
    "print (\"Hello How are you?\")"
   ]
  },
  {
   "cell_type": "code",
   "execution_count": 11,
   "id": "ee3aa13e",
   "metadata": {},
   "outputs": [
    {
     "name": "stdout",
     "output_type": "stream",
     "text": [
      "10.0\n",
      "Inputs were processed succesfully.\n"
     ]
    }
   ],
   "source": [
    "try:\n",
    "    a = input(\"Enter a value:\")\n",
    "    a = int(a)\n",
    "    b = input(\"Enter a value to convert:\")\n",
    "    print(10/a)\n",
    "    int(b)\n",
    "except (ValueError) as e:\n",
    "    print(\"User is trying to cast alpha-numeric character to integer\")\n",
    "except (ZeroDivisionError) as e:\n",
    "    print(\"User is trying to divide by zero\")\n",
    "except Exception as e:\n",
    "    print(\"Some exceptions other than ValueError or ZeroDivisionError\")\n",
    "finally:\n",
    "    print(\"Inputs were processed succesfully.\")"
   ]
  },
  {
   "cell_type": "code",
   "execution_count": null,
   "id": "59a7729f",
   "metadata": {},
   "outputs": [],
   "source": [
    "# try .... except ..... else\n",
    "# else block runs only if try block runs succesfuly and hence there are no errors\n",
    "try:\n",
    "    a = input(\"Enter a value:\")\n",
    "    a = int(a)\n",
    "    b = input(\"Enter a value to convert:\")\n",
    "    a = 10/a\n",
    "    int(b)\n",
    "except (ValueError) as e:\n",
    "    print(\"User is trying to cast alpha-numeric character to integer\")\n",
    "except (ZeroDivisionError) as e:\n",
    "    print(\"User is trying to divide by zero\")\n",
    "except Exception as e:\n",
    "    print(\"Some exceptions other than ValueError or ZeroDivisionError\")\n",
    "else: \n",
    "    print(\"Result of the operation is:\", a)\n",
    "finally:\n",
    "    print(\"Inputs were processed succesfully.\")"
   ]
  },
  {
   "cell_type": "code",
   "execution_count": null,
   "id": "e03b9645",
   "metadata": {},
   "outputs": [],
   "source": [
    "try:\n",
    "    # Code that might raise an exception\n",
    "    x = 1 / 0\n",
    "except ZeroDivisionError as e:\n",
    "    # Handle specific exception\n",
    "    print(f\"Error: {e}\")\n",
    "except (ValueError, TypeError) as e:\n",
    "    # Handle multiple exceptions\n",
    "    print(f\"Value or Type Error: {e}\")\n",
    "except Exception as e:\n",
    "    # Handle any other exception\n",
    "    print(f\"Unexpected error: {e}\")\n",
    "else:\n",
    "    # Runs if no exception occurred\n",
    "    print(\"No exceptions were raised\")\n",
    "finally:\n",
    "    # Always runs, regardless of whether an exception occurred\n",
    "    print(\"This always executes\")"
   ]
  },
  {
   "cell_type": "code",
   "execution_count": 14,
   "id": "c982d3d3",
   "metadata": {},
   "outputs": [],
   "source": [
    "def take_age(age):\n",
    "    try:\n",
    "        age_int = int(age)\n",
    "        if age_int<=0 or age_int>=100:\n",
    "            raise ValueError(\"Age is not in range. Enter valid age.\")\n",
    "        else:\n",
    "            print(\"Age:\", age_int)\n",
    "    except Exception as e:\n",
    "        print(e)\n",
    "    finally:\n",
    "        print(\"code executed successfully\")\n",
    "\n",
    "\n",
    "    \n"
   ]
  },
  {
   "cell_type": "code",
   "execution_count": 15,
   "id": "54c9a31a",
   "metadata": {},
   "outputs": [
    {
     "name": "stdout",
     "output_type": "stream",
     "text": [
      "Age: 30\n",
      "code executed successfully\n"
     ]
    }
   ],
   "source": [
    "take_age(30)"
   ]
  },
  {
   "cell_type": "code",
   "execution_count": 16,
   "id": "7a0b3c2d",
   "metadata": {},
   "outputs": [
    {
     "name": "stdout",
     "output_type": "stream",
     "text": [
      "Age is not in range. Enter valid age.\n",
      "code executed successfully\n"
     ]
    }
   ],
   "source": [
    "take_age(120)"
   ]
  },
  {
   "cell_type": "code",
   "execution_count": 12,
   "id": "9c00a42a",
   "metadata": {},
   "outputs": [
    {
     "data": {
      "text/plain": [
       "['__cause__',\n",
       " '__class__',\n",
       " '__context__',\n",
       " '__delattr__',\n",
       " '__dict__',\n",
       " '__dir__',\n",
       " '__doc__',\n",
       " '__eq__',\n",
       " '__format__',\n",
       " '__ge__',\n",
       " '__getattribute__',\n",
       " '__getstate__',\n",
       " '__gt__',\n",
       " '__hash__',\n",
       " '__init__',\n",
       " '__init_subclass__',\n",
       " '__le__',\n",
       " '__lt__',\n",
       " '__ne__',\n",
       " '__new__',\n",
       " '__reduce__',\n",
       " '__reduce_ex__',\n",
       " '__repr__',\n",
       " '__setattr__',\n",
       " '__setstate__',\n",
       " '__sizeof__',\n",
       " '__str__',\n",
       " '__subclasshook__',\n",
       " '__suppress_context__',\n",
       " '__traceback__',\n",
       " 'add_note',\n",
       " 'args',\n",
       " 'with_traceback']"
      ]
     },
     "execution_count": 12,
     "metadata": {},
     "output_type": "execute_result"
    }
   ],
   "source": [
    "dir(Exception)"
   ]
  },
  {
   "cell_type": "code",
   "execution_count": null,
   "id": "38e7779e",
   "metadata": {},
   "outputs": [],
   "source": [
    "'''\n",
    "Examples with sys.exit and sys.exit(0)\n",
    "In Python, sys.exit() is used to exit a program immediately. The argument passed to sys.exit() becomes the exit status of the program. \n",
    "Here are examples demonstrating its usage:\n",
    "\n",
    "'''"
   ]
  },
  {
   "cell_type": "markdown",
   "id": "c8a4f657",
   "metadata": {},
   "source": [
    "### Basic sys.exit() Example"
   ]
  },
  {
   "cell_type": "code",
   "execution_count": 19,
   "id": "a1af5e68",
   "metadata": {},
   "outputs": [
    {
     "name": "stdout",
     "output_type": "stream",
     "text": [
      "You entered: 40\n",
      "This line will only execute if no exit occurred\n"
     ]
    }
   ],
   "source": [
    "import sys\n",
    "\n",
    "def check_positive(number):\n",
    "    if number <= 0:\n",
    "        print(\"Error: Number must be positive\")\n",
    "        sys.exit(1)  # Exit with error status code\n",
    "    return number\n",
    "\n",
    "try:\n",
    "    value = int(input(\"Enter a positive number: \"))\n",
    "    result = check_positive(value)\n",
    "    print(f\"You entered: {result}\")\n",
    "except ValueError:\n",
    "    print(\"Error: Invalid input. Please enter a number.\")\n",
    "    sys.exit(1)  # Exit with error status code\n",
    "\n",
    "print(\"This line will only execute if no exit occurred\")"
   ]
  },
  {
   "cell_type": "markdown",
   "id": "3ab4b25b",
   "metadata": {},
   "source": [
    "### sys.exit(0) Example - Success Exit"
   ]
  },
  {
   "cell_type": "code",
   "execution_count": 20,
   "id": "cb2cde1d",
   "metadata": {},
   "outputs": [
    {
     "name": "stdout",
     "output_type": "stream",
     "text": [
      "Error: File 'byju.txt' not found\n",
      "File processing failed\n"
     ]
    },
    {
     "ename": "SystemExit",
     "evalue": "1",
     "output_type": "error",
     "traceback": [
      "An exception has occurred, use %tb to see the full traceback.\n",
      "\u001b[31mSystemExit\u001b[39m\u001b[31m:\u001b[39m 1\n"
     ]
    }
   ],
   "source": [
    "import sys\n",
    "\n",
    "def process_file(filename):\n",
    "    try:\n",
    "        with open(filename, 'r') as file:\n",
    "            content = file.read()\n",
    "            print(f\"File contents: {content}\")\n",
    "            return True\n",
    "    except FileNotFoundError:\n",
    "        print(f\"Error: File '{filename}' not found\")\n",
    "        return False\n",
    "\n",
    "filename = input(\"Enter filename to process: \")\n",
    "success = process_file(filename)\n",
    "\n",
    "if success:\n",
    "    print(\"File processed successfully\")\n",
    "    sys.exit(0)  # Exit with success status code\n",
    "else:\n",
    "    print(\"File processing failed\")\n",
    "    sys.exit(1)  # Exit with error status code"
   ]
  },
  {
   "cell_type": "markdown",
   "id": "a959fbfb",
   "metadata": {},
   "source": [
    "### Handling SystemExit Exception"
   ]
  },
  {
   "cell_type": "code",
   "execution_count": 25,
   "id": "57f421a7",
   "metadata": {},
   "outputs": [
    {
     "name": "stdout",
     "output_type": "stream",
     "text": [
      "You entered: 1\n",
      "This will execute before the program exits\n",
      "This line will never be reached if value is 0\n"
     ]
    }
   ],
   "source": [
    "import sys\n",
    "\n",
    "try:\n",
    "    value = int(input(\"Enter a number (0 to exit): \"))\n",
    "    if value == 0:\n",
    "        print(\"Exiting program...\")\n",
    "        sys.exit(0)\n",
    "    print(f\"You entered: {value}\")\n",
    "except ValueError:\n",
    "    print(\"Invalid input. Please enter a number.\")\n",
    "    sys.exit(1)\n",
    "except SystemExit as e:\n",
    "    print(\"SystemExit caught. Cleanup code here...\")\n",
    "    raise  # Re-raise the exception to actually exit\n",
    "finally:\n",
    "    print(\"This will execute before the program exits\")\n",
    "\n",
    "print(\"This line will never be reached if value is 0\")"
   ]
  },
  {
   "cell_type": "markdown",
   "id": "e1c9e073",
   "metadata": {},
   "source": [
    "\n"
   ]
  },
  {
   "cell_type": "markdown",
   "id": "11d123ff",
   "metadata": {},
   "source": [
    "## Command-Line Script Example"
   ]
  },
  {
   "cell_type": "code",
   "execution_count": 26,
   "id": "94e3ad36",
   "metadata": {},
   "outputs": [
    {
     "name": "stderr",
     "output_type": "stream",
     "text": [
      "usage: ipykernel_launcher.py [-h] [--sum] N [N ...]\n",
      "ipykernel_launcher.py: error: the following arguments are required: N\n"
     ]
    },
    {
     "ename": "SystemExit",
     "evalue": "2",
     "output_type": "error",
     "traceback": [
      "An exception has occurred, use %tb to see the full traceback.\n",
      "\u001b[31mSystemExit\u001b[39m\u001b[31m:\u001b[39m 2\n"
     ]
    }
   ],
   "source": [
    "import sys\n",
    "import argparse\n",
    "\n",
    "def main():\n",
    "    parser = argparse.ArgumentParser(description='Process some integers.')\n",
    "    parser.add_argument('integers', metavar='N', type=int, nargs='+',\n",
    "                        help='integers to be processed')\n",
    "    parser.add_argument('--sum', dest='accumulate', action='store_const',\n",
    "                        const=sum, default=max,\n",
    "                        help='sum the integers (default: find the max)')\n",
    "    \n",
    "    # Parse arguments or exit with error code\n",
    "    try:\n",
    "        args = parser.parse_args()\n",
    "    except SystemExit:\n",
    "        # argparse calls sys.exit() when there's a parsing error\n",
    "        sys.exit(2)\n",
    "    \n",
    "    # Process and print the result\n",
    "    result = args.accumulate(args.integers)\n",
    "    print(result)\n",
    "    sys.exit(0)  # Successful execution\n",
    "\n",
    "if __name__ == '__main__':\n",
    "    main()"
   ]
  },
  {
   "cell_type": "code",
   "execution_count": null,
   "id": "8915b5a7",
   "metadata": {},
   "outputs": [],
   "source": [
    "'''\n",
    "'Notes about sys.exit():\n",
    "\n",
    "sys.exit(0) indicates successful termination\n",
    "Non-zero exit codes (like sys.exit(1)) indicate errors\n",
    "sys.exit() raises a SystemExit exception, which can be caught if needed\n",
    "The exit status is important for scripts that are part of larger workflows or called by other programs\n",
    "In GUI applications, calling sys.exit() terminates the Python process\n",
    "\n",
    "When you need to exit a program with an indication of success or failure, sys.exit() with appropriate status codes is the preferred approach.'\n",
    "'''"
   ]
  }
 ],
 "metadata": {
  "kernelspec": {
   "display_name": "Python 3",
   "language": "python",
   "name": "python3"
  },
  "language_info": {
   "codemirror_mode": {
    "name": "ipython",
    "version": 3
   },
   "file_extension": ".py",
   "mimetype": "text/x-python",
   "name": "python",
   "nbconvert_exporter": "python",
   "pygments_lexer": "ipython3",
   "version": "3.12.0"
  }
 },
 "nbformat": 4,
 "nbformat_minor": 5
}
