{
 "cells": [
  {
   "cell_type": "markdown",
   "id": "315774bb",
   "metadata": {},
   "source": [
    "# Threading and Processors "
   ]
  },
  {
   "cell_type": "code",
   "execution_count": null,
   "id": "6e364f58",
   "metadata": {},
   "outputs": [],
   "source": [
    "'''\n",
    "In the context of threading in Python, the terms task and process refer to distinct but related concepts:\n",
    "\n",
    "🔹 Task\n",
    "A task is a unit of work — something your program needs to do.\n",
    "\n",
    "It could be anything: downloading a file, handling a user request, or performing a calculation.\n",
    "\n",
    "In multithreading, each task is often assigned to a separate thread for concurrent execution.\n",
    "\n",
    "✅ Example:\n",
    "def task1():\n",
    "    print(\"Task 1 is running\")\n",
    "\n",
    "def task2():\n",
    "    print(\"Task 2 is running\")\n",
    "These functions are tasks — you can run them in threads.\n",
    "\n",
    "'''"
   ]
  },
  {
   "cell_type": "code",
   "execution_count": null,
   "id": "171d82a2",
   "metadata": {},
   "outputs": [],
   "source": [
    "''''\n",
    "Process (vs. Thread)\n",
    "A process is a program in execution, with its own memory space.\n",
    "\n",
    "A thread is a lightweight sub-unit of a process that shares memory with other threads in the same process.\n",
    "\n",
    "🧠 Key Differences:\n",
    "Aspect\t           Process\t         Thread\n",
    "Memory\t           Own memory space\tShares memory\n",
    "Overhead\t       High\tLow\n",
    "Speed\t           Slower to start\tFaster\n",
    "Communication\t   Harder (via IPC)\tEasier (shared vars)\n",
    "Crash impact\t   Crashes isolated\tOne thread crash can affect all'\n",
    "'''"
   ]
  },
  {
   "cell_type": "code",
   "execution_count": null,
   "id": "99982a55",
   "metadata": {},
   "outputs": [],
   "source": [
    "''''\n",
    "Let me explain it like I would to a 10th-grade student — keeping it clear and relatable.\n",
    "\n",
    "🎯 What is a Task?\n",
    "Imagine you're doing chores at home:\n",
    "\n",
    "Washing dishes\n",
    "\n",
    "Taking out the trash\n",
    "\n",
    "Folding laundry\n",
    "\n",
    "Each of these chores is a task — a job that needs to be done.\n",
    "\n",
    "In a computer program, a task is something your code is trying to do — like:\n",
    "\n",
    "Downloading a file\n",
    "\n",
    "Playing a sound\n",
    "\n",
    "Calculating a math problem\n",
    "\n",
    "💡 What is a Process?\n",
    "Think of a process like a whole worker — a person doing one or more tasks.\n",
    "\n",
    "Each worker (process) has their own brain and memory.\n",
    "\n",
    "They don’t easily share notes or tools with other workers.\n",
    "\n",
    "If one process crashes (gets sick), it doesn't affect the others.\n",
    "\n",
    "So, when you run a program (like a calculator), your computer creates a process to handle it.\n",
    "\n",
    "🧠 What About Threads?\n",
    "Now imagine that a worker (process) has multiple hands — each hand can do a small task at the same time.\n",
    "\n",
    "Those hands are called threads.\n",
    "\n",
    "A thread is like a mini-worker inside a process.\n",
    "\n",
    "Threads share the same brain and memory.\n",
    "\n",
    "If one thread misbehaves, it might affect the others.\n",
    "\n",
    "💬 In Short:\n",
    "Concept\tReal-World Analogy\tProgramming Meaning\n",
    "Task\t          Chore or Job\t                Unit of work the program performs\n",
    "Process\t          Full Worker (with brain)\t    Program in action, with its own memory\n",
    "Thread\t          One hand of the worker\t    Part of a process, runs tasks in parallel'\n",
    "\n",
    "'''"
   ]
  },
  {
   "cell_type": "markdown",
   "id": "0ea91956",
   "metadata": {},
   "source": [
    "# Without Threading"
   ]
  },
  {
   "cell_type": "code",
   "execution_count": 3,
   "id": "3c73ec73",
   "metadata": {},
   "outputs": [
    {
     "name": "stdout",
     "output_type": "stream",
     "text": [
      "Collecting requests\n",
      "  Downloading requests-2.32.3-py3-none-any.whl.metadata (4.6 kB)\n",
      "Collecting charset-normalizer<4,>=2 (from requests)\n",
      "  Downloading charset_normalizer-3.4.2-cp312-cp312-win_amd64.whl.metadata (36 kB)\n",
      "Collecting idna<4,>=2.5 (from requests)\n",
      "  Downloading idna-3.10-py3-none-any.whl.metadata (10 kB)\n",
      "Collecting urllib3<3,>=1.21.1 (from requests)\n",
      "  Downloading urllib3-2.4.0-py3-none-any.whl.metadata (6.5 kB)\n",
      "Collecting certifi>=2017.4.17 (from requests)\n",
      "  Downloading certifi-2025.4.26-py3-none-any.whl.metadata (2.5 kB)\n",
      "Downloading requests-2.32.3-py3-none-any.whl (64 kB)\n",
      "Downloading certifi-2025.4.26-py3-none-any.whl (159 kB)\n",
      "Downloading charset_normalizer-3.4.2-cp312-cp312-win_amd64.whl (105 kB)\n",
      "Downloading idna-3.10-py3-none-any.whl (70 kB)\n",
      "Downloading urllib3-2.4.0-py3-none-any.whl (128 kB)\n",
      "Installing collected packages: urllib3, idna, charset-normalizer, certifi, requests\n",
      "Successfully installed certifi-2025.4.26 charset-normalizer-3.4.2 idna-3.10 requests-2.32.3 urllib3-2.4.0\n",
      "Note: you may need to restart the kernel to use updated packages.\n"
     ]
    }
   ],
   "source": [
    "pip install requests"
   ]
  },
  {
   "cell_type": "code",
   "execution_count": 4,
   "id": "e6c4328e",
   "metadata": {},
   "outputs": [],
   "source": [
    "import requests\n",
    "import time"
   ]
  },
  {
   "cell_type": "code",
   "execution_count": 5,
   "id": "bbc5121f",
   "metadata": {},
   "outputs": [],
   "source": [
    "url = \"https://raw.githubusercontent.com/Monalsingh/VideoBroadcaster/refs/heads/main/static/default-office-animated.png\"\n"
   ]
  },
  {
   "cell_type": "code",
   "execution_count": 6,
   "id": "3e4a72a8",
   "metadata": {},
   "outputs": [],
   "source": [
    "def download_file(process_name, url, file_path):\n",
    "    try:\n",
    "        print(f\"Download process name started : {process_name}\")\n",
    "        response = requests.get(url)\n",
    "        with open(file_path, \"wb\") as file:\n",
    "            for chunk in response.iter_content(chunk_size=8192):\n",
    "                if chunk:\n",
    "                    file.write(chunk)\n",
    "        print(\"File downloaded successfully\")\n",
    "    except Exception as e :\n",
    "        print(f\"Error downloading file : {e}\")\n",
    "    print(f\"Process name completed : {process_name}\")\n"
   ]
  },
  {
   "cell_type": "code",
   "execution_count": null,
   "id": "da582ea0",
   "metadata": {},
   "outputs": [],
   "source": [
    "# download_file(\"Download the file\", url, \"a.png\")  "
   ]
  },
  {
   "cell_type": "code",
   "execution_count": 7,
   "id": "38821711",
   "metadata": {},
   "outputs": [
    {
     "name": "stdout",
     "output_type": "stream",
     "text": [
      "Download process name started : Download without thread 1\n",
      "File downloaded successfully\n",
      "Process name completed : Download without thread 1\n",
      "Download process name started : Download without thread 2\n",
      "File downloaded successfully\n",
      "Process name completed : Download without thread 2\n",
      "Download process name started : Download without thread 3\n",
      "File downloaded successfully\n",
      "Process name completed : Download without thread 3\n",
      "Time taken(seconds) : 4.422521591186523\n"
     ]
    }
   ],
   "source": [
    "t1 = time.time()\n",
    "download_file(\"Download without thread 1\", url, \"a.png\")\n",
    "download_file(\"Download without thread 2\", url, \"b.png\")\n",
    "download_file(\"Download without thread 3\", url, \"c.png\")\n",
    "t2 = time.time()\n",
    "print(f\"Time taken(seconds) : {t2-t1}\")\n",
    "\n",
    "\n"
   ]
  },
  {
   "cell_type": "markdown",
   "id": "008aba1b",
   "metadata": {},
   "source": [
    "# With Threading"
   ]
  },
  {
   "cell_type": "code",
   "execution_count": 8,
   "id": "13b097b4",
   "metadata": {},
   "outputs": [],
   "source": [
    "import threading"
   ]
  },
  {
   "cell_type": "code",
   "execution_count": 12,
   "id": "21af97b7",
   "metadata": {},
   "outputs": [],
   "source": [
    "t1 = threading.Thread(target=download_file, args=(\"Download with thread 1\", url, \"a1.png\"))\n",
    "t2 = threading.Thread(target=download_file, args=(\"Download with thread 2\", url, \"b1.png\"))\n",
    "t3 = threading.Thread(target=download_file, args=(\"Download with thread 3\", url, \"c1.png\"))"
   ]
  },
  {
   "cell_type": "markdown",
   "id": "50073d53",
   "metadata": {},
   "source": [
    "# thread.start"
   ]
  },
  {
   "cell_type": "code",
   "execution_count": 13,
   "id": "5e12f5ee",
   "metadata": {},
   "outputs": [
    {
     "name": "stdout",
     "output_type": "stream",
     "text": [
      "Download process name started : Download with thread 1\n",
      "Download process name started : Download with thread 2\n",
      "Download process name started : Download with thread 3\n",
      "Main program done!!\n",
      "Time taken(seconds) : 0.010531187057495117\n"
     ]
    },
    {
     "name": "stdout",
     "output_type": "stream",
     "text": [
      "File downloaded successfully\n",
      "Process name completed : Download with thread 1\n",
      "File downloaded successfully\n",
      "Process name completed : Download with thread 2\n",
      "File downloaded successfully\n",
      "Process name completed : Download with thread 3\n"
     ]
    }
   ],
   "source": [
    "t1_t = time.time()\n",
    "t1.start()\n",
    "t2.start()\n",
    "t3.start()\n",
    "print(\"Main program done!!\")\n",
    "t2_t = time.time()\n",
    "print(f\"Time taken(seconds) : {t2_t-t1_t}\") \n",
    "\n",
    "# But you will see that program executes to run whole script with out waiting for the tasks to be completed and joined. \n",
    "# Henceforth, time computed to complete the task is wrongly estimated. \n",
    "# i.e. Tasks are not yet completed when time to complete is computed and printed. "
   ]
  },
  {
   "cell_type": "markdown",
   "id": "1e37af05",
   "metadata": {},
   "source": []
  },
  {
   "cell_type": "markdown",
   "id": "2c9e0748",
   "metadata": {},
   "source": [
    "# thread.join"
   ]
  },
  {
   "cell_type": "code",
   "execution_count": 17,
   "id": "d631b30b",
   "metadata": {},
   "outputs": [],
   "source": [
    "# we add this snippet of code again, since the thread can only be started once\n",
    "t1 = threading.Thread(target=download_file, args=(\"Download with thread 1\", url, \"a1.png\"))\n",
    "t2 = threading.Thread(target=download_file, args=(\"Download with thread 2\", url, \"b1.png\"))\n",
    "t3 = threading.Thread(target=download_file, args=(\"Download with thread 3\", url, \"c1.png\"))"
   ]
  },
  {
   "cell_type": "code",
   "execution_count": 18,
   "id": "bba29d41",
   "metadata": {},
   "outputs": [
    {
     "name": "stdout",
     "output_type": "stream",
     "text": [
      "Download process name started : Download with thread 1\n",
      "Download process name started : Download with thread 2\n",
      "Download process name started : Download with thread 3\n",
      "File downloaded successfully\n",
      "Process name completed : Download with thread 2\n",
      "File downloaded successfully\n",
      "Process name completed : Download with thread 1\n",
      "File downloaded successfully\n",
      "Process name completed : Download with thread 3\n",
      "Main program done!!\n",
      "Time taken(seconds) : 1.3234233856201172\n"
     ]
    }
   ],
   "source": [
    "t1_t = time.time()\n",
    "t1.start()\n",
    "t2.start()\n",
    "t3.start()\n",
    "\n",
    "t1.join()\n",
    "t2.join()\n",
    "t3.join()\n",
    "\n",
    "print(\"Main program done!!\")\n",
    "t2_t = time.time()\n",
    "print(f\"Time taken(seconds) : {t2_t-t1_t}\")"
   ]
  },
  {
   "cell_type": "code",
   "execution_count": null,
   "id": "cf3c7aa7",
   "metadata": {},
   "outputs": [],
   "source": [
    "# Time taken to complete the three tasks without threading: 4.422521591186523\n",
    "# Time taken to complete the three tasks with    threading: 1.3234233856201172\n",
    "\n",
    "# Threading lets complete the tasks faster"
   ]
  },
  {
   "cell_type": "code",
   "execution_count": null,
   "id": "3a7ac716",
   "metadata": {},
   "outputs": [],
   "source": []
  }
 ],
 "metadata": {
  "kernelspec": {
   "display_name": "Python 3",
   "language": "python",
   "name": "python3"
  },
  "language_info": {
   "codemirror_mode": {
    "name": "ipython",
    "version": 3
   },
   "file_extension": ".py",
   "mimetype": "text/x-python",
   "name": "python",
   "nbconvert_exporter": "python",
   "pygments_lexer": "ipython3",
   "version": "3.12.0"
  }
 },
 "nbformat": 4,
 "nbformat_minor": 5
}
