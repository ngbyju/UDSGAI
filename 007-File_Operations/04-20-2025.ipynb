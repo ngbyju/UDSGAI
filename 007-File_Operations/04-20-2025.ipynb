{
 "cells": [
  {
   "cell_type": "code",
   "execution_count": 1,
   "id": "aca289a3",
   "metadata": {},
   "outputs": [
    {
     "name": "stdout",
     "output_type": "stream",
     "text": [
      "monal\n",
      "monalk\n",
      "mona\n"
     ]
    }
   ],
   "source": [
    "a = [\"monal\", \"monalk\", \"mona\", \"krish\", \"mayank\"]\n",
    "\n",
    "for name in a:\n",
    "    if \"mon\" in name:\n",
    "        print(name)\n",
    "\n"
   ]
  },
  {
   "cell_type": "code",
   "execution_count": 2,
   "id": "92503e41",
   "metadata": {},
   "outputs": [
    {
     "name": "stdout",
     "output_type": "stream",
     "text": [
      "monalk\n"
     ]
    }
   ],
   "source": [
    "for name in a:\n",
    "    if \"monalk\" in name:\n",
    "        print(name)"
   ]
  },
  {
   "cell_type": "code",
   "execution_count": 7,
   "id": "f38ae6cd",
   "metadata": {},
   "outputs": [
    {
     "name": "stdout",
     "output_type": "stream",
     "text": [
      "monal\n",
      "MONAL\n",
      "Monal\n"
     ]
    }
   ],
   "source": [
    "b = \"MONAL\"\n",
    "print(b.lower())\n",
    "print(b.upper())\n",
    "print(b.title())"
   ]
  },
  {
   "cell_type": "code",
   "execution_count": 8,
   "id": "da6ea48b",
   "metadata": {},
   "outputs": [
    {
     "name": "stdout",
     "output_type": "stream",
     "text": [
      "monalk\n"
     ]
    }
   ],
   "source": [
    "for name in a:\n",
    "    if \"monalk\" in name.lower():\n",
    "        print(name)"
   ]
  },
  {
   "cell_type": "code",
   "execution_count": 9,
   "id": "be6a06d5",
   "metadata": {},
   "outputs": [
    {
     "name": "stdout",
     "output_type": "stream",
     "text": [
      "monal\n",
      "MONAL\n",
      "mOnAL\n"
     ]
    }
   ],
   "source": [
    "a = [\"monal\", \"MONAL\", \"mOnAL\", \"krish\", \"mayank\"]\n",
    "\n",
    "for name in a:\n",
    "    if \"mon\" in name.lower():\n",
    "        print(name)"
   ]
  },
  {
   "cell_type": "code",
   "execution_count": 14,
   "id": "f7c4a921",
   "metadata": {},
   "outputs": [
    {
     "data": {
      "text/plain": [
       "'c:\\\\Users\\\\Byju\\\\Dropbox\\\\KNA\\\\UDSGAI\\\\007-File_Operations'"
      ]
     },
     "execution_count": 14,
     "metadata": {},
     "output_type": "execute_result"
    }
   ],
   "source": [
    "import os\n",
    "os.getcwd()"
   ]
  },
  {
   "cell_type": "code",
   "execution_count": 11,
   "id": "5dda2001",
   "metadata": {},
   "outputs": [
    {
     "data": {
      "text/plain": [
       "['001-Python Basics',\n",
       " '002-Operators',\n",
       " '003-Conditional_Statements',\n",
       " '004-AdvancedDataTypes',\n",
       " '005-AdvancedDataTypes_and_Loops',\n",
       " '006-Loops_and_Functions',\n",
       " '007-File_Operations',\n",
       " 'app.py',\n",
       " 'environment_name',\n",
       " 'requirements.txt',\n",
       " 'venv']"
      ]
     },
     "execution_count": 11,
     "metadata": {},
     "output_type": "execute_result"
    }
   ],
   "source": [
    "os.listdir(\"C:/Users/Byju/Dropbox/KNA/UDSGAI\")"
   ]
  },
  {
   "cell_type": "code",
   "execution_count": 12,
   "id": "30110cd5",
   "metadata": {},
   "outputs": [
    {
     "data": {
      "text/plain": [
       "['001-Python Basics',\n",
       " '002-Operators',\n",
       " '003-Conditional_Statements',\n",
       " '004-AdvancedDataTypes',\n",
       " '005-AdvancedDataTypes_and_Loops',\n",
       " '006-Loops_and_Functions',\n",
       " '007-File_Operations',\n",
       " 'app.py',\n",
       " 'environment_name',\n",
       " 'requirements.txt',\n",
       " 'venv']"
      ]
     },
     "execution_count": 12,
     "metadata": {},
     "output_type": "execute_result"
    }
   ],
   "source": [
    "os.listdir(r\"C:\\\\Users\\\\Byju\\\\Dropbox\\\\KNA\\\\UDSGAI\")"
   ]
  },
  {
   "cell_type": "code",
   "execution_count": 13,
   "id": "0202df96",
   "metadata": {},
   "outputs": [
    {
     "data": {
      "text/plain": [
       "['001-Python Basics',\n",
       " '002-Operators',\n",
       " '003-Conditional_Statements',\n",
       " '004-AdvancedDataTypes',\n",
       " '005-AdvancedDataTypes_and_Loops',\n",
       " '006-Loops_and_Functions',\n",
       " '007-File_Operations',\n",
       " 'app.py',\n",
       " 'environment_name',\n",
       " 'requirements.txt',\n",
       " 'venv']"
      ]
     },
     "execution_count": 13,
     "metadata": {},
     "output_type": "execute_result"
    }
   ],
   "source": [
    "os.listdir(\"C:\\\\Users\\\\Byju\\\\Dropbox\\\\KNA\\\\UDSGAI\")"
   ]
  },
  {
   "cell_type": "code",
   "execution_count": 16,
   "id": "750cabfa",
   "metadata": {},
   "outputs": [
    {
     "data": {
      "text/plain": [
       "'c:\\\\Users\\\\Byju\\\\Dropbox\\\\KNA\\\\UDSGAI\\\\007-File_Operations\\\\testing.txt'"
      ]
     },
     "execution_count": 16,
     "metadata": {},
     "output_type": "execute_result"
    }
   ],
   "source": [
    "os.path.join(os.getcwd(), 'testing.txt')"
   ]
  },
  {
   "cell_type": "code",
   "execution_count": 19,
   "id": "6f483029",
   "metadata": {},
   "outputs": [
    {
     "data": {
      "text/plain": [
       "'c:\\\\Users\\\\Byju\\\\Dropbox\\\\KNA\\\\UDSGAI\\\\007-File_Operations\\\\testing1\\\\abc'"
      ]
     },
     "execution_count": 19,
     "metadata": {},
     "output_type": "execute_result"
    }
   ],
   "source": [
    "os.path.join(os.getcwd(), 'testing1', \"abc\")"
   ]
  },
  {
   "cell_type": "code",
   "execution_count": 29,
   "id": "bb0fdbc5",
   "metadata": {},
   "outputs": [
    {
     "data": {
      "text/plain": [
       "'c:\\\\Users\\\\Byju\\\\Dropbox\\\\KNA\\\\UDSGAI\\\\007-File_Operations'"
      ]
     },
     "execution_count": 29,
     "metadata": {},
     "output_type": "execute_result"
    }
   ],
   "source": [
    "os.getcwd()"
   ]
  },
  {
   "cell_type": "code",
   "execution_count": null,
   "id": "43e68121",
   "metadata": {},
   "outputs": [
    {
     "name": "stdout",
     "output_type": "stream",
     "text": [
      "Byju Govindan is in here.\n"
     ]
    }
   ],
   "source": [
    "full_path = os.path.join(os.getcwd(), \"test.txt\")\n",
    "# file = open(\"test.txt\")\n",
    "# file = open(\"./test.txt\")  # . means current directory\n",
    "file = open(full_path)\n",
    "content = file.read() # read all the conntents of the file\n",
    "print(content)"
   ]
  },
  {
   "cell_type": "code",
   "execution_count": null,
   "id": "a746a1dc",
   "metadata": {},
   "outputs": [],
   "source": [
    "# A full path (or absolute path) and a relative path are ways of defining the location of a file or directory in a file system. Here’s the difference:\n",
    "# Full Path (Absolute Path)\n",
    "\n",
    "# A full path provides the complete address to a file or directory starting from the root directory. It doesn't depend on the current working directory (the location where your program is running). For example:\n",
    "\n",
    "full_path = os.path.join(os.getcwd(), \"test.txt\")\n",
    "\n",
    "\n",
    "# Here, os.getcwd() gets the absolute path of the current working directory, and \"test.txt\" is added to it. This ensures that no matter where your program is executed, full_path gives the complete location of the file (e.g., C:\\Users\\Byju\\Documents\\test.txt).\n",
    "# Relative Path\n",
    "\n",
    "# A relative path provides the location of a file or directory relative to the current working directory. It depends on where your program is running. For example:\n",
    "\n",
    "\n",
    "file = open(\"test.txt\")\n",
    "\n",
    "# Here, \"test.txt\" is interpreted as being in the current working directory.\n",
    "\n",
    "# You can also use ./ to explicitly refer to the current directory:\n"
   ]
  },
  {
   "cell_type": "code",
   "execution_count": null,
   "id": "a032fba2",
   "metadata": {},
   "outputs": [
    {
     "name": "stdout",
     "output_type": "stream",
     "text": [
      "c:\\Users\\Byju\\work.txt\n"
     ]
    }
   ],
   "source": [
    "# work_dir = \"c:\\Users\\Byju\"  # does not work with out r\n",
    "work_dir = r\"c:\\Users\\Byju\"\n",
    "file_name = \"work.txt\"\n",
    "full_path = os.path.join(work_dir, file_name)\n",
    "print(full_path)"
   ]
  },
  {
   "cell_type": "code",
   "execution_count": 28,
   "id": "3a1b8c63",
   "metadata": {},
   "outputs": [
    {
     "name": "stdout",
     "output_type": "stream",
     "text": [
      "c:\\Users\\Byju\\work.txt\n"
     ]
    }
   ],
   "source": [
    "work_dir = \"c:\\\\Users\\\\Byju\"\n",
    "file_name = \"work.txt\"\n",
    "full_path = os.path.join(work_dir, file_name)\n",
    "print(full_path)\n"
   ]
  },
  {
   "cell_type": "code",
   "execution_count": null,
   "id": "af936a30",
   "metadata": {},
   "outputs": [
    {
     "name": "stdout",
     "output_type": "stream",
     "text": [
      "c:\\Users\\Byju\\Dropbox\\KNA\\UDSGAI\\007-File_Operations\\test.txt\n"
     ]
    }
   ],
   "source": [
    "# More cleaner code\n",
    "\n",
    "file_name = \"test.txt\"\n",
    "cwd = os.getcwd()\n",
    "full_file_path = os.path.join(cwd, file_name)\n",
    "print(full_file_path)"
   ]
  },
  {
   "cell_type": "code",
   "execution_count": null,
   "id": "dd395065",
   "metadata": {},
   "outputs": [
    {
     "name": "stdout",
     "output_type": "stream",
     "text": [
      "Byju Govindan is in here.\n",
      "Polygon’s staff consistently keeps up with new movies, watching them as they are released and adding to this list with the best of the best of both theatrical and straight-to-streaming releases.\n",
      " We prioritize quality, unique artistic vision, and variety — different genres, different vibes, different approaches to the medium — to make sure every reader finds multiple options that interest them, as well as new movies they may not have heard of.\n",
      "\n"
     ]
    }
   ],
   "source": [
    "f = open(full_file_path)\n",
    "lines = f.read()  # read reads the entire content of a file as a single string\n",
    "print(lines)\n",
    "f.close()"
   ]
  },
  {
   "cell_type": "code",
   "execution_count": null,
   "id": "50da2117",
   "metadata": {},
   "outputs": [
    {
     "name": "stdout",
     "output_type": "stream",
     "text": [
      "['Byju Govindan is in here.\\n', 'Polygon’s staff consistently keeps up with new movies, watching them as they are released and adding to this list with the best of the best of both theatrical and straight-to-streaming releases.\\n', ' We prioritize quality, unique artistic vision, and variety — different genres, different vibes, different approaches to the medium — to make sure every reader finds multiple options that interest them, as well as new movies they may not have heard of.\\n']\n"
     ]
    }
   ],
   "source": [
    "f = open(full_file_path)\n",
    "lines = f.readlines()\n",
    "print(lines)\n",
    "f.close()"
   ]
  },
  {
   "cell_type": "code",
   "execution_count": null,
   "id": "6b4f8eb5",
   "metadata": {},
   "outputs": [
    {
     "name": "stdout",
     "output_type": "stream",
     "text": [
      "['Byju Govindan is in here.\\n', 'Polygon’s staff consistently keeps up with new movies, watching them as they are released and adding to this list with the best of the best of both theatrical and straight-to-streaming releases.\\n', ' We prioritize quality, unique artistic vision, and variety — different genres, different vibes, different approaches to the medium — to make sure every reader finds multiple options that interest them, as well as new movies they may not have heard of.\\n']\n"
     ]
    }
   ],
   "source": [
    "# \"with\" is a context manager and will manage closing of filing by itself\n",
    "with open(full_file_path) as f: \n",
    "    lines = f.readlines()\n",
    "    print(lines)\n",
    "    # note close() method is not explicitly called"
   ]
  },
  {
   "cell_type": "markdown",
   "id": "d76efc6f",
   "metadata": {},
   "source": [
    "# file modes\n",
    "\n"
   ]
  },
  {
   "cell_type": "code",
   "execution_count": null,
   "id": "617c930e",
   "metadata": {},
   "outputs": [],
   "source": [
    "# r - read mode\n",
    "with open(full_file_path, \"r\") as f: \n",
    "    lines = f.readlines()\n",
    "    print(lines)"
   ]
  },
  {
   "cell_type": "code",
   "execution_count": null,
   "id": "7adbecbe",
   "metadata": {},
   "outputs": [
    {
     "name": "stdout",
     "output_type": "stream",
     "text": [
      "19\n"
     ]
    }
   ],
   "source": [
    "# w - write mode\n",
    "# Writes a string to a file. You need to open the file in write mode\n",
    "# if a.txt exists, then remove all contents and adds new content to a.txt (overwrites)\n",
    "# if a.txt is not present, creates a.txt and adds new content\n",
    "with open(\"./a.txt\", \"w\") as f: \n",
    "    lines = f.write(\"Hello, how are you?\")\n",
    "    print(lines)"
   ]
  },
  {
   "cell_type": "code",
   "execution_count": 47,
   "id": "17dbb9e9",
   "metadata": {},
   "outputs": [
    {
     "name": "stdout",
     "output_type": "stream",
     "text": [
      "20\n"
     ]
    }
   ],
   "source": [
    "# with newline \\n added at the end so cursor moves to the next line\n",
    "# \n",
    "with open(\"./a.txt\", \"w\") as f: \n",
    "    lines = f.write(\"Hello, how are you?\\n\")\n",
    "    print(lines)"
   ]
  },
  {
   "cell_type": "code",
   "execution_count": 49,
   "id": "22f107fc",
   "metadata": {},
   "outputs": [],
   "source": [
    "# writelines()\n",
    "a = [\"Hello, how are you?\\n\", \"hey,     \", \"hello\"]\n",
    "with open(\"./a.txt\", \"w\") as f: \n",
    "   f.writelines(a)\n",
    "\n"
   ]
  },
  {
   "cell_type": "code",
   "execution_count": 51,
   "id": "c04c69f2",
   "metadata": {},
   "outputs": [],
   "source": [
    "# append()\n",
    "# lets revist write() first\n",
    "with open(\"./test_new.txt\", \"w\") as f: \n",
    "   f.write(\"Hello, How are you?\\n\")\n",
    "   f.write(\"Hello, How are you?\\n\")\n",
    "   f.write(\"Hello, How are you?\\n\")\n",
    "\n",
    "\n",
    "\n"
   ]
  },
  {
   "cell_type": "code",
   "execution_count": 52,
   "id": "2d44ac55",
   "metadata": {},
   "outputs": [],
   "source": [
    "with open(\"./test_new.txt\", \"a\") as f: \n",
    "   f.write(\"How is your health?\\n\")"
   ]
  },
  {
   "cell_type": "code",
   "execution_count": 71,
   "id": "a804b3e5",
   "metadata": {},
   "outputs": [],
   "source": [
    "name = input(\"Enter your name: \")\n",
    "age = input(\"Enter your age: \")\n",
    "\n",
    "with open(\"./test_dummy.txt\", \"a+\") as f: \n",
    "   a = str(id) + \",\" + name + \",\" + age + \",\" + \"\\n\"\n",
    "   f.write(a)\n",
    "id +=1"
   ]
  },
  {
   "cell_type": "code",
   "execution_count": 67,
   "id": "0022442b",
   "metadata": {},
   "outputs": [],
   "source": [
    "id =1"
   ]
  },
  {
   "cell_type": "code",
   "execution_count": null,
   "id": "9124bbef",
   "metadata": {},
   "outputs": [],
   "source": []
  },
  {
   "cell_type": "code",
   "execution_count": null,
   "id": "06b94ac5",
   "metadata": {},
   "outputs": [],
   "source": []
  },
  {
   "cell_type": "code",
   "execution_count": null,
   "id": "77ea54f7",
   "metadata": {},
   "outputs": [],
   "source": [
    "# This is Byju's notes"
   ]
  }
 ],
 "metadata": {
  "kernelspec": {
   "display_name": "Python 3",
   "language": "python",
   "name": "python3"
  },
  "language_info": {
   "codemirror_mode": {
    "name": "ipython",
    "version": 3
   },
   "file_extension": ".py",
   "mimetype": "text/x-python",
   "name": "python",
   "nbconvert_exporter": "python",
   "pygments_lexer": "ipython3",
   "version": "3.12.0"
  }
 },
 "nbformat": 4,
 "nbformat_minor": 5
}
