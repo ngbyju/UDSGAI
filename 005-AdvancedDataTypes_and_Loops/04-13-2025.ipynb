{
 "cells": [
  {
   "cell_type": "markdown",
   "metadata": {},
   "source": [
    "## Loops\n"
   ]
  },
  {
   "cell_type": "markdown",
   "metadata": {},
   "source": [
    "#Iterator:\n",
    "objects that can be iterated, eg: lists,  tuples, sets, dictionaries"
   ]
  },
  {
   "cell_type": "code",
   "execution_count": null,
   "metadata": {},
   "outputs": [],
   "source": [
    "fruits = [\"apple\", \"orange\", \"banana\"]\n",
    "iterables = iter(fruits)\n",
    "\n",
    "# fruits is a list — an iterable.\n",
    "\n",
    "# iterables = iter(fruits) creates an iterator object that you can loop through one element at a time.\n"
   ]
  },
  {
   "cell_type": "code",
   "execution_count": 5,
   "metadata": {},
   "outputs": [
    {
     "name": "stdout",
     "output_type": "stream",
     "text": [
      "apple\n",
      "orange\n",
      "banana\n"
     ]
    },
    {
     "ename": "StopIteration",
     "evalue": "",
     "output_type": "error",
     "traceback": [
      "\u001b[31m---------------------------------------------------------------------------\u001b[39m",
      "\u001b[31mStopIteration\u001b[39m                             Traceback (most recent call last)",
      "\u001b[36mCell\u001b[39m\u001b[36m \u001b[39m\u001b[32mIn[5]\u001b[39m\u001b[32m, line 4\u001b[39m\n\u001b[32m      2\u001b[39m \u001b[38;5;28mprint\u001b[39m(\u001b[38;5;28mnext\u001b[39m(iterables))  \u001b[38;5;66;03m# Output: 'orange'\u001b[39;00m\n\u001b[32m      3\u001b[39m \u001b[38;5;28mprint\u001b[39m(\u001b[38;5;28mnext\u001b[39m(iterables))  \u001b[38;5;66;03m# Output: 'banana'\u001b[39;00m\n\u001b[32m----> \u001b[39m\u001b[32m4\u001b[39m \u001b[38;5;28mprint\u001b[39m(\u001b[38;5;28;43mnext\u001b[39;49m\u001b[43m(\u001b[49m\u001b[43miterables\u001b[49m\u001b[43m)\u001b[49m)  \u001b[38;5;66;03m# ❌ Raises StopIteration (no more items)\u001b[39;00m\n",
      "\u001b[31mStopIteration\u001b[39m: "
     ]
    }
   ],
   "source": [
    "print(next(iterables))  # Output: 'apple'\n",
    "print(next(iterables))  # Output: 'orange'\n",
    "print(next(iterables))  # Output: 'banana'\n",
    "print(next(iterables))  # ❌ Raises StopIteration (no more items)\n"
   ]
  },
  {
   "cell_type": "code",
   "execution_count": 8,
   "metadata": {},
   "outputs": [
    {
     "name": "stdout",
     "output_type": "stream",
     "text": [
      "apple\n",
      "orange\n",
      "banana\n"
     ]
    }
   ],
   "source": [
    "# or loop safely:\n",
    "for fruit in fruits:\n",
    "    print(fruit)\n",
    "# That loop picks up from wherever iterables left off (not from start if you've already used next())."
   ]
  },
  {
   "cell_type": "code",
   "execution_count": 12,
   "metadata": {},
   "outputs": [
    {
     "name": "stdout",
     "output_type": "stream",
     "text": [
      "Traversing started\n",
      "apple\n",
      "orange\n",
      "banana\n",
      "Traversing completed\n",
      "banana\n"
     ]
    }
   ],
   "source": [
    "print(\"Traversing started\")\n",
    "for fruit in fruits:\n",
    "    print (fruit)\n",
    "print(\"Traversing completed\")\n",
    "print(fruit)"
   ]
  },
  {
   "cell_type": "code",
   "execution_count": 13,
   "metadata": {},
   "outputs": [
    {
     "name": "stdout",
     "output_type": "stream",
     "text": [
      "2\n",
      "4\n",
      "6\n",
      "8\n",
      "10\n",
      "12\n",
      "14\n",
      "16\n",
      "18\n",
      "20\n"
     ]
    }
   ],
   "source": [
    "table_till =[1,2,3,4,5,6,7,8,9,10]\n",
    "for i in table_till:\n",
    "    print(2*i)\n",
    "    "
   ]
  },
  {
   "cell_type": "markdown",
   "metadata": {},
   "source": [
    "#### 🧺 fruits is an iterable\n",
    "#### An iterable is any object that you can loop over with a for loop.\n",
    "\n",
    "#### Lists, tuples, strings, sets, and dictionaries are all iterables.\n",
    "\n",
    "#### Behind the scenes, Python calls iter(fruits) to get an iterator.\n",
    "\n",
    "#### fruits = [\"apple\", \"grapes\", \"pear\"]  # ✅ This is the iterable\n",
    "#### 🔄 iterator is what iter(fruits) returns\n",
    "#### An iterator is an object that keeps track of where it is in a #### sequence.\n",
    "\n",
    "#### It has a method __next__() that returns the next item and raises #### StopIteration when done.\n",
    "\n",
    "\n",
    "#### iter_obj = iter(fruits)  # ✅ This is the iterator\n",
    "\n",
    "#### print(next(iter_obj))  # 'apple'\n",
    "#### print(next(iter_obj))  # 'grapes'\n",
    "#### print(next(iter_obj))  # 'pear'\n",
    "#### 🧠 In your for loop:\n",
    "\n",
    "#### for fruit in fruits:\n",
    "####    print(fruit)\n",
    "#### Here’s what actually happens behind the scenes:\n",
    "\n",
    "#### Python calls iter(fruits) — creates an iterator.\n",
    "\n",
    "#### It repeatedly calls next() on that iterator until it’s exhausted.\n",
    "\n",
    "#### Each item is assigned to fruit, and print(fruit) runs."
   ]
  },
  {
   "cell_type": "code",
   "execution_count": 14,
   "metadata": {},
   "outputs": [
    {
     "name": "stdout",
     "output_type": "stream",
     "text": [
      "1\n",
      "2\n",
      "3\n",
      "4\n",
      "5\n",
      "6\n",
      "7\n",
      "8\n",
      "9\n",
      "10\n"
     ]
    }
   ],
   "source": [
    "for i in range(1, 11, 1):\n",
    "    print(i)"
   ]
  },
  {
   "cell_type": "code",
   "execution_count": 20,
   "metadata": {},
   "outputs": [
    {
     "name": "stdout",
     "output_type": "stream",
     "text": [
      "0\n",
      "1\n",
      "2\n",
      "3\n",
      "4\n",
      "5\n",
      "6\n",
      "7\n",
      "8\n",
      "9\n"
     ]
    }
   ],
   "source": [
    "for i in range(10):\n",
    "    print(i)\n",
    "    #0 is by default start\n",
    "    #step size is 1 by default\n"
   ]
  },
  {
   "cell_type": "code",
   "execution_count": 21,
   "metadata": {},
   "outputs": [
    {
     "name": "stdout",
     "output_type": "stream",
     "text": [
      "5\n",
      "10\n",
      "15\n",
      "20\n",
      "25\n",
      "30\n",
      "35\n",
      "40\n",
      "45\n",
      "50\n"
     ]
    }
   ],
   "source": [
    "for i in range(5, 51, 5):\n",
    "    print(i)"
   ]
  },
  {
   "cell_type": "code",
   "execution_count": null,
   "metadata": {},
   "outputs": [
    {
     "name": "stdout",
     "output_type": "stream",
     "text": [
      "hello\n",
      "hello\n",
      "hello\n",
      "hello\n",
      "hello\n",
      "hello\n"
     ]
    }
   ],
   "source": [
    "for i in 1, 3, 4, 5, 7, 10:\n",
    "    print(\"hello\")"
   ]
  },
  {
   "cell_type": "code",
   "execution_count": 32,
   "metadata": {},
   "outputs": [
    {
     "name": "stdout",
     "output_type": "stream",
     "text": [
      "{1: ['monal', 'india'], 2: ['lucas', 'brazil'], 3: ['anas', 'dubai'], 4: ['riyan', 'sharjah']}\n",
      "dict_keys([1, 2, 3, 4])\n",
      "dict_values([['monal', 'india'], ['lucas', 'brazil'], ['anas', 'dubai'], ['riyan', 'sharjah']])\n"
     ]
    }
   ],
   "source": [
    "emp_details = {1: [\"monal\", \"india\"],\n",
    "               2: [\"lucas\", \"brazil\"],\n",
    "               3: [\"anas\", \"dubai\"],\n",
    "               4: [\"riyan\", \"sharjah\"]}\n",
    "print(emp_details)\n",
    "print(emp_details.keys())\n",
    "print(emp_details.values())"
   ]
  },
  {
   "cell_type": "code",
   "execution_count": 24,
   "metadata": {},
   "outputs": [
    {
     "name": "stdout",
     "output_type": "stream",
     "text": [
      "['monal', 'india']\n",
      "['lucas', 'brazil']\n",
      "['anas', 'dubai']\n",
      "['riyan', 'sharjah']\n"
     ]
    }
   ],
   "source": [
    "for key in emp_details.keys():\n",
    "    print(emp_details[key])"
   ]
  },
  {
   "cell_type": "code",
   "execution_count": 25,
   "metadata": {},
   "outputs": [
    {
     "name": "stdout",
     "output_type": "stream",
     "text": [
      "hello\n"
     ]
    }
   ],
   "source": [
    "print(\"hello\")"
   ]
  },
  {
   "cell_type": "code",
   "execution_count": null,
   "metadata": {},
   "outputs": [
    {
     "name": "stdout",
     "output_type": "stream",
     "text": [
      "hello hi\n"
     ]
    }
   ],
   "source": [
    "print(\"hello\", \"hi\")"
   ]
  },
  {
   "cell_type": "code",
   "execution_count": null,
   "metadata": {},
   "outputs": [
    {
     "name": "stdout",
     "output_type": "stream",
     "text": [
      "hello hi"
     ]
    }
   ],
   "source": [
    "print(\"hello\", \"hi\", end=\"\") # by default separator is space"
   ]
  },
  {
   "cell_type": "code",
   "execution_count": 28,
   "metadata": {},
   "outputs": [
    {
     "name": "stdout",
     "output_type": "stream",
     "text": [
      "hello    "
     ]
    }
   ],
   "source": [
    "print(\"hello\", end =\"    \")"
   ]
  },
  {
   "cell_type": "code",
   "execution_count": 35,
   "metadata": {},
   "outputs": [
    {
     "name": "stdout",
     "output_type": "stream",
     "text": [
      "hello hi\t"
     ]
    }
   ],
   "source": [
    "print(\"hello\", \"hi\", end=\"\\t\")"
   ]
  },
  {
   "cell_type": "code",
   "execution_count": null,
   "metadata": {},
   "outputs": [
    {
     "name": "stdout",
     "output_type": "stream",
     "text": [
      "hello hi 1 2\n",
      "hi\n",
      "hi\n"
     ]
    }
   ],
   "source": [
    "print(\"hello\",\"hi\", \"1\", \"2\") \n",
    "print(\"hi\") # by default, cursor goes to new line\n",
    "print(\"hi\")"
   ]
  },
  {
   "cell_type": "code",
   "execution_count": null,
   "metadata": {},
   "outputs": [
    {
     "name": "stdout",
     "output_type": "stream",
     "text": [
      "hello hi 1 2hi\n",
      "hi\n"
     ]
    }
   ],
   "source": [
    "print(\"hello\",\"hi\", \"1\", \"2\", end=\"\")  \n",
    "print(\"hi\") # end=\"\" means cursor stays at the end of first line\n",
    "print(\"hi\")"
   ]
  },
  {
   "cell_type": "code",
   "execution_count": null,
   "metadata": {},
   "outputs": [
    {
     "name": "stdout",
     "output_type": "stream",
     "text": [
      "hello\n",
      "hi\n"
     ]
    }
   ],
   "source": [
    "#  If you want to print \"hello\" and then \"hi\" using end:\n",
    "print(\"hello\", end='\\n')  # Ends with newline (default behavior)\n",
    "print(\"hi\")\n"
   ]
  },
  {
   "cell_type": "code",
   "execution_count": 31,
   "metadata": {},
   "outputs": [
    {
     "name": "stdout",
     "output_type": "stream",
     "text": [
      "hello hi!"
     ]
    }
   ],
   "source": [
    "# If you want both words in one print() call, with a custom end:\n",
    "print(\"hello\", \"hi\", end='!')  # Output: hello hi!"
   ]
  },
  {
   "cell_type": "code",
   "execution_count": null,
   "metadata": {},
   "outputs": [],
   "source": [
    "# Rule of thumb:\n",
    "# All positional arguments (like \"hello\", \"hi\") must come before keyword arguments like end=.\n",
    "\n",
    "# print() syntax:\n",
    "\n",
    "# print(*objects, sep=' ', end='\\n', file=sys.stdout, flush=False)"
   ]
  },
  {
   "cell_type": "markdown",
   "metadata": {},
   "source": [
    "##### star problem statement\n",
    "##### Write a Python program that takes an integer n as input and #### prints a right-angled triangle of stars like this:\n",
    "\n",
    "##### If n = 5, output should be:\n",
    "\n",
    "*\n",
    "**\n",
    "***\n",
    "****\n",
    "*****\n"
   ]
  },
  {
   "cell_type": "code",
   "execution_count": 33,
   "metadata": {},
   "outputs": [
    {
     "name": "stdout",
     "output_type": "stream",
     "text": [
      "*\n",
      "**\n",
      "***\n",
      "****\n",
      "*****\n"
     ]
    }
   ],
   "source": [
    "n = int(input(\"Enter number of rows: \"))\n",
    "\n",
    "for i in range(1, n + 1):\n",
    "    print(\"*\" * i)\n"
   ]
  },
  {
   "cell_type": "code",
   "execution_count": 40,
   "metadata": {},
   "outputs": [
    {
     "name": "stdout",
     "output_type": "stream",
     "text": [
      "*****\n",
      "****\n",
      "***\n",
      "**\n",
      "*\n"
     ]
    }
   ],
   "source": [
    "# Inverted Right-Angled Triangle\n",
    "\n",
    "n = int(input(\"Enter number of rows: \"))\n",
    "\n",
    "for i in range(n, 0, -1):\n",
    "    print(\"*\" * i)"
   ]
  },
  {
   "cell_type": "code",
   "execution_count": 41,
   "metadata": {},
   "outputs": [
    {
     "name": "stdout",
     "output_type": "stream",
     "text": [
      "    *\n",
      "   **\n",
      "  ***\n",
      " ****\n",
      "*****\n"
     ]
    }
   ],
   "source": [
    "n = int(input(\"Enter number of rows: \"))\n",
    "\n",
    "for i in range(1, n + 1):\n",
    "    print(\" \" * (n - i) + \"*\" * i)\n"
   ]
  },
  {
   "cell_type": "markdown",
   "metadata": {},
   "source": []
  },
  {
   "cell_type": "code",
   "execution_count": 43,
   "metadata": {},
   "outputs": [
    {
     "name": "stdout",
     "output_type": "stream",
     "text": [
      "    *\n",
      "   ***\n",
      "  *****\n",
      " *******\n",
      "*********\n"
     ]
    }
   ],
   "source": [
    "#pyramid pattern\n",
    "n = int(input(\"Enter number of rows: \"))\n",
    "\n",
    "for i in range(1, n + 1):\n",
    "    spaces = \" \" * (n - i)\n",
    "    stars = \"*\" * (2 * i - 1)\n",
    "    print(spaces + stars)\n",
    "\n"
   ]
  },
  {
   "cell_type": "code",
   "execution_count": 44,
   "metadata": {},
   "outputs": [
    {
     "name": "stdout",
     "output_type": "stream",
     "text": [
      "    *\n",
      "   ***\n",
      "  *****\n",
      " *******\n",
      "*********\n",
      " *******\n",
      "  *****\n",
      "   ***\n",
      "    *\n"
     ]
    }
   ],
   "source": [
    "#diamond pattern\n",
    "n = int(input(\"Enter number of rows (for half): \"))\n",
    "\n",
    "# Top half (pyramid)\n",
    "for i in range(1, n + 1):\n",
    "    spaces = \" \" * (n - i)\n",
    "    stars = \"*\" * (2 * i - 1)\n",
    "    print(spaces + stars)\n",
    "\n",
    "# Bottom half (inverted pyramid)\n",
    "for i in range(n - 1, 0, -1):\n",
    "    spaces = \" \" * (n - i)\n",
    "    stars = \"*\" * (2 * i - 1)\n",
    "    print(spaces + stars)\n"
   ]
  },
  {
   "cell_type": "markdown",
   "metadata": {},
   "source": [
    "💎 Diamond Pattern with Name or Emoji Instead of Stars\n",
    "We'll:\n",
    "\n",
    "Ask the user to input a name or emoji (e.g., \"⭐\" or \"Monal\").\n",
    "\n",
    "Replace stars with that input.\n",
    "\n",
    "Center everything for symmetry."
   ]
  },
  {
   "cell_type": "code",
   "execution_count": 46,
   "metadata": {},
   "outputs": [
    {
     "name": "stdout",
     "output_type": "stream",
     "text": [
      "      💎\n",
      "     💎 💎 💎\n",
      "    💎 💎 💎 💎 💎\n",
      "   💎 💎 💎 💎 💎 💎 💎\n",
      "  💎 💎 💎 💎 💎 💎 💎 💎 💎\n",
      " 💎 💎 💎 💎 💎 💎 💎 💎 💎 💎 💎\n",
      "💎 💎 💎 💎 💎 💎 💎 💎 💎 💎 💎 💎 💎\n",
      " 💎 💎 💎 💎 💎 💎 💎 💎 💎 💎 💎\n",
      "  💎 💎 💎 💎 💎 💎 💎 💎 💎\n",
      "   💎 💎 💎 💎 💎 💎 💎\n",
      "    💎 💎 💎 💎 💎\n",
      "     💎 💎 💎\n",
      "      💎\n"
     ]
    }
   ],
   "source": [
    "name = input(\"Enter a name or emoji to use in the pattern: \")\n",
    "n = int(input(\"Enter number of rows (for half of the diamond): \"))\n",
    "# for example, copy and paste 💎 as name input\n",
    "# for example, enter n = 7\n",
    "\n",
    "# Top half\n",
    "for i in range(1, n + 1):\n",
    "    spaces = \" \" * (n - i)\n",
    "    symbols = (name + \" \") * (2 * i - 1)\n",
    "    print(spaces + symbols.strip())\n",
    "\n",
    "# Bottom half\n",
    "for i in range(n - 1, 0, -1):\n",
    "    spaces = \" \" * (n - i)\n",
    "    symbols = (name + \" \") * (2 * i - 1)\n",
    "    print(spaces + symbols.strip())\n"
   ]
  },
  {
   "cell_type": "code",
   "execution_count": null,
   "metadata": {},
   "outputs": [
    {
     "name": "stdout",
     "output_type": "stream",
     "text": [
      "Student ID: 1\n",
      "Student ID: 2\n",
      "Student ID: 3\n",
      "Student ID: 4\n",
      "Student ID: 5\n",
      "Student ID: 7\n",
      "Student ID: 8\n",
      "Student ID: 9\n",
      "Student ID: 10\n"
     ]
    }
   ],
   "source": [
    "student_id =6\n",
    "for i in range(1, 11, 1):\n",
    "    if i ==student_id:\n",
    "        continue   ## skips printing student id 6\n",
    "    print(\"Student ID:\", i)\n",
    "    "
   ]
  },
  {
   "cell_type": "code",
   "execution_count": null,
   "metadata": {},
   "outputs": [
    {
     "name": "stdout",
     "output_type": "stream",
     "text": [
      "Student ID: 1\n",
      "Student ID: 2\n",
      "Student ID: 3\n",
      "Student ID: 4\n",
      "Student ID: 5\n",
      "Student ID: 7\n",
      "Student ID: 8\n",
      "Student ID: 9\n"
     ]
    }
   ],
   "source": [
    "student_id =6\n",
    "for i in range(1, 20, 1):\n",
    "    if i ==student_id:\n",
    "        continue   # skips printing student id 6\n",
    "    if i >=10:\n",
    "        break  # exits loop when student id is >=10\n",
    "    print(\"Student ID:\", i)"
   ]
  },
  {
   "cell_type": "code",
   "execution_count": null,
   "metadata": {},
   "outputs": [],
   "source": [
    "#### Basic Syntax:\n",
    "\n",
    "while condition:\n",
    "    # code block to repeat\n",
    "# The loop keeps running until condition becomes False.\n",
    "\n",
    "# If the condition is never false, you get an infinite loop (unless broken manually).\n",
    "\n"
   ]
  },
  {
   "cell_type": "code",
   "execution_count": 47,
   "metadata": {},
   "outputs": [
    {
     "name": "stdout",
     "output_type": "stream",
     "text": [
      "1\n",
      "2\n",
      "3\n",
      "4\n",
      "5\n"
     ]
    }
   ],
   "source": [
    "i = 1\n",
    "while i <= 5:\n",
    "    print(i)\n",
    "    i += 1\n"
   ]
  },
  {
   "cell_type": "code",
   "execution_count": 52,
   "metadata": {},
   "outputs": [
    {
     "name": "stdout",
     "output_type": "stream",
     "text": [
      "1\n",
      "2\n",
      "3\n",
      "4\n",
      "5\n",
      "7\n",
      "8\n",
      "9\n"
     ]
    }
   ],
   "source": [
    "i = 0\n",
    "student_id = 6\n",
    "while True:\n",
    "    i += 1\n",
    "    if i == student_id:\n",
    "        continue  # skips printing 6\n",
    "    if i >= 10:\n",
    "        break     # exits loop\n",
    "    print(i)\n"
   ]
  },
  {
   "cell_type": "markdown",
   "metadata": {},
   "source": []
  },
  {
   "cell_type": "code",
   "execution_count": 49,
   "metadata": {},
   "outputs": [
    {
     "name": "stdout",
     "output_type": "stream",
     "text": [
      "*\n",
      "**\n",
      "***\n",
      "****\n",
      "*****\n"
     ]
    }
   ],
   "source": [
    "# Right-Angled Triangle of Stars\n",
    "# n = int(input(\"Enter number of rows: \"))\n",
    "i = 1\n",
    "\n",
    "while i <= n:\n",
    "    print(\"*\" * i)\n",
    "    i += 1\n"
   ]
  },
  {
   "cell_type": "code",
   "execution_count": null,
   "metadata": {},
   "outputs": [
    {
     "name": "stdout",
     "output_type": "stream",
     "text": [
      "*****\n",
      "****\n",
      "***\n",
      "**\n",
      "*\n"
     ]
    }
   ],
   "source": [
    "# Inverted Right-Angled Triangle of Stars\n",
    "n = int(input(\"Enter number of rows: \"))\n",
    "#i = 1\n",
    "\n",
    "while n > 0:\n",
    "    print(\"*\" * n)\n",
    "    n -= 1"
   ]
  },
  {
   "cell_type": "code",
   "execution_count": 58,
   "metadata": {},
   "outputs": [
    {
     "name": "stdout",
     "output_type": "stream",
     "text": [
      "    *\n",
      "   **\n",
      "  ***\n",
      " ****\n",
      "*****\n"
     ]
    }
   ],
   "source": [
    "# Right-aligned triangle of stars\n",
    "n = int(input(\"Enter number of rows: \"))\n",
    "i = 1\n",
    "\n",
    "while i <= n:\n",
    "    print(\" \" * (n - i) + \"*\" * i)\n",
    "    i += 1\n"
   ]
  },
  {
   "cell_type": "code",
   "execution_count": null,
   "metadata": {},
   "outputs": [],
   "source": []
  }
 ],
 "metadata": {
  "kernelspec": {
   "display_name": "Python 3",
   "language": "python",
   "name": "python3"
  },
  "language_info": {
   "codemirror_mode": {
    "name": "ipython",
    "version": 3
   },
   "file_extension": ".py",
   "mimetype": "text/x-python",
   "name": "python",
   "nbconvert_exporter": "python",
   "pygments_lexer": "ipython3",
   "version": "3.12.0"
  }
 },
 "nbformat": 4,
 "nbformat_minor": 2
}
