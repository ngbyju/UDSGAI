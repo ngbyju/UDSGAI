{
 "cells": [
  {
   "cell_type": "code",
   "execution_count": 1,
   "metadata": {},
   "outputs": [
    {
     "name": "stdout",
     "output_type": "stream",
     "text": [
      "3\n"
     ]
    }
   ],
   "source": [
    "a = 3  # define variable a and print\n",
    "print(a)"
   ]
  },
  {
   "cell_type": "code",
   "execution_count": null,
   "metadata": {},
   "outputs": [
    {
     "data": {
      "text/plain": [
       "140709119937016"
      ]
     },
     "execution_count": 2,
     "metadata": {},
     "output_type": "execute_result"
    }
   ],
   "source": [
    "id(a) # id(a) returns the unique identifier (memory address) of the object a as an integer."
   ]
  },
  {
   "cell_type": "code",
   "execution_count": null,
   "metadata": {},
   "outputs": [
    {
     "data": {
      "text/plain": [
       "'0x7ff9651c49f8'"
      ]
     },
     "execution_count": 3,
     "metadata": {},
     "output_type": "execute_result"
    }
   ],
   "source": [
    "hex(id(a)) # converts the integer memory address into a hexadecimal format (which is how memory addresses are typically represented):\n",
    "# ahexadecimal ddress location where the value of a is stored"
   ]
  },
  {
   "cell_type": "code",
   "execution_count": 4,
   "metadata": {},
   "outputs": [
    {
     "name": "stdout",
     "output_type": "stream",
     "text": [
      "4\n"
     ]
    }
   ],
   "source": [
    "a = a+ 1\n",
    "print(a)"
   ]
  },
  {
   "cell_type": "code",
   "execution_count": null,
   "metadata": {},
   "outputs": [
    {
     "data": {
      "text/plain": [
       "140709119937048"
      ]
     },
     "execution_count": 5,
     "metadata": {},
     "output_type": "execute_result"
    }
   ],
   "source": [
    "id(a) # Unique identifier (memory address) of the object a as an integer is changed. \n",
    "# a is pointing to a different location now\n",
    "# python removes unused memory (previous memory location of a), called garbage collection"
   ]
  },
  {
   "cell_type": "code",
   "execution_count": null,
   "metadata": {},
   "outputs": [
    {
     "data": {
      "text/plain": [
       "'0x7ff9651c4a18'"
      ]
     },
     "execution_count": 6,
     "metadata": {},
     "output_type": "execute_result"
    }
   ],
   "source": [
    "hex(id(a)) # converts the integer memory address into a hexadecimal format (which is how memory addresses are typically represented):"
   ]
  },
  {
   "cell_type": "code",
   "execution_count": null,
   "metadata": {},
   "outputs": [],
   "source": [
    "# so integer (in this example, the variable a) is immutable"
   ]
  },
  {
   "cell_type": "code",
   "execution_count": 10,
   "metadata": {},
   "outputs": [
    {
     "name": "stdout",
     "output_type": "stream",
     "text": [
      "['a', 'b', 'c', '1', '2']\n"
     ]
    }
   ],
   "source": [
    "list1 =[\"a\", \"b\", \"c\", \"1\", \"2\"]\n",
    "print(list1)"
   ]
  },
  {
   "cell_type": "code",
   "execution_count": 11,
   "metadata": {},
   "outputs": [
    {
     "data": {
      "text/plain": [
       "1529913376448"
      ]
     },
     "execution_count": 11,
     "metadata": {},
     "output_type": "execute_result"
    }
   ],
   "source": [
    "id(list1)"
   ]
  },
  {
   "cell_type": "code",
   "execution_count": 12,
   "metadata": {},
   "outputs": [
    {
     "data": {
      "text/plain": [
       "'0x16435f17ec0'"
      ]
     },
     "execution_count": 12,
     "metadata": {},
     "output_type": "execute_result"
    }
   ],
   "source": [
    "hex(id(list1))"
   ]
  },
  {
   "cell_type": "code",
   "execution_count": 15,
   "metadata": {},
   "outputs": [],
   "source": [
    "list1.append(\"BNG\")"
   ]
  },
  {
   "cell_type": "code",
   "execution_count": null,
   "metadata": {},
   "outputs": [
    {
     "data": {
      "text/plain": [
       "1529913376448"
      ]
     },
     "execution_count": 16,
     "metadata": {},
     "output_type": "execute_result"
    }
   ],
   "source": [
    "id(list1) # # see, address location of list1 is not changed"
   ]
  },
  {
   "cell_type": "code",
   "execution_count": null,
   "metadata": {},
   "outputs": [
    {
     "data": {
      "text/plain": [
       "'0x16435f17ec0'"
      ]
     },
     "execution_count": 17,
     "metadata": {},
     "output_type": "execute_result"
    }
   ],
   "source": [
    "hex(id(list1))  # see, hexadecimal address location of list1 is not changed\n",
    "# list is dynamic and will keep expanding its memory allocation"
   ]
  },
  {
   "cell_type": "code",
   "execution_count": null,
   "metadata": {},
   "outputs": [],
   "source": [
    "# So the list is mutable"
   ]
  },
  {
   "cell_type": "markdown",
   "metadata": {},
   "source": [
    "# Tuple"
   ]
  },
  {
   "cell_type": "code",
   "execution_count": 18,
   "metadata": {},
   "outputs": [
    {
     "name": "stdout",
     "output_type": "stream",
     "text": [
      "<class 'tuple'>\n"
     ]
    }
   ],
   "source": [
    "tuple1 = (\"Byju\", \"1234\")\n",
    "print(type(tuple1))"
   ]
  },
  {
   "cell_type": "code",
   "execution_count": 19,
   "metadata": {},
   "outputs": [
    {
     "data": {
      "text/plain": [
       "1529913431232"
      ]
     },
     "execution_count": 19,
     "metadata": {},
     "output_type": "execute_result"
    }
   ],
   "source": [
    "id(tuple1)"
   ]
  },
  {
   "cell_type": "code",
   "execution_count": 20,
   "metadata": {},
   "outputs": [
    {
     "data": {
      "text/plain": [
       "'0x16435f254c0'"
      ]
     },
     "execution_count": 20,
     "metadata": {},
     "output_type": "execute_result"
    }
   ],
   "source": [
    "hex(id(tuple1))"
   ]
  },
  {
   "cell_type": "code",
   "execution_count": null,
   "metadata": {},
   "outputs": [
    {
     "ename": "TypeError",
     "evalue": "'tuple' object does not support item assignment",
     "output_type": "error",
     "traceback": [
      "\u001b[31m---------------------------------------------------------------------------\u001b[39m",
      "\u001b[31mTypeError\u001b[39m                                 Traceback (most recent call last)",
      "\u001b[36mCell\u001b[39m\u001b[36m \u001b[39m\u001b[32mIn[21]\u001b[39m\u001b[32m, line 1\u001b[39m\n\u001b[32m----> \u001b[39m\u001b[32m1\u001b[39m \u001b[43mtuple1\u001b[49m\u001b[43m[\u001b[49m\u001b[32;43m0\u001b[39;49m\u001b[43m]\u001b[49m = \u001b[33m\"\u001b[39m\u001b[33mC\u001b[39m\u001b[33m\"\u001b[39m  \u001b[38;5;66;03m# ❌ This will raise: TypeError: 'tuple' object does not support item assignment\u001b[39;00m\n\u001b[32m      2\u001b[39m tuple1 += (\u001b[33m\"\u001b[39m\u001b[33mnew\u001b[39m\u001b[33m\"\u001b[39m,)  \u001b[38;5;66;03m# ✅ Creates a new tuple, not modifying the original\u001b[39;00m\n",
      "\u001b[31mTypeError\u001b[39m: 'tuple' object does not support item assignment"
     ]
    }
   ],
   "source": [
    "tuple1[0] = \"C\"  # ❌ This will raise: TypeError: 'tuple' object does not support item assignment\n"
   ]
  },
  {
   "cell_type": "code",
   "execution_count": null,
   "metadata": {},
   "outputs": [
    {
     "name": "stdout",
     "output_type": "stream",
     "text": [
      "('Byju', '1234')\n"
     ]
    }
   ],
   "source": [
    "print(tuple1) # tuples are mutable"
   ]
  },
  {
   "cell_type": "code",
   "execution_count": 23,
   "metadata": {},
   "outputs": [],
   "source": [
    "tuple1 += (\"new\",)  # ✅ Creates a new tuple, not modifying the original"
   ]
  },
  {
   "cell_type": "code",
   "execution_count": 24,
   "metadata": {},
   "outputs": [
    {
     "name": "stdout",
     "output_type": "stream",
     "text": [
      "('Byju', '1234', 'new')\n"
     ]
    }
   ],
   "source": [
    "print(tuple1)"
   ]
  },
  {
   "cell_type": "code",
   "execution_count": 25,
   "metadata": {},
   "outputs": [
    {
     "data": {
      "text/plain": [
       "1529921041984"
      ]
     },
     "execution_count": 25,
     "metadata": {},
     "output_type": "execute_result"
    }
   ],
   "source": [
    "id(tuple1)"
   ]
  },
  {
   "cell_type": "code",
   "execution_count": 26,
   "metadata": {},
   "outputs": [
    {
     "data": {
      "text/plain": [
       "'0x16436667640'"
      ]
     },
     "execution_count": 26,
     "metadata": {},
     "output_type": "execute_result"
    }
   ],
   "source": [
    "hex(id(tuple1))"
   ]
  },
  {
   "cell_type": "code",
   "execution_count": null,
   "metadata": {},
   "outputs": [],
   "source": [
    "# What happened with +=?\n",
    "\n",
    "# That creates a new tuple by concatenating the old one with another.\n",
    "\n",
    "# It doesn’t change the original — it just reassigns tuple1."
   ]
  },
  {
   "cell_type": "code",
   "execution_count": null,
   "metadata": {},
   "outputs": [],
   "source": [
    "# Workarounds if you need to \"add\" items:\n",
    "# 1. Convert to a list ➜ Modify ➜ Convert back:"
   ]
  },
  {
   "cell_type": "code",
   "execution_count": 36,
   "metadata": {},
   "outputs": [
    {
     "name": "stdout",
     "output_type": "stream",
     "text": [
      "1529921389632\n",
      "0x164366bc440\n",
      "('B', '123', 'new')\n",
      "1529921043392\n",
      "0x16436667bc0\n"
     ]
    }
   ],
   "source": [
    "tuple1 = (\"B\", \"123\")\n",
    "print(id(tuple1))\n",
    "print(hex(id(tuple1)))\n",
    "temp = list(tuple1)\n",
    "temp.append(\"new\")\n",
    "tuple1 = tuple(temp)\n",
    "print(tuple1)  # Output: ('B', '123', 'new')\n",
    "print(id(tuple1))  # address changed\n",
    "print(hex(id(tuple1)))  # address changed. Tuple is immutable"
   ]
  },
  {
   "cell_type": "code",
   "execution_count": 33,
   "metadata": {},
   "outputs": [
    {
     "name": "stdout",
     "output_type": "stream",
     "text": [
      "('B', '123', 'new')\n"
     ]
    }
   ],
   "source": [
    " # Concatenate manually:\n",
    "tuple01 = (\"B\", \"123\")\n",
    "tuple02 = tuple1 + (\"new\",)\n",
    "print(tuple02)  # Output: ('B', '123', 'new')\n"
   ]
  },
  {
   "cell_type": "code",
   "execution_count": 37,
   "metadata": {},
   "outputs": [
    {
     "name": "stdout",
     "output_type": "stream",
     "text": [
      "1529920993280\n",
      "0x1643665b800\n"
     ]
    }
   ],
   "source": [
    "print(id(tuple01))\n",
    "print(hex(id(tuple01)))"
   ]
  },
  {
   "cell_type": "code",
   "execution_count": 38,
   "metadata": {},
   "outputs": [
    {
     "name": "stdout",
     "output_type": "stream",
     "text": [
      "1529921339200\n",
      "0x164366aff40\n"
     ]
    }
   ],
   "source": [
    "print(id(tuple02))\n",
    "print(hex(id(tuple02)))"
   ]
  },
  {
   "cell_type": "code",
   "execution_count": null,
   "metadata": {},
   "outputs": [],
   "source": [
    "# So what you are learning is that data types can be mutable and immutable\n",
    "# List is mutable\n",
    "# Integer, Float, Tuple etc are immutable (we cannot change value in same address [that is once after it is defined])\n",
    "# When we use tuple? say when you store information that you donot want to change\n",
    "# example: SSN, Voters ID, Bank account# etc."
   ]
  },
  {
   "cell_type": "markdown",
   "metadata": {},
   "source": [
    "ORDERED AND UNORDERED DATA TYPES"
   ]
  },
  {
   "cell_type": "code",
   "execution_count": null,
   "metadata": {},
   "outputs": [
    {
     "name": "stdout",
     "output_type": "stream",
     "text": [
      "[4, 2, 3, -1, 5, 0]\n"
     ]
    }
   ],
   "source": [
    "# List is ordered datatype\n",
    "# Set is unordered datatype with unique collection of elements\n",
    "\n",
    "# list\n",
    "mylist1 = [4, 2, 3,-1 ,5, 0]\n",
    "print(mylist1) # maintains the ordered in which is data is passed and stored"
   ]
  },
  {
   "cell_type": "code",
   "execution_count": null,
   "metadata": {},
   "outputs": [
    {
     "name": "stdout",
     "output_type": "stream",
     "text": [
      "{0, 2, 3, 4, 5, -1}\n",
      "{0, 2, 3, 4, 5, 10, -1}\n",
      "{0, 2, 3, 4, 5, 10, -1}\n"
     ]
    }
   ],
   "source": [
    "set1 ={4, 2, 3,-1 ,5, 0}\n",
    "print(set1)  # set is unorderd\n",
    "set1.add(10)\n",
    "print(set1)\n",
    "set1.add(4) # added 4 again, but only retain unique values\n",
    "print(set1)"
   ]
  },
  {
   "cell_type": "code",
   "execution_count": 45,
   "metadata": {},
   "outputs": [
    {
     "name": "stdout",
     "output_type": "stream",
     "text": [
      "{1, 2, 3, 5, -10, 10, -1}\n",
      "[1, 2, 3, 5, -10, 10, -1]\n"
     ]
    }
   ],
   "source": [
    "# convert set to list\n",
    "set2 = {10, 1, 3, 5, 2,-10, -1 }\n",
    "print(set2)\n",
    "\n",
    "set2 = list(set2)\n",
    "print(set2)"
   ]
  },
  {
   "cell_type": "markdown",
   "metadata": {},
   "source": []
  },
  {
   "cell_type": "code",
   "execution_count": 48,
   "metadata": {},
   "outputs": [
    {
     "name": "stdout",
     "output_type": "stream",
     "text": [
      "[10, 1, 3, 5, 10, 1, 3, 5, 2, -10, -1]\n",
      "{1, 2, 3, 5, 10, -10, -1}\n",
      "[1, 2, 3, 5, 10, -10, -1]\n"
     ]
    }
   ],
   "source": [
    "# list can have duplicate values, \n",
    "# convert to set and then to list again to remove duplicates\n",
    "\n",
    "\n",
    "list001 = [10, 1, 3, 5, 10, 1, 3, 5,  2,-10, -1 ]\n",
    "print(list001)\n",
    "set001 = set(list001)\n",
    "print(set001)\n",
    "list001=list(set001)\n",
    "print(list001)"
   ]
  },
  {
   "cell_type": "code",
   "execution_count": 49,
   "metadata": {},
   "outputs": [
    {
     "name": "stdout",
     "output_type": "stream",
     "text": [
      "1529921245056\n",
      "1529921245056\n",
      "[1, 2, 3, 'hi', 'hello']\n"
     ]
    }
   ],
   "source": [
    "#Extend function with list\n",
    "a = [1,2,3]\n",
    "b = [\"hi\", \"hello\"]\n",
    "print(id(a))\n",
    "a.extend(b)\n",
    "print(id(a))\n",
    "print(a)"
   ]
  },
  {
   "cell_type": "code",
   "execution_count": 50,
   "metadata": {},
   "outputs": [
    {
     "name": "stdout",
     "output_type": "stream",
     "text": [
      "1529920784640\n"
     ]
    },
    {
     "ename": "AttributeError",
     "evalue": "'set' object has no attribute 'extend'",
     "output_type": "error",
     "traceback": [
      "\u001b[31m---------------------------------------------------------------------------\u001b[39m",
      "\u001b[31mAttributeError\u001b[39m                            Traceback (most recent call last)",
      "\u001b[36mCell\u001b[39m\u001b[36m \u001b[39m\u001b[32mIn[50]\u001b[39m\u001b[32m, line 5\u001b[39m\n\u001b[32m      3\u001b[39m b = {\u001b[33m\"\u001b[39m\u001b[33mhi\u001b[39m\u001b[33m\"\u001b[39m, \u001b[33m\"\u001b[39m\u001b[33mhello\u001b[39m\u001b[33m\"\u001b[39m}\n\u001b[32m      4\u001b[39m \u001b[38;5;28mprint\u001b[39m(\u001b[38;5;28mid\u001b[39m(a))\n\u001b[32m----> \u001b[39m\u001b[32m5\u001b[39m \u001b[43ma\u001b[49m\u001b[43m.\u001b[49m\u001b[43mextend\u001b[49m(b)\n\u001b[32m      6\u001b[39m \u001b[38;5;28mprint\u001b[39m(\u001b[38;5;28mid\u001b[39m(a))\n\u001b[32m      7\u001b[39m \u001b[38;5;28mprint\u001b[39m(a)\n",
      "\u001b[31mAttributeError\u001b[39m: 'set' object has no attribute 'extend'"
     ]
    }
   ],
   "source": [
    "#Extend function does not work with set\n",
    "a = {1,2,3}\n",
    "b = {\"hi\", \"hello\"}\n",
    "print(id(a))\n",
    "a.extend(b)\n",
    "print(id(a))\n",
    "print(a)"
   ]
  },
  {
   "cell_type": "code",
   "execution_count": 51,
   "metadata": {},
   "outputs": [
    {
     "name": "stdout",
     "output_type": "stream",
     "text": [
      "1529920782400\n",
      "1529920782400\n",
      "{1, 2, 3, 'hi', 'hello'}\n"
     ]
    }
   ],
   "source": [
    "#update function works with set\n",
    "a = {1,2,3}\n",
    "b = {\"hi\", \"hello\"}\n",
    "print(id(a))\n",
    "a.update(b)\n",
    "print(id(a))\n",
    "print(a)"
   ]
  },
  {
   "cell_type": "code",
   "execution_count": null,
   "metadata": {},
   "outputs": [],
   "source": [
    "# There is no extend or update function with tuple becaue tuple is immutable"
   ]
  },
  {
   "cell_type": "markdown",
   "metadata": {},
   "source": [
    "# Dictionary"
   ]
  },
  {
   "cell_type": "code",
   "execution_count": null,
   "metadata": {},
   "outputs": [],
   "source": [
    "emp_details = {1: [\"monal\", \"india\"],\n",
    "               2: [\"lucas\", \"brazil\"],\n",
    "               3: [\"anas\", \"dubai\"],\n",
    "               4: [\"riyan\", \"sharjah\"]}\n",
    "# dictionary is key-value pairs\n",
    "# keys must be unique"
   ]
  },
  {
   "cell_type": "code",
   "execution_count": 55,
   "metadata": {},
   "outputs": [
    {
     "name": "stdout",
     "output_type": "stream",
     "text": [
      "<class 'dict'>\n"
     ]
    }
   ],
   "source": [
    "print(type(emp_details)) # dictionary is key-value pair"
   ]
  },
  {
   "cell_type": "code",
   "execution_count": 56,
   "metadata": {},
   "outputs": [
    {
     "name": "stdout",
     "output_type": "stream",
     "text": [
      "{1: ['monal', 'india'], 2: ['lucas', 'brazil'], 3: ['anas', 'dubai'], 4: ['riyan', 'sharjah']}\n"
     ]
    }
   ],
   "source": [
    "print(emp_details)"
   ]
  },
  {
   "cell_type": "markdown",
   "metadata": {},
   "source": []
  },
  {
   "cell_type": "code",
   "execution_count": 57,
   "metadata": {},
   "outputs": [
    {
     "name": "stdout",
     "output_type": "stream",
     "text": [
      "['riyan', 'sharjah']\n"
     ]
    }
   ],
   "source": [
    "print(emp_details[4])"
   ]
  },
  {
   "cell_type": "code",
   "execution_count": 58,
   "metadata": {},
   "outputs": [
    {
     "name": "stdout",
     "output_type": "stream",
     "text": [
      "['Riyan', 'sharjah']\n"
     ]
    }
   ],
   "source": [
    "emp_details[4][0] = \"Riyan\"\n",
    "print(emp_details[4])"
   ]
  },
  {
   "cell_type": "code",
   "execution_count": null,
   "metadata": {},
   "outputs": [
    {
     "name": "stdout",
     "output_type": "stream",
     "text": [
      "['Byju Govindan', 'sharjah']\n"
     ]
    }
   ],
   "source": [
    "emp_details[4][0] = \"Byju Govindan\"\n",
    "'print(emp_details[4])"
   ]
  },
  {
   "cell_type": "code",
   "execution_count": 62,
   "metadata": {},
   "outputs": [],
   "source": [
    "emp_details01 = {\n",
    "    \"001\": {\n",
    "        \"name\": \"monal\",\n",
    "        \"ph. no\": 123456789,\n",
    "        \"address\": \"india\",\n",
    "        \"mentor_details\": {\n",
    "            \"beginner courses\": [\"Data Science and genai\"],\n",
    "            \"advanced_course\": [\"Computer vision\"]\n",
    "        }\n",
    "    },\n",
    "    \"002\": {\n",
    "        \"name\": \"krish\",\n",
    "        \"ph. no\": 123456789,\n",
    "        \"address\": \"india\",\n",
    "        \"mentor_details\": {\n",
    "            \"beginner courses\": [\"Data Science and genai\"],\n",
    "            \"advanced_course\": [\"Agentic ai\"]\n",
    "        }\n",
    "    },\n",
    "    \"003\": {\n",
    "        \"name\": \"mayank\",\n",
    "        \"ph. no\": 123456789,\n",
    "        \"address\": \"india\",\n",
    "        \"mentor_details\": {\n",
    "            \"beginner courses\": [\"Data engg and Data Science\"],\n",
    "            \"advanced_course\": [\"Data structures\"]\n",
    "        }\n",
    "    }\n",
    "}\n",
    "\n"
   ]
  },
  {
   "cell_type": "code",
   "execution_count": 63,
   "metadata": {},
   "outputs": [
    {
     "name": "stdout",
     "output_type": "stream",
     "text": [
      "{'001': {'name': 'monal', 'ph. no': 123456789, 'address': 'india', 'mentor_details': {'beginner courses': ['Data Science and genai'], 'advanced_course': ['Computer vision']}}, '002': {'name': 'krish', 'ph. no': 123456789, 'address': 'india', 'mentor_details': {'beginner courses': ['Data Science and genai'], 'advanced_course': ['Agentic ai']}}, '003': {'name': 'mayank', 'ph. no': 123456789, 'address': 'india', 'mentor_details': {'beginner courses': ['Data engg and Data Science'], 'advanced_course': ['Data structures']}}}\n"
     ]
    }
   ],
   "source": [
    "print(emp_details01)"
   ]
  },
  {
   "cell_type": "code",
   "execution_count": 64,
   "metadata": {},
   "outputs": [
    {
     "name": "stdout",
     "output_type": "stream",
     "text": [
      "dict_keys(['001', '002', '003'])\n"
     ]
    }
   ],
   "source": [
    "print(emp_details01.keys())"
   ]
  },
  {
   "cell_type": "code",
   "execution_count": 67,
   "metadata": {},
   "outputs": [
    {
     "data": {
      "text/plain": [
       "['001', '002', '003']"
      ]
     },
     "execution_count": 67,
     "metadata": {},
     "output_type": "execute_result"
    }
   ],
   "source": [
    "list((emp_details01.keys()))"
   ]
  },
  {
   "cell_type": "code",
   "execution_count": null,
   "metadata": {},
   "outputs": [],
   "source": [
    "type()"
   ]
  },
  {
   "cell_type": "markdown",
   "metadata": {},
   "source": [
    "### list has append and extend\n",
    "### set has add and update\n",
    "### dictionary is key and value pair\n",
    "### dictionary has update function\n",
    "\n",
    "\n"
   ]
  },
  {
   "cell_type": "code",
   "execution_count": 65,
   "metadata": {},
   "outputs": [
    {
     "name": "stdout",
     "output_type": "stream",
     "text": [
      "dict_values([{'name': 'monal', 'ph. no': 123456789, 'address': 'india', 'mentor_details': {'beginner courses': ['Data Science and genai'], 'advanced_course': ['Computer vision']}}, {'name': 'krish', 'ph. no': 123456789, 'address': 'india', 'mentor_details': {'beginner courses': ['Data Science and genai'], 'advanced_course': ['Agentic ai']}}, {'name': 'mayank', 'ph. no': 123456789, 'address': 'india', 'mentor_details': {'beginner courses': ['Data engg and Data Science'], 'advanced_course': ['Data structures']}}])\n"
     ]
    }
   ],
   "source": [
    "print(emp_details01.values())"
   ]
  },
  {
   "cell_type": "code",
   "execution_count": 68,
   "metadata": {},
   "outputs": [],
   "source": [
    "my_dict = {\"name\": \"Monal\"}\n",
    "my_dict[\"age\"] = 25  # This adds a new key 'age' with value 25\n",
    "\n",
    "# You can also use .update() to add multiple items:\n",
    "\n",
    "my_dict.update({\"city\": \"Delhi\", \"profession\": \"Engineer\"})"
   ]
  },
  {
   "cell_type": "code",
   "execution_count": 69,
   "metadata": {},
   "outputs": [
    {
     "name": "stdout",
     "output_type": "stream",
     "text": [
      "{'name': 'Monal', 'age': 25, 'city': 'Delhi', 'profession': 'Engineer'}\n"
     ]
    }
   ],
   "source": [
    "print(my_dict)"
   ]
  },
  {
   "cell_type": "markdown",
   "metadata": {},
   "source": [
    "# Loops"
   ]
  },
  {
   "cell_type": "code",
   "execution_count": 72,
   "metadata": {},
   "outputs": [
    {
     "name": "stdout",
     "output_type": "stream",
     "text": [
      "2 X 1 = 2\n",
      "2 X 2 = 4\n",
      "2 X 3 = 6\n",
      "2 X 4 = 8\n",
      "2 X 5 = 10\n",
      "2 X 6 = 12\n",
      "2 X 7 = 14\n",
      "2 X 8 = 16\n",
      "2 X 9 = 18\n",
      "2 X 10 = 20\n",
      "2 X 11 = 22\n",
      "2 X 12 = 24\n",
      "2 X 13 = 26\n",
      "2 X 14 = 28\n",
      "2 X 15 = 30\n",
      "2 X 16 = 32\n",
      "2 X 17 = 34\n",
      "2 X 18 = 36\n",
      "2 X 19 = 38\n",
      "2 X 20 = 40\n",
      "2 X 21 = 42\n",
      "2 X 22 = 44\n",
      "2 X 23 = 46\n",
      "2 X 24 = 48\n",
      "2 X 25 = 50\n",
      "2 X 26 = 52\n",
      "2 X 27 = 54\n",
      "2 X 28 = 56\n",
      "2 X 29 = 58\n",
      "2 X 30 = 60\n",
      "2 X 31 = 62\n",
      "2 X 32 = 64\n",
      "2 X 33 = 66\n",
      "2 X 34 = 68\n",
      "2 X 35 = 70\n",
      "2 X 36 = 72\n",
      "2 X 37 = 74\n",
      "2 X 38 = 76\n",
      "2 X 39 = 78\n",
      "2 X 40 = 80\n",
      "2 X 41 = 82\n",
      "2 X 42 = 84\n",
      "2 X 43 = 86\n",
      "2 X 44 = 88\n",
      "2 X 45 = 90\n",
      "2 X 46 = 92\n",
      "2 X 47 = 94\n",
      "2 X 48 = 96\n",
      "2 X 49 = 98\n",
      "2 X 50 = 100\n",
      "2 X 51 = 102\n",
      "2 X 52 = 104\n",
      "2 X 53 = 106\n",
      "2 X 54 = 108\n",
      "2 X 55 = 110\n",
      "2 X 56 = 112\n",
      "2 X 57 = 114\n",
      "2 X 58 = 116\n",
      "2 X 59 = 118\n",
      "2 X 60 = 120\n",
      "2 X 61 = 122\n",
      "2 X 62 = 124\n",
      "2 X 63 = 126\n",
      "2 X 64 = 128\n",
      "2 X 65 = 130\n",
      "2 X 66 = 132\n",
      "2 X 67 = 134\n",
      "2 X 68 = 136\n",
      "2 X 69 = 138\n",
      "2 X 70 = 140\n",
      "2 X 71 = 142\n",
      "2 X 72 = 144\n",
      "2 X 73 = 146\n",
      "2 X 74 = 148\n",
      "2 X 75 = 150\n",
      "2 X 76 = 152\n",
      "2 X 77 = 154\n",
      "2 X 78 = 156\n",
      "2 X 79 = 158\n",
      "2 X 80 = 160\n",
      "2 X 81 = 162\n",
      "2 X 82 = 164\n",
      "2 X 83 = 166\n",
      "2 X 84 = 168\n",
      "2 X 85 = 170\n",
      "2 X 86 = 172\n",
      "2 X 87 = 174\n",
      "2 X 88 = 176\n",
      "2 X 89 = 178\n",
      "2 X 90 = 180\n",
      "2 X 91 = 182\n",
      "2 X 92 = 184\n",
      "2 X 93 = 186\n",
      "2 X 94 = 188\n",
      "2 X 95 = 190\n",
      "2 X 96 = 192\n",
      "2 X 97 = 194\n",
      "2 X 98 = 196\n",
      "2 X 99 = 198\n"
     ]
    }
   ],
   "source": [
    "for i in range(1, 100):\n",
    "    print(\"2\", \"X\", i, \"=\", 2 * i)"
   ]
  },
  {
   "cell_type": "code",
   "execution_count": null,
   "metadata": {},
   "outputs": [],
   "source": []
  }
 ],
 "metadata": {
  "kernelspec": {
   "display_name": "Python 3",
   "language": "python",
   "name": "python3"
  },
  "language_info": {
   "codemirror_mode": {
    "name": "ipython",
    "version": 3
   },
   "file_extension": ".py",
   "mimetype": "text/x-python",
   "name": "python",
   "nbconvert_exporter": "python",
   "pygments_lexer": "ipython3",
   "version": "3.12.0"
  }
 },
 "nbformat": 4,
 "nbformat_minor": 2
}
