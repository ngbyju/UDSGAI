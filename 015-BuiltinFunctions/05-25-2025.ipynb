{
 "cells": [
  {
   "cell_type": "markdown",
   "id": "bce9b7c2",
   "metadata": {},
   "source": [
    "## Built-in Functions"
   ]
  },
  {
   "cell_type": "markdown",
   "id": "d58a1587",
   "metadata": {},
   "source": [
    "### 1. lambda() : \n",
    "\n",
    "#### one line function; used when full function is an overkill"
   ]
  },
  {
   "cell_type": "code",
   "execution_count": 1,
   "id": "a5e902c3",
   "metadata": {},
   "outputs": [],
   "source": [
    "def square(x):\n",
    "   return (x *x)"
   ]
  },
  {
   "cell_type": "code",
   "execution_count": 2,
   "id": "a1836b2c",
   "metadata": {},
   "outputs": [
    {
     "data": {
      "text/plain": [
       "25"
      ]
     },
     "execution_count": 2,
     "metadata": {},
     "output_type": "execute_result"
    }
   ],
   "source": [
    "square(5)"
   ]
  },
  {
   "cell_type": "code",
   "execution_count": 3,
   "id": "cd822691",
   "metadata": {},
   "outputs": [],
   "source": [
    "square_lambda = lambda x: x*x"
   ]
  },
  {
   "cell_type": "code",
   "execution_count": 5,
   "id": "8d08367a",
   "metadata": {},
   "outputs": [
    {
     "data": {
      "text/plain": [
       "25"
      ]
     },
     "execution_count": 5,
     "metadata": {},
     "output_type": "execute_result"
    }
   ],
   "source": [
    "square_lambda(5)"
   ]
  },
  {
   "cell_type": "code",
   "execution_count": 8,
   "id": "ce56db8a",
   "metadata": {},
   "outputs": [],
   "source": [
    "add_with_lambda = lambda x, y, z: x + y + z"
   ]
  },
  {
   "cell_type": "code",
   "execution_count": 9,
   "id": "6461920b",
   "metadata": {},
   "outputs": [
    {
     "data": {
      "text/plain": [
       "6"
      ]
     },
     "execution_count": 9,
     "metadata": {},
     "output_type": "execute_result"
    }
   ],
   "source": [
    "add_with_lambda(1,2,3)"
   ]
  },
  {
   "cell_type": "markdown",
   "id": "2ceb67fd",
   "metadata": {},
   "source": [
    "## 2. sort()"
   ]
  },
  {
   "cell_type": "code",
   "execution_count": 11,
   "id": "8286a7e5",
   "metadata": {},
   "outputs": [
    {
     "data": {
      "text/plain": [
       "[-3, 1, 2, 5, 6, 78, 90, 110, 110]"
      ]
     },
     "execution_count": 11,
     "metadata": {},
     "output_type": "execute_result"
    }
   ],
   "source": [
    "a = [1,2, 110, -3, 5, 6, 78, 90, 110]\n",
    "a.sort()\n",
    "a"
   ]
  },
  {
   "cell_type": "code",
   "execution_count": 14,
   "id": "ae4500dd",
   "metadata": {},
   "outputs": [
    {
     "data": {
      "text/plain": [
       "[110, 110, 90, 78, 6, 5, 2, 1, -3]"
      ]
     },
     "execution_count": 14,
     "metadata": {},
     "output_type": "execute_result"
    }
   ],
   "source": [
    "a.sort(reverse = True)\n",
    "a"
   ]
  },
  {
   "cell_type": "markdown",
   "id": "3a15d030",
   "metadata": {},
   "source": [
    "## 3. sorted()"
   ]
  },
  {
   "cell_type": "code",
   "execution_count": null,
   "id": "d7c714b0",
   "metadata": {},
   "outputs": [
    {
     "name": "stdout",
     "output_type": "stream",
     "text": [
      "[1, 2, 110, -3, 5, 6, 78, 90, 110]\n",
      "[-3, 1, 2, 5, 6, 78, 90, 110, 110]\n"
     ]
    }
   ],
   "source": [
    "a = [1,2, 110, -3, 5, 6, 78, 90, 110]\n",
    "a_sorted = sorted(a)\n",
    "print(a)    # a is not sorted now\n",
    "print(a_sorted)  # a_sorted is sorted"
   ]
  },
  {
   "cell_type": "markdown",
   "id": "8a3da6cd",
   "metadata": {},
   "source": [
    "## 4. Using key in sort and sorted"
   ]
  },
  {
   "cell_type": "code",
   "execution_count": null,
   "id": "f2ba15a6",
   "metadata": {},
   "outputs": [
    {
     "name": "stdout",
     "output_type": "stream",
     "text": [
      "Sorted by length: ['kiwi', 'apple', 'grape', 'banana', 'orange']\n",
      "Sorted by age: [('Bob', 22, 'C'), ('Alice', 25, 'A'), ('Charlie', 28, 'B')]\n",
      "Sorted by grade: [('Alice', 25, 'A'), ('Charlie', 28, 'B'), ('Bob', 22, 'C')]\n",
      "Sorted by user age: [{'name': 'Alice', 'age': 25, 'city': 'London'}, {'name': 'John', 'age': 30, 'city': 'New York'}, {'name': 'Bob', 'age': 35, 'city': 'Paris'}]\n",
      "Sorted by user name (case-insensitive): [{'name': 'Alice', 'age': 25, 'city': 'London'}, {'name': 'Bob', 'age': 35, 'city': 'Paris'}, {'name': 'John', 'age': 30, 'city': 'New York'}]\n",
      "Sorted by absolute value (in-place): [0, -1, -2, 3, 5, 8]\n",
      "Sorted by last character (in-place): ['banana', 'apple', 'grape', 'cherry']\n",
      "Sorted by length (descending): ['banana', 'orange', 'apple', 'grape', 'kiwi']\n",
      "Sorted by age (descending): [('Charlie', 28, 'B'), ('Alice', 25, 'A'), ('Bob', 22, 'C')]\n"
     ]
    }
   ],
   "source": [
    "'''The key argument in Python's sort() method (for lists) and sorted() function (for any iterable) is incredibly powerful for custom sorting. It allows you to specify a function that will be called on each element of the list before comparisons are made. The return value of this \"key function\" is then used for sorting.\n",
    "\n",
    "Let's break down how it works with examples.\n",
    "\n",
    "key Argument Basics\n",
    "key takes a function: This function should take one argument (an element from the list) and return a value that will be used for comparison.\n",
    "Default sorting: By default, sort() and sorted() compare elements directly.\n",
    "Custom sorting: The key function transforms each element into a \"sort key,\" and then these sort keys are used to determine the order.\n",
    "sorted() Function\n",
    "sorted(iterable, *, key=None, reverse=False)\n",
    "\n",
    "Returns a new sorted list from the elements of any iterable.\n",
    "Does not modify the original iterable.\n",
    "'''\n",
    "\n",
    "'''Examples:'''\n",
    "\n",
    "# Sorting strings by length:\n",
    "\n",
    "\n",
    "words = [\"banana\", \"apple\", \"grape\", \"kiwi\", \"orange\"]\n",
    "sorted_by_length = sorted(words, key=len)\n",
    "print(f\"Sorted by length: {sorted_by_length}\")\n",
    "# Output: Sorted by length: ['kiwi', 'grape', 'apple', 'banana', 'orange']\n",
    "'''\n",
    "Here, len is the key function. For \"banana\", len(\"banana\") is 6, for \"apple\", len(\"apple\") is 5, etc. The list is then sorted based on these lengths.\n",
    "'''\n",
    "\n",
    "\n",
    "\n",
    "\n",
    "# Sorting a list of tuples by a specific element:\n",
    "\n",
    "students = [(\"Alice\", 25, \"A\"), (\"Bob\", 22, \"C\"), (\"Charlie\", 28, \"B\")]\n",
    "\n",
    "# Sort by age (second element of the tuple)\n",
    "sorted_by_age = sorted(students, key=lambda student: student[1])\n",
    "print(f\"Sorted by age: {sorted_by_age}\")\n",
    "\n",
    "# Output: Sorted by age: [('Bob', 22, 'C'), ('Alice', 25, 'A'), ('Charlie', 28, 'B')]\n",
    "\n",
    "\n",
    "\n",
    "# Sort by grade (third element)\n",
    "\n",
    "sorted_by_grade = sorted(students, key=lambda student: student[2])\n",
    "print(f\"Sorted by grade: {sorted_by_grade}\")\n",
    "# Output: Sorted by grade: [('Alice', 25, 'A'), ('Charlie', 28, 'B'), ('Bob', 22, 'C')]\n",
    "# lambda student: student[1] is an anonymous function that takes a student tuple and returns its second element (the age).\n",
    "\n",
    "\n",
    "\n",
    "\n",
    "# Sorting a list of dictionaries by a specific value:\n",
    "\n",
    "users = [\n",
    "    {\"name\": \"John\", \"age\": 30, \"city\": \"New York\"},\n",
    "    {\"name\": \"Alice\", \"age\": 25, \"city\": \"London\"},\n",
    "    {\"name\": \"Bob\", \"age\": 35, \"city\": \"Paris\"},\n",
    "]\n",
    "\n",
    "\n",
    "\n",
    "# Sort by age\n",
    "sorted_by_user_age = sorted(users, key=lambda user: user[\"age\"])\n",
    "print(f\"Sorted by user age: {sorted_by_user_age}\")\n",
    "# Output: Sorted by user age: [{'name': 'Alice', 'age': 25, 'city': 'London'}, {'name': 'John', 'age': 30, 'city': 'New York'}, {'name': 'Bob', 'age': 35, 'city': 'Paris'}]\n",
    "\n",
    "\n",
    "\n",
    "\n",
    "# Sort by name (case-insensitive)\n",
    "sorted_by_user_name_case_insensitive = sorted(users, key=lambda user: user[\"name\"].lower())\n",
    "print(f\"Sorted by user name (case-insensitive): {sorted_by_user_name_case_insensitive}\")\n",
    "# Output: Sorted by user name (case-insensitive): [{'name': 'Alice', 'age': 25, 'city': 'London'}, {'name': 'Bob', 'age': 35, 'city': 'Paris'}, {'name': 'John', 'age': 30, 'city': 'New York'}]\n",
    "\n",
    "\n",
    "\n",
    "\n",
    "\n",
    "# list.sort() #Method\n",
    "# list.sort(*, key=None, reverse=False)\n",
    "\n",
    "\n",
    "# Is a method of lists, meaning it can only be called on a list.\n",
    "# Sorts the list in-place (modifies the original list).\n",
    "# Returns None.\n",
    "# Examples:\n",
    "\n",
    "# Sorting numbers in-place by absolute value:\n",
    "\n",
    "\n",
    "\n",
    "numbers = [5, -2, 8, -1, 0, 3]\n",
    "numbers.sort(key=abs)\n",
    "print(f\"Sorted by absolute value (in-place): {numbers}\")\n",
    "\n",
    "# Output: Sorted by absolute value (in-place): [0, -1, -2, 3, 5, 8]\n",
    "\n",
    "# Here, abs is the built-in function that returns the absolute value of a number.\n",
    "\n",
    "# Sorting strings in-place by the last character:\n",
    "\n",
    "\n",
    "\n",
    "fruits = [\"apple\", \"banana\", \"cherry\", \"grape\"]\n",
    "fruits.sort(key=lambda fruit: fruit[-1])\n",
    "print(f\"Sorted by last character (in-place): {fruits}\")\n",
    "# Output: Sorted by last character (in-place): ['banana', 'apple', 'grape', 'cherry']\n",
    "# 'a' comes before 'e', 'e' before 'y'.\n",
    "\n",
    "# Using reverse=True\n",
    "# Both sort() and sorted() also accept a reverse=True argument to sort in descending order after the key function has been applied.\n",
    "\n",
    "\n",
    "\n",
    "words = [\"banana\", \"apple\", \"grape\", \"kiwi\", \"orange\"]\n",
    "sorted_by_length_desc = sorted(words, key=len, reverse=True)\n",
    "print(f\"Sorted by length (descending): {sorted_by_length_desc}\")\n",
    "# Output: Sorted by length (descending): ['banana', 'orange', 'apple', 'grape', 'kiwi']\n",
    "\n",
    "students = [(\"Alice\", 25, \"A\"), (\"Bob\", 22, \"C\"), (\"Charlie\", 28, \"B\")]\n",
    "sorted_by_age_desc = sorted(students, key=lambda student: student[1], reverse=True)\n",
    "print(f\"Sorted by age (descending): {sorted_by_age_desc}\")\n",
    "# Output: Sorted by age (descending): [('Charlie', 28, 'B'), ('Alice', 25, 'A'), ('Bob', 22, 'C')]\n",
    "\n",
    "# Why use key?\n",
    "# Readability: Often more concise and easier to read than writing a custom comparison function (using functools.cmp_to_key).\n",
    "# Efficiency: The key function is called once per element before sorting begins, which is generally more efficient than calling a comparison function repeatedly during the sort process.\n",
    "# Versatility: Works with any callable (built-in functions, user-defined functions, lambda functions).\n",
    "# In summary, the key argument provides a flexible and efficient way to perform custom sorting operations in Python based on specific attributes or transformations of your data."
   ]
  },
  {
   "cell_type": "markdown",
   "id": "0ea76292",
   "metadata": {},
   "source": [
    "## 5. map()"
   ]
  },
  {
   "cell_type": "markdown",
   "id": "cafcdcbe",
   "metadata": {},
   "source": []
  },
  {
   "cell_type": "code",
   "execution_count": 15,
   "id": "66c2f6d4",
   "metadata": {},
   "outputs": [],
   "source": [
    "square_lambda = lambda x: x*x"
   ]
  },
  {
   "cell_type": "code",
   "execution_count": 18,
   "id": "46786aaf",
   "metadata": {},
   "outputs": [
    {
     "name": "stdout",
     "output_type": "stream",
     "text": [
      "The square of 0 is 0\n",
      "The square of 1 is 1\n",
      "The square of 2 is 4\n",
      "The square of 3 is 9\n",
      "The square of 4 is 16\n",
      "The square of 5 is 25\n",
      "The square of 6 is 36\n",
      "The square of 7 is 49\n",
      "The square of 8 is 64\n",
      "The square of 9 is 81\n",
      "The square of 10 is 100\n"
     ]
    }
   ],
   "source": [
    "nums = range(0, 11)\n",
    "\n",
    "for i in nums:\n",
    "    print(f\"The square of {i} is {square_lambda(i)}\")"
   ]
  },
  {
   "cell_type": "code",
   "execution_count": 24,
   "id": "e6aed45e",
   "metadata": {},
   "outputs": [
    {
     "name": "stdout",
     "output_type": "stream",
     "text": [
      "The squared_numbers_map_object is <map object at 0x0000027976B29A80>\n",
      "The squared_numbers_list is [0, 1, 4, 9, 16, 25, 36, 49, 64, 81, 100]\n",
      "\n",
      "Printing individually from map object:\n",
      "0\n",
      "1\n",
      "4\n",
      "9\n",
      "16\n",
      "25\n",
      "36\n",
      "49\n",
      "64\n",
      "81\n",
      "100\n"
     ]
    }
   ],
   "source": [
    "nums = range(0, 11)\n",
    "\n",
    "# Define the lambda function to square a number\n",
    "square_lambda = lambda x: x * x\n",
    "\n",
    "# Use map() to apply square_lambda to each number in nums\n",
    "squared_numbers_map_object = map(square_lambda, nums)\n",
    "print(f\"The squared_numbers_map_object is {squared_numbers_map_object}\")\n",
    "\n",
    "# map() returns a map object (an iterator), so you need to convert it\n",
    "# to a list (or iterate over it) to see the results.\n",
    "squared_numbers_list = list(squared_numbers_map_object)\n",
    "\n",
    "print(f\"The squared_numbers_list is { squared_numbers_list}\")\n",
    "\n",
    "# If you want to print each one individually, you can iterate over the map object directly\n",
    "print(\"\\nPrinting individually from map object:\")\n",
    "for s_num in map(square_lambda, nums): # Re-create map object as it's consumed by list()\n",
    "    print(s_num)"
   ]
  },
  {
   "cell_type": "markdown",
   "id": "e9c846af",
   "metadata": {},
   "source": []
  },
  {
   "cell_type": "markdown",
   "id": "1a7afda7",
   "metadata": {},
   "source": [
    "## 6. zip()\n"
   ]
  },
  {
   "cell_type": "code",
   "execution_count": null,
   "id": "8e7a31a7",
   "metadata": {},
   "outputs": [],
   "source": [
    "'''The zip() function in Python is used to combine elements from multiple iterables (like lists, tuples, strings, etc.) into a single iterable of tuples. It aggregates elements from each of the input iterables.\n",
    "\n",
    "How zip() works:\n",
    "Takes multiple iterables as arguments: You can pass two, three, or more iterables to zip().\n",
    "Returns an iterator of tuples: Each tuple contains elements from the corresponding positions in the input iterables.\n",
    "Stops when the shortest iterable is exhausted: If the input iterables have different lengths, zip() will stop producing tuples once the shortest iterable runs out of elements.\n",
    "Basic Syntax:\n",
    "Python\n",
    "\n",
    "zip(*iterables)\n",
    "Examples:\n",
    "1. Combining two lists:\n",
    "\n",
    "\n",
    "\n",
    "names = [\"Alice\", \"Bob\", \"Charlie\"]\n",
    "ages = [30, 24, 35]\n",
    "\n",
    "combined = zip(names, ages)\n",
    "\n",
    "print(combined) # Output: <zip object at 0x...> (It's an iterator)\n",
    "\n",
    "# To see the contents, convert it to a list:\n",
    "combined_list = list(combined)\n",
    "print(combined_list) # Output: [('Alice', 30), ('Bob', 24), ('Charlie', 35)]\n",
    "2. Combining three lists:\n",
    "\n",
    "\n",
    "\n",
    "names = [\"Alice\", \"Bob\", \"Charlie\"]\n",
    "ages = [30, 24, 35]\n",
    "cities = [\"New York\", \"London\", \"Paris\"]\n",
    "\n",
    "combined_all = list(zip(names, ages, cities))\n",
    "print(combined_all)\n",
    "# Output: [('Alice', 30, 'New York'), ('Bob', 24, 'London'), ('Charlie', 35, 'Paris')]\n",
    "3. Handling iterables of different lengths (stops at the shortest):\n",
    "\n",
    "\n",
    "\n",
    "fruits = [\"apple\", \"banana\", \"cherry\", \"date\"]\n",
    "colors = [\"red\", \"yellow\", \"green\"] # 'colors' is shorter\n",
    "\n",
    "combined_short = list(zip(fruits, colors))\n",
    "print(combined_short)\n",
    "# Output: [('apple', 'red'), ('banana', 'yellow'), ('cherry', 'green')]\n",
    "# 'date' is ignored because 'colors' ran out.\n",
    "4. Unzipping (the inverse of zip()):\n",
    "\n",
    "You can use zip() with the * operator (unpacking operator) to \"unzip\" a zipped iterable back into separate iterables.\n",
    "\n",
    "\n",
    "\n",
    "combined_list = [('Alice', 30), ('Bob', 24), ('Charlie', 35)]\n",
    "\n",
    "# Unzip using *\n",
    "names_unzipped, ages_unzipped = zip(*combined_list)\n",
    "\n",
    "print(names_unzipped) # Output: ('Alice', 'Bob', 'Charlie')\n",
    "print(ages_unzipped)  # Output: (30, 24, 35)\n",
    "Note that zip(*iterable_of_tuples) returns tuples, not lists, for the unzipped elements. You can convert them to lists if needed.\n",
    "\n",
    "5. Using zip() in a loop:\n",
    "\n",
    "zip() is particularly useful for iterating over multiple sequences simultaneously.\n",
    "\n",
    "\n",
    "\n",
    "products = [\"Laptop\", \"Mouse\", \"Keyboard\"]\n",
    "prices = [1200, 25, 75]\n",
    "\n",
    "for product, price in zip(products, prices):\n",
    "    print(f\"{product}: ${price}\")\n",
    "\n",
    "# Output:\n",
    "# Laptop: $1200\n",
    "# Mouse: $25\n",
    "# Keyboard: $75\n",
    "Common Use Cases for zip():\n",
    "Iterating over multiple lists in parallel.\n",
    "Creating dictionaries from two lists (one for keys, one for values).\n",
    "Transposing a matrix (rows to columns, and vice-versa).\n",
    "Pairing related data.\n",
    "zip() is a fundamental and efficient tool in Python for working with multiple data sequences in a synchronized manner.\n",
    "'''"
   ]
  },
  {
   "cell_type": "markdown",
   "id": "e1912632",
   "metadata": {},
   "source": [
    "## 7. List comprehension"
   ]
  },
  {
   "cell_type": "code",
   "execution_count": null,
   "id": "d91219a1",
   "metadata": {},
   "outputs": [],
   "source": [
    "'''List comprehensions in Python provide a concise and efficient way to create lists. They offer a more compact syntax than traditional for loops and often lead to more readable code.\n",
    "\n",
    "Basic Structure of a List Comprehension\n",
    "A list comprehension consists of brackets [] containing an expression followed by a for clause, then zero or more for or if clauses.\n",
    "\n",
    "The general syntax is:\n",
    "\n",
    "Python\n",
    "\n",
    "[expression for item in iterable if condition]\n",
    "Where:\n",
    "\n",
    "expression: The operation performed on each item to produce the new list element.\n",
    "item: The variable that takes on the value of each element from the iterable.\n",
    "iterable: The sequence (e.g., list, tuple, string, range) you are iterating over.\n",
    "if condition (optional): A filter that includes item in the iteration only if the condition is True.\n",
    "Examples\n",
    "1. Basic Transformation: Squaring numbers\n",
    "\n",
    "Using a for loop:\n",
    "\n",
    "Python\n",
    "\n",
    "squares = []\n",
    "for x in range(10):\n",
    "    squares.append(x**2)\n",
    "print(squares) # Output: [0, 1, 4, 9, 16, 25, 36, 49, 64, 81]\n",
    "Using a list comprehension:\n",
    "\n",
    "Python\n",
    "\n",
    "squares = [x**2 for x in range(10)]\n",
    "print(squares) # Output: [0, 1, 4, 9, 16, 25, 36, 49, 64, 81]\n",
    "2. Filtering Elements: Even numbers\n",
    "\n",
    "Using a for loop with if:\n",
    "\n",
    "Python\n",
    "\n",
    "evens = []\n",
    "for x in range(10):\n",
    "    if x % 2 == 0:\n",
    "        evens.append(x)\n",
    "print(evens) # Output: [0, 2, 4, 6, 8]\n",
    "Using a list comprehension:\n",
    "\n",
    "Python\n",
    "\n",
    "evens = [x for x in range(10) if x % 2 == 0]\n",
    "print(evens) # Output: [0, 2, 4, 6, 8]\n",
    "3. Transformation and Filtering: Squares of odd numbers\n",
    "\n",
    "Python\n",
    "\n",
    "odd_squares = [x**2 for x in range(10) if x % 2 != 0]\n",
    "print(odd_squares) # Output: [1, 9, 25, 49, 81]\n",
    "4. Using if/else in the expression (conditional expression)\n",
    "\n",
    "When you need an else clause, the if/else part comes before the for clause.\n",
    "\n",
    "Python\n",
    "\n",
    "# If even, square it; otherwise, keep as is\n",
    "modified_numbers = [x**2 if x % 2 == 0 else x for x in range(10)]\n",
    "print(modified_numbers) # Output: [0, 1, 4, 3, 16, 5, 36, 7, 64, 9]\n",
    "5. Nested List Comprehensions (for nested loops)\n",
    "\n",
    "Useful for flattening lists or creating matrices.\n",
    "\n",
    "Python\n",
    "\n",
    "matrix = [[1, 2, 3], [4, 5, 6], [7, 8, 9]]\n",
    "\n",
    "# Flatten the matrix\n",
    "flat_list = [num for row in matrix for num in row]\n",
    "print(flat_list) # Output: [1, 2, 3, 4, 5, 6, 7, 8, 9]\n",
    "\n",
    "# Create a new matrix where each element is doubled\n",
    "doubled_matrix = [[num * 2 for num in row] for row in matrix]\n",
    "print(doubled_matrix) # Output: [[2, 4, 6], [8, 10, 12], [14, 16, 18]]\n",
    "6. List Comprehensions with zip()\n",
    "\n",
    "Python\n",
    "\n",
    "names = [\"Alice\", \"Bob\", \"Charlie\"]\n",
    "ages = [30, 24, 35]\n",
    "\n",
    "# Combine names and ages into a list of f-strings\n",
    "person_info = [f\"{name} is {age} years old.\" for name, age in zip(names, ages)]\n",
    "print(person_info)\n",
    "# Output: ['Alice is 30 years old.', 'Bob is 24 years old.', 'Charlie is 35 years old.']\n",
    "Benefits of List Comprehensions\n",
    "Conciseness: They allow you to write less code for common list-building tasks.\n",
    "Readability: For simple cases, they can be more readable than traditional loops.\n",
    "Performance: They are often faster than for loops, especially for large lists, because they are optimized at the C level in Python.\n",
    "When NOT to use List Comprehensions\n",
    "Complex Logic: If the logic for creating the list becomes too intricate with multiple nested loops, deeply nested if/else statements, or side effects, a traditional for loop might be clearer.\n",
    "Side Effects: List comprehensions are designed for building lists, not for performing actions with side effects (like printing or modifying external variables). For side effects, use a for loop.\n",
    "List comprehensions are a powerful and idiomatic Python feature that you'll see used extensively in Python code. Mastering them is key to writing clean and efficient Python.'''"
   ]
  },
  {
   "cell_type": "markdown",
   "id": "5b68268c",
   "metadata": {},
   "source": [
    "## 8. Dictionary Comprehension"
   ]
  },
  {
   "cell_type": "code",
   "execution_count": null,
   "id": "bc1fb566",
   "metadata": {},
   "outputs": [],
   "source": [
    "'''Dictionary comprehensions are a concise way to create dictionaries in Python. They are similar in concept to list comprehensions but generate key-value pairs instead of single elements.\n",
    "\n",
    "Basic Structure of a Dictionary Comprehension\n",
    "A dictionary comprehension consists of curly braces {} containing a key: value expression, followed by a for clause, then zero or more for or if clauses.\n",
    "\n",
    "The general syntax is:\n",
    "\n",
    "Python\n",
    "\n",
    "{key_expression: value_expression for item in iterable if condition}\n",
    "Where:\n",
    "\n",
    "key_expression: The expression that produces the key for each item in the new dictionary.\n",
    "value_expression: The expression that produces the value for each item in the new dictionary.\n",
    "item: The variable that takes on the value of each element from the iterable.\n",
    "iterable: The sequence you are iterating over.\n",
    "if condition (optional): A filter that includes item in the iteration only if the condition is True.\n",
    "Examples\n",
    "1. Basic Transformation: Squaring numbers and using them as keys and values\n",
    "\n",
    "Python\n",
    "\n",
    "# Using a for loop:\n",
    "squares_dict = {}\n",
    "for i in range(5):\n",
    "    squares_dict[i] = i**2\n",
    "print(squares_dict)\n",
    "# Output: {0: 0, 1: 1, 2: 4, 3: 9, 4: 16}\n",
    "\n",
    "# Using a dictionary comprehension:\n",
    "squares_dict_comp = {i: i**2 for i in range(5)}\n",
    "print(squares_dict_comp)\n",
    "# Output: {0: 0, 1: 1, 2: 4, 3: 9, 4: 16}\n",
    "2. Creating a dictionary from two lists using zip()\n",
    "\n",
    "Python\n",
    "\n",
    "keys = ['apple', 'banana', 'cherry']\n",
    "values = [10, 20, 30]\n",
    "\n",
    "# Using a for loop:\n",
    "fruit_prices = {}\n",
    "for key, value in zip(keys, values):\n",
    "    fruit_prices[key] = value\n",
    "print(fruit_prices)\n",
    "# Output: {'apple': 10, 'banana': 20, 'cherry': 30}\n",
    "\n",
    "# Using a dictionary comprehension:\n",
    "fruit_prices_comp = {key: value for key, value in zip(keys, values)}\n",
    "print(fruit_prices_comp)\n",
    "# Output: {'apple': 10, 'banana': 20, 'cherry': 30}\n",
    "3. Filtering elements: Only even numbers and their squares\n",
    "\n",
    "Python\n",
    "\n",
    "# Using a dictionary comprehension with an if condition:\n",
    "even_squares = {x: x**2 for x in range(10) if x % 2 == 0}\n",
    "print(even_squares)\n",
    "# Output: {0: 0, 2: 4, 4: 16, 6: 36, 8: 64}\n",
    "4. Conditional values (if/else in value expression)\n",
    "\n",
    "Python\n",
    "\n",
    "# Map numbers to 'even' or 'odd'\n",
    "parity_map = {x: 'even' if x % 2 == 0 else 'odd' for x in range(5)}\n",
    "print(parity_map)\n",
    "# Output: {0: 'even', 1: 'odd', 2: 'even', 3: 'odd', 4: 'even'}\n",
    "5. Creating a dictionary from an existing dictionary (transforming/filtering)\n",
    "\n",
    "Python\n",
    "\n",
    "original_dict = {'a': 1, 'b': 2, 'c': 3, 'd': 4}\n",
    "\n",
    "# Create a new dictionary with only values greater than 2, doubling them\n",
    "filtered_doubled = {k: v * 2 for k, v in original_dict.items() if v > 2}\n",
    "print(filtered_doubled)\n",
    "# Output: {'c': 6, 'd': 8}\n",
    "6. Swapping keys and values\n",
    "\n",
    "Python\n",
    "\n",
    "my_dict = {'name': 'Alice', 'age': 30, 'city': 'New York'}\n",
    "\n",
    "# Values must be hashable to become keys\n",
    "inverted_dict = {value: key for key, value in my_dict.items()}\n",
    "print(inverted_dict)\n",
    "# Output: {'Alice': 'name', 30: 'age', 'New York': 'city'}\n",
    "Benefits of Dictionary Comprehensions\n",
    "Conciseness: They allow you to write less code for common dictionary-building tasks.\n",
    "Readability: For many cases, they are more readable and express the intent more clearly than explicit loops.\n",
    "Efficiency: Similar to list comprehensions, they are often more performant than manual loop-based dictionary creation due to internal optimizations.\n",
    "Dictionary comprehensions are a powerful and elegant feature in Python, making your code cleaner and more efficient when you need to construct dictionaries from other iterables.'''"
   ]
  }
 ],
 "metadata": {
  "kernelspec": {
   "display_name": "Python 3",
   "language": "python",
   "name": "python3"
  },
  "language_info": {
   "codemirror_mode": {
    "name": "ipython",
    "version": 3
   },
   "file_extension": ".py",
   "mimetype": "text/x-python",
   "name": "python",
   "nbconvert_exporter": "python",
   "pygments_lexer": "ipython3",
   "version": "3.12.0"
  }
 },
 "nbformat": 4,
 "nbformat_minor": 5
}
