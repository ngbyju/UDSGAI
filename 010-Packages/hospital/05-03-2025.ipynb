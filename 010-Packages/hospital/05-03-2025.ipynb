{
 "cells": [
  {
   "cell_type": "code",
   "execution_count": 1,
   "id": "e9781fc1",
   "metadata": {},
   "outputs": [],
   "source": [
    "import sys\n",
    "import os"
   ]
  },
  {
   "cell_type": "code",
   "execution_count": 11,
   "id": "c4944192",
   "metadata": {},
   "outputs": [],
   "source": [
    "# Inheritance\n",
    "class Speciality():\n",
    "    def surgeon(self):\n",
    "        print(\"sugeons available.\")\n",
    "\n",
    "    def gynec(self):\n",
    "        print(\"Gynecologists available.\")\n",
    "    \n",
    "    def neuro(self):\n",
    "        print(\"Neurologists available.\")\n",
    "\n",
    "\n",
    "class GenHospital(Speciality):\n",
    "    def opd(self):\n",
    "        print(\"General Medicine Doctors available.\")\n",
    "    \n",
    "\n",
    "class MultiSpecHospital(GenHospital, Speciality):\n",
    "    def mega(self):\n",
    "        print(\"All Doctors available at MultiSpec Hospital.\")\n"
   ]
  },
  {
   "cell_type": "code",
   "execution_count": 12,
   "id": "3d9089ab",
   "metadata": {},
   "outputs": [
    {
     "name": "stdout",
     "output_type": "stream",
     "text": [
      "General Medicine Doctors available.\n"
     ]
    }
   ],
   "source": [
    "genhosp1 = GenHospital()\n",
    "\n",
    "genhosp1.opd()"
   ]
  },
  {
   "cell_type": "code",
   "execution_count": 13,
   "id": "6a3b4421",
   "metadata": {},
   "outputs": [
    {
     "name": "stdout",
     "output_type": "stream",
     "text": [
      "General Medicine Doctors available.\n"
     ]
    }
   ],
   "source": [
    "multispec1 = MultiSpecHospital()\n",
    "multispec1.opd()"
   ]
  },
  {
   "cell_type": "code",
   "execution_count": 14,
   "id": "fa3de957",
   "metadata": {},
   "outputs": [
    {
     "name": "stdout",
     "output_type": "stream",
     "text": [
      "Gynecologists available.\n"
     ]
    }
   ],
   "source": [
    "multispec1.gynec()"
   ]
  },
  {
   "cell_type": "code",
   "execution_count": 15,
   "id": "a7354e66",
   "metadata": {},
   "outputs": [
    {
     "name": "stdout",
     "output_type": "stream",
     "text": [
      "Neurologists available.\n"
     ]
    }
   ],
   "source": [
    "multispec1.neuro()"
   ]
  },
  {
   "cell_type": "code",
   "execution_count": 16,
   "id": "71346d74",
   "metadata": {},
   "outputs": [
    {
     "name": "stdout",
     "output_type": "stream",
     "text": [
      "Neurologists available.\n"
     ]
    }
   ],
   "source": [
    "genhosp1.neuro()"
   ]
  },
  {
   "cell_type": "code",
   "execution_count": 17,
   "id": "a64b8c64",
   "metadata": {},
   "outputs": [
    {
     "name": "stdout",
     "output_type": "stream",
     "text": [
      "Gynecologists available.\n"
     ]
    }
   ],
   "source": [
    "genhosp1.gynec()"
   ]
  },
  {
   "cell_type": "code",
   "execution_count": 18,
   "id": "616c6e9b",
   "metadata": {},
   "outputs": [
    {
     "name": "stdout",
     "output_type": "stream",
     "text": [
      "sugeons available.\n"
     ]
    }
   ],
   "source": [
    "genhosp1.surgeon()"
   ]
  },
  {
   "cell_type": "code",
   "execution_count": null,
   "id": "6bdd7995",
   "metadata": {},
   "outputs": [],
   "source": []
  }
 ],
 "metadata": {
  "kernelspec": {
   "display_name": "Python 3",
   "language": "python",
   "name": "python3"
  },
  "language_info": {
   "codemirror_mode": {
    "name": "ipython",
    "version": 3
   },
   "file_extension": ".py",
   "mimetype": "text/x-python",
   "name": "python",
   "nbconvert_exporter": "python",
   "pygments_lexer": "ipython3",
   "version": "3.12.0"
  }
 },
 "nbformat": 4,
 "nbformat_minor": 5
}
