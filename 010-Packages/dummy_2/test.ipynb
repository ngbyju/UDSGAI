{
 "cells": [
  {
   "cell_type": "code",
   "execution_count": null,
   "id": "f6f7cf2c",
   "metadata": {},
   "outputs": [],
   "source": [
    "from hospital.admission.utils import add\n",
    "# does not work"
   ]
  },
  {
   "cell_type": "code",
   "execution_count": null,
   "id": "e4d416c4",
   "metadata": {},
   "outputs": [],
   "source": [
    "sys.path.append(os.path.abspath(\"C:/Users/Byju/Dropbox/KNA/UDSGA/05-03-2025\"))"
   ]
  }
 ],
 "metadata": {
  "language_info": {
   "name": "python"
  }
 },
 "nbformat": 4,
 "nbformat_minor": 5
}
