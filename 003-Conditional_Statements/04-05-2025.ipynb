{
 "cells": [
  {
   "cell_type": "code",
   "execution_count": 2,
   "metadata": {},
   "outputs": [
    {
     "name": "stdout",
     "output_type": "stream",
     "text": [
      "Welcome Instructor\n"
     ]
    }
   ],
   "source": [
    "name =\"monal\"\n",
    "if name == \"monal\":\n",
    "    print(\"Welcome Instructor\")\n",
    "else:\n",
    "    print(\"Welcome Attendees\")"
   ]
  },
  {
   "cell_type": "code",
   "execution_count": 1,
   "metadata": {},
   "outputs": [],
   "source": [
    "name = input(\"What is your name? \")\n",
    "# provide input as Byju. Byju gets stord in the variable name"
   ]
  },
  {
   "cell_type": "code",
   "execution_count": 2,
   "metadata": {},
   "outputs": [
    {
     "name": "stdout",
     "output_type": "stream",
     "text": [
      "Welcome Attendees\n"
     ]
    }
   ],
   "source": [
    "if name.lower() == \"monal\":\n",
    "    print(\"Welcome Instructor\")\n",
    "else:\n",
    "    print(\"Welcome Attendees\")"
   ]
  },
  {
   "cell_type": "code",
   "execution_count": 5,
   "metadata": {},
   "outputs": [
    {
     "name": "stdout",
     "output_type": "stream",
     "text": [
      "We are not doing any operation\n"
     ]
    }
   ],
   "source": [
    "# operation_name = \"add\"\n",
    "# operation_name =\"minus\"\n",
    "# operation_name = \"multiply\"\n",
    "# operation_name = \"division\"\n",
    "# operation_name = \"floor division\"\n",
    "# #operation_name = \"modulus\"\n",
    "# operation_name = \"exponentiation\"\n",
    "operation_name = \"nothing\"\n",
    "\n",
    "\n",
    "a = 2 \n",
    "b = 3\n",
    "if operation_name.lower() == \"add\":\n",
    "    print(\"Add the two numbers\")\n",
    "    print(a  + b)\n",
    "elif operation_name.lower() == \"minus\":\n",
    "    print(\"Subtract the smaller number from larger number\")\n",
    "    if (a>b):\n",
    "        print(a-b)\n",
    "    else:\n",
    "        print(b-a)\n",
    "elif operation_name.lower() == \"multiply\":\n",
    "    print(\"Multiply the two numbers\")\n",
    "    print(a * b)\n",
    "elif operation_name.lower() == \"division\":\n",
    "    print(\"Divide the first number by the last number\")\n",
    "    print(a / b)\n",
    "elif operation_name.lower() == \"floor division\":\n",
    "    print(\"Apply a floor division\")\n",
    "    print(a // b)\n",
    "elif operation_name.lower() == \"modulus\":\n",
    "    print(\"Apply a modulus operation\")\n",
    "    if (a>b):\n",
    "        print(a%b)\n",
    "    else:\n",
    "        print(b%a)\n",
    "elif operation_name.lower() == \"exponentiation\":\n",
    "    print(\"The power of larger number over the other\")\n",
    "    if (a>b):\n",
    "            print(a**b)\n",
    "    else:\n",
    "        print(b**a)\n",
    "else:\n",
    "    print(\"We are not doing any operation\")\n",
    "\n"
   ]
  },
  {
   "cell_type": "code",
   "execution_count": 6,
   "metadata": {},
   "outputs": [],
   "source": [
    "amount = int(input(\"Enter the amount in dollars:\"))\n",
    "time = int(input(\"Enter the time in hours:\"))"
   ]
  },
  {
   "cell_type": "code",
   "execution_count": 7,
   "metadata": {},
   "outputs": [
    {
     "name": "stdout",
     "output_type": "stream",
     "text": [
      "Go to the Icecream Parlour.\n"
     ]
    }
   ],
   "source": [
    "# amount = 300\n",
    "# time = 4\n",
    "if amount > 200:\n",
    "    if time < 7:\n",
    "        print(\"Go to the Theme Park.\")\n",
    "    else:\n",
    "        print(\"Go to the Home.\")\n",
    "elif amount < 200:\n",
    "    if time > 7:\n",
    "        print(\"Go to the Icecream Parlour.\")\n",
    "    else:\n",
    "        print(\"Go to the Beach.\")\n",
    "\n",
    "\n"
   ]
  },
  {
   "cell_type": "code",
   "execution_count": null,
   "metadata": {},
   "outputs": [],
   "source": []
  },
  {
   "cell_type": "code",
   "execution_count": null,
   "metadata": {},
   "outputs": [],
   "source": [
    "name =\"monal\"\n",
    "access = "
   ]
  }
 ],
 "metadata": {
  "kernelspec": {
   "display_name": "Python 3",
   "language": "python",
   "name": "python3"
  },
  "language_info": {
   "codemirror_mode": {
    "name": "ipython",
    "version": 3
   },
   "file_extension": ".py",
   "mimetype": "text/x-python",
   "name": "python",
   "nbconvert_exporter": "python",
   "pygments_lexer": "ipython3",
   "version": "3.12.0"
  }
 },
 "nbformat": 4,
 "nbformat_minor": 2
}
