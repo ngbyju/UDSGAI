{
 "cells": [
  {
   "cell_type": "code",
   "execution_count": 1,
   "metadata": {},
   "outputs": [],
   "source": [
    "#Nested if\n",
    "\n",
    "condition1 = \"fruit\"\n",
    "condition2  = \"apple\""
   ]
  },
  {
   "cell_type": "markdown",
   "metadata": {},
   "source": [
    "### BELOW SCRIPT WORKS, BUT NOT RECOMMENDED"
   ]
  },
  {
   "cell_type": "code",
   "execution_count": null,
   "metadata": {},
   "outputs": [
    {
     "name": "stdout",
     "output_type": "stream",
     "text": [
      "User wants to buy a fruit\n",
      "User did not opt to buy apples\n",
      "Task is incomplete\n"
     ]
    }
   ],
   "source": [
    "answer1 = input(\"write the item you want to buy:\")\n",
    "answer2 = input(\"write the fruit you want to buy:\")\n",
    "\n",
    "if answer1 == \"fruit\":\n",
    "    print(\"User wants to buy a fruit\")\n",
    "    if answer2 == \"apple\":\n",
    "        print(\"User wants to buy apples.\")\n",
    "        print(\"Task completed\")\n",
    "    else:\n",
    "        print(\"User did not opt to buy apples\")\n",
    "        print(\"Task is incomplete\")\n",
    "else: \n",
    "    print(\"User didnot opt to buy a fruit\")\n",
    "\n",
    "\n",
    "# Test case\n",
    "# #Run the program and when prompted enter first fruit and then enter orange"
   ]
  },
  {
   "cell_type": "markdown",
   "metadata": {},
   "source": [
    "### RECOMMENDED SCRIPT"
   ]
  },
  {
   "cell_type": "code",
   "execution_count": null,
   "metadata": {},
   "outputs": [],
   "source": [
    "# Recommended. Asl for 2nd inout only if 1st input pass the condition\n",
    "# answer1 = input(\"write the item you want to buy:\")\n",
    "\n",
    "if answer1 == \"fruit\":\n",
    "    print(\"User wants to buy a fruit\")\n",
    "    answer2 = input(\"write the fruit you want to buy:\")\n",
    "    if answer2 == \"apple\":\n",
    "        print(\"User wants to buy apples.\")\n",
    "        print(\"Task completed\")\n",
    "    else:\n",
    "        print(\"User did not opt to buy apples\")\n",
    "        print(\"Task is incomplete\")\n",
    "else: \n",
    "    print(\"User didnot opt to buy a fruit\")\n",
    "\n",
    "\n",
    "# Test case\n",
    "# #Run the program and when prompted enter first fruit and then enter orange"
   ]
  },
  {
   "cell_type": "markdown",
   "metadata": {},
   "source": [
    "### Solution to Homework"
   ]
  },
  {
   "cell_type": "code",
   "execution_count": 4,
   "metadata": {},
   "outputs": [
    {
     "name": "stdout",
     "output_type": "stream",
     "text": [
      "Go to the Home.\n"
     ]
    }
   ],
   "source": [
    "amount = int(input(\"Enter the amount in dollars:\"))\n",
    "\n",
    "if amount > 200:\n",
    "    time = int(input(\"Enter the time in hours:\"))\n",
    "    if time < 7:\n",
    "        print(\"Go to the Theme Park.\")\n",
    "    else:\n",
    "        print(\"Go to the Home.\")\n",
    "elif amount < 200:\n",
    "    time = int(input(\"Enter the time in hours:\"))\n",
    "    if time > 7:\n",
    "        print(\"Go to the Icecream Parlour.\")\n",
    "    else:\n",
    "        print(\"Go to the Beach.\")\n"
   ]
  },
  {
   "cell_type": "code",
   "execution_count": null,
   "metadata": {},
   "outputs": [],
   "source": []
  }
 ],
 "metadata": {
  "kernelspec": {
   "display_name": "Python 3",
   "language": "python",
   "name": "python3"
  },
  "language_info": {
   "codemirror_mode": {
    "name": "ipython",
    "version": 3
   },
   "file_extension": ".py",
   "mimetype": "text/x-python",
   "name": "python",
   "nbconvert_exporter": "python",
   "pygments_lexer": "ipython3",
   "version": "3.12.0"
  }
 },
 "nbformat": 4,
 "nbformat_minor": 2
}
